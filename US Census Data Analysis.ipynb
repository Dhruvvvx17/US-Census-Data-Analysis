{
  "cells": [
    {
      "cell_type": "markdown",
      "metadata": {
        "id": "qr_9Vmoy68E1"
      },
      "source": [
        "This is the Part 2 of the Homework 1 assignment. I am using the [Census Income dataset](https://archive.ics.uci.edu/ml/datasets/Adult) for this assignment. The task is to use this dataset and predict whether an individual's income exceeds $50,000 per year or not based on a set of attributes/features (including age, occupation, education, and other factors). The dataset was constructed from the 1994 US Census database."
      ]
    },
    {
      "cell_type": "markdown",
      "metadata": {
        "id": "QFqEGL2Va-Pj"
      },
      "source": [
        "---\n",
        "\n",
        "As part of this homework, I am going to use Random Forest and K-nearest neighbors for the binary classification task.\n",
        "\n",
        "I will also be using GirdSearchCV and K-fold cross validation to get the most optimal set of hyperparameters for the two models."
      ]
    },
    {
      "cell_type": "markdown",
      "metadata": {
        "id": "Xl-P2MgI8dW_"
      },
      "source": [
        "### Import necessary packages"
      ]
    },
    {
      "cell_type": "code",
      "execution_count": 1,
      "metadata": {
        "id": "FEhgmRrkXCaf"
      },
      "outputs": [],
      "source": [
        "# basic packages\n",
        "import pandas as pd\n",
        "import numpy as np\n",
        "\n",
        "# warning config\n",
        "import warnings \n",
        "warnings.filterwarnings('ignore')\n",
        "\n",
        "# data visualization packages\n",
        "import matplotlib.pyplot as plt\n",
        "import seaborn as sns\n",
        "%matplotlib inline\n",
        "\n",
        "# basic sklearn packages\n",
        "from sklearn import preprocessing\n",
        "from sklearn.model_selection import GridSearchCV\n",
        "from sklearn.model_selection import train_test_split\n",
        "from sklearn.preprocessing import StandardScaler\n",
        "\n",
        "# sklearn model packages\n",
        "from sklearn.ensemble import RandomForestClassifier\n",
        "from sklearn.neighbors import KNeighborsClassifier\n",
        "\n",
        "# sklearn metric packages\n",
        "from sklearn.metrics import accuracy_score\n",
        "from sklearn.metrics import precision_score, recall_score\n",
        "from sklearn.metrics import confusion_matrix"
      ]
    },
    {
      "cell_type": "markdown",
      "metadata": {
        "id": "rg1fus4_8hLk"
      },
      "source": [
        "### Read data and Handle missing data"
      ]
    },
    {
      "cell_type": "markdown",
      "metadata": {
        "id": "komw4saP8muE"
      },
      "source": [
        "Replace all the '?' with NaN for now, later replace NaN by some appropriate value"
      ]
    },
    {
      "cell_type": "code",
      "execution_count": 2,
      "metadata": {
        "id": "UbsnxXRiXDta"
      },
      "outputs": [],
      "source": [
        "raw_data = pd.read_csv('https://archive.ics.uci.edu/ml/machine-learning-databases/adult/adult.data', header=None)\n",
        "raw_data.columns = ['age', 'workclass', 'fnlwgt', 'education', 'education-num', \n",
        "                'marital-status', 'occupation', 'relationship', 'race', 'sex', \n",
        "                'capital-gain', 'capital-loss', 'hours-per-week', 'native-country',\n",
        "                'class']\n",
        "\n",
        "raw_data = raw_data.drop(['fnlwgt', 'education-num'], axis=1)\n",
        "\n",
        "# replace all '?' with Nan values\n",
        "raw_data = raw_data.replace(' ?', np.nan)"
      ]
    },
    {
      "cell_type": "markdown",
      "metadata": {
        "id": "P0o0cEdU8xVg"
      },
      "source": [
        "View a sample of the dataset"
      ]
    },
    {
      "cell_type": "code",
      "execution_count": 7,
      "metadata": {
        "colab": {
          "base_uri": "https://localhost:8080/",
          "height": 363
        },
        "id": "A4st4NgXXFoh",
        "outputId": "18e9db31-8e5d-443d-8e81-0e867f66d739"
      },
      "outputs": [
        {
          "data": {
            "text/html": [
              "\n",
              "  <div id=\"df-95a43bfa-fa07-4c02-a83d-e3af0f881f33\">\n",
              "    <div class=\"colab-df-container\">\n",
              "      <div>\n",
              "<style scoped>\n",
              "    .dataframe tbody tr th:only-of-type {\n",
              "        vertical-align: middle;\n",
              "    }\n",
              "\n",
              "    .dataframe tbody tr th {\n",
              "        vertical-align: top;\n",
              "    }\n",
              "\n",
              "    .dataframe thead th {\n",
              "        text-align: right;\n",
              "    }\n",
              "</style>\n",
              "<table border=\"1\" class=\"dataframe\">\n",
              "  <thead>\n",
              "    <tr style=\"text-align: right;\">\n",
              "      <th></th>\n",
              "      <th>age</th>\n",
              "      <th>workclass</th>\n",
              "      <th>education</th>\n",
              "      <th>marital-status</th>\n",
              "      <th>occupation</th>\n",
              "      <th>relationship</th>\n",
              "      <th>race</th>\n",
              "      <th>sex</th>\n",
              "      <th>capital-gain</th>\n",
              "      <th>capital-loss</th>\n",
              "      <th>hours-per-week</th>\n",
              "      <th>native-country</th>\n",
              "      <th>class</th>\n",
              "    </tr>\n",
              "  </thead>\n",
              "  <tbody>\n",
              "    <tr>\n",
              "      <th>14151</th>\n",
              "      <td>33</td>\n",
              "      <td>NaN</td>\n",
              "      <td>Some-college</td>\n",
              "      <td>Divorced</td>\n",
              "      <td>NaN</td>\n",
              "      <td>Unmarried</td>\n",
              "      <td>Amer-Indian-Eskimo</td>\n",
              "      <td>Male</td>\n",
              "      <td>0</td>\n",
              "      <td>0</td>\n",
              "      <td>30</td>\n",
              "      <td>United-States</td>\n",
              "      <td>&lt;=50K</td>\n",
              "    </tr>\n",
              "    <tr>\n",
              "      <th>26544</th>\n",
              "      <td>43</td>\n",
              "      <td>Private</td>\n",
              "      <td>Bachelors</td>\n",
              "      <td>Divorced</td>\n",
              "      <td>Adm-clerical</td>\n",
              "      <td>Unmarried</td>\n",
              "      <td>White</td>\n",
              "      <td>Female</td>\n",
              "      <td>0</td>\n",
              "      <td>0</td>\n",
              "      <td>40</td>\n",
              "      <td>Germany</td>\n",
              "      <td>&lt;=50K</td>\n",
              "    </tr>\n",
              "    <tr>\n",
              "      <th>20576</th>\n",
              "      <td>68</td>\n",
              "      <td>NaN</td>\n",
              "      <td>Doctorate</td>\n",
              "      <td>Married-civ-spouse</td>\n",
              "      <td>NaN</td>\n",
              "      <td>Husband</td>\n",
              "      <td>White</td>\n",
              "      <td>Male</td>\n",
              "      <td>0</td>\n",
              "      <td>0</td>\n",
              "      <td>70</td>\n",
              "      <td>United-States</td>\n",
              "      <td>&lt;=50K</td>\n",
              "    </tr>\n",
              "    <tr>\n",
              "      <th>32180</th>\n",
              "      <td>19</td>\n",
              "      <td>Private</td>\n",
              "      <td>Some-college</td>\n",
              "      <td>Never-married</td>\n",
              "      <td>Sales</td>\n",
              "      <td>Own-child</td>\n",
              "      <td>White</td>\n",
              "      <td>Female</td>\n",
              "      <td>0</td>\n",
              "      <td>0</td>\n",
              "      <td>30</td>\n",
              "      <td>United-States</td>\n",
              "      <td>&lt;=50K</td>\n",
              "    </tr>\n",
              "    <tr>\n",
              "      <th>26711</th>\n",
              "      <td>26</td>\n",
              "      <td>Private</td>\n",
              "      <td>HS-grad</td>\n",
              "      <td>Married-civ-spouse</td>\n",
              "      <td>Craft-repair</td>\n",
              "      <td>Husband</td>\n",
              "      <td>White</td>\n",
              "      <td>Male</td>\n",
              "      <td>0</td>\n",
              "      <td>0</td>\n",
              "      <td>50</td>\n",
              "      <td>United-States</td>\n",
              "      <td>&lt;=50K</td>\n",
              "    </tr>\n",
              "    <tr>\n",
              "      <th>10918</th>\n",
              "      <td>20</td>\n",
              "      <td>Private</td>\n",
              "      <td>12th</td>\n",
              "      <td>Never-married</td>\n",
              "      <td>Prof-specialty</td>\n",
              "      <td>Not-in-family</td>\n",
              "      <td>White</td>\n",
              "      <td>Female</td>\n",
              "      <td>0</td>\n",
              "      <td>0</td>\n",
              "      <td>35</td>\n",
              "      <td>Italy</td>\n",
              "      <td>&lt;=50K</td>\n",
              "    </tr>\n",
              "    <tr>\n",
              "      <th>30552</th>\n",
              "      <td>39</td>\n",
              "      <td>Private</td>\n",
              "      <td>HS-grad</td>\n",
              "      <td>Married-civ-spouse</td>\n",
              "      <td>Transport-moving</td>\n",
              "      <td>Husband</td>\n",
              "      <td>White</td>\n",
              "      <td>Male</td>\n",
              "      <td>0</td>\n",
              "      <td>0</td>\n",
              "      <td>40</td>\n",
              "      <td>United-States</td>\n",
              "      <td>&lt;=50K</td>\n",
              "    </tr>\n",
              "    <tr>\n",
              "      <th>13423</th>\n",
              "      <td>36</td>\n",
              "      <td>Local-gov</td>\n",
              "      <td>Bachelors</td>\n",
              "      <td>Never-married</td>\n",
              "      <td>Protective-serv</td>\n",
              "      <td>Not-in-family</td>\n",
              "      <td>White</td>\n",
              "      <td>Male</td>\n",
              "      <td>0</td>\n",
              "      <td>0</td>\n",
              "      <td>60</td>\n",
              "      <td>United-States</td>\n",
              "      <td>&lt;=50K</td>\n",
              "    </tr>\n",
              "    <tr>\n",
              "      <th>11415</th>\n",
              "      <td>19</td>\n",
              "      <td>Private</td>\n",
              "      <td>HS-grad</td>\n",
              "      <td>Never-married</td>\n",
              "      <td>Sales</td>\n",
              "      <td>Own-child</td>\n",
              "      <td>White</td>\n",
              "      <td>Female</td>\n",
              "      <td>0</td>\n",
              "      <td>0</td>\n",
              "      <td>35</td>\n",
              "      <td>United-States</td>\n",
              "      <td>&lt;=50K</td>\n",
              "    </tr>\n",
              "    <tr>\n",
              "      <th>14802</th>\n",
              "      <td>48</td>\n",
              "      <td>Private</td>\n",
              "      <td>Assoc-voc</td>\n",
              "      <td>Married-civ-spouse</td>\n",
              "      <td>Sales</td>\n",
              "      <td>Husband</td>\n",
              "      <td>White</td>\n",
              "      <td>Male</td>\n",
              "      <td>0</td>\n",
              "      <td>0</td>\n",
              "      <td>40</td>\n",
              "      <td>United-States</td>\n",
              "      <td>&gt;50K</td>\n",
              "    </tr>\n",
              "  </tbody>\n",
              "</table>\n",
              "</div>\n",
              "      <button class=\"colab-df-convert\" onclick=\"convertToInteractive('df-95a43bfa-fa07-4c02-a83d-e3af0f881f33')\"\n",
              "              title=\"Convert this dataframe to an interactive table.\"\n",
              "              style=\"display:none;\">\n",
              "        \n",
              "  <svg xmlns=\"http://www.w3.org/2000/svg\" height=\"24px\"viewBox=\"0 0 24 24\"\n",
              "       width=\"24px\">\n",
              "    <path d=\"M0 0h24v24H0V0z\" fill=\"none\"/>\n",
              "    <path d=\"M18.56 5.44l.94 2.06.94-2.06 2.06-.94-2.06-.94-.94-2.06-.94 2.06-2.06.94zm-11 1L8.5 8.5l.94-2.06 2.06-.94-2.06-.94L8.5 2.5l-.94 2.06-2.06.94zm10 10l.94 2.06.94-2.06 2.06-.94-2.06-.94-.94-2.06-.94 2.06-2.06.94z\"/><path d=\"M17.41 7.96l-1.37-1.37c-.4-.4-.92-.59-1.43-.59-.52 0-1.04.2-1.43.59L10.3 9.45l-7.72 7.72c-.78.78-.78 2.05 0 2.83L4 21.41c.39.39.9.59 1.41.59.51 0 1.02-.2 1.41-.59l7.78-7.78 2.81-2.81c.8-.78.8-2.07 0-2.86zM5.41 20L4 18.59l7.72-7.72 1.47 1.35L5.41 20z\"/>\n",
              "  </svg>\n",
              "      </button>\n",
              "      \n",
              "  <style>\n",
              "    .colab-df-container {\n",
              "      display:flex;\n",
              "      flex-wrap:wrap;\n",
              "      gap: 12px;\n",
              "    }\n",
              "\n",
              "    .colab-df-convert {\n",
              "      background-color: #E8F0FE;\n",
              "      border: none;\n",
              "      border-radius: 50%;\n",
              "      cursor: pointer;\n",
              "      display: none;\n",
              "      fill: #1967D2;\n",
              "      height: 32px;\n",
              "      padding: 0 0 0 0;\n",
              "      width: 32px;\n",
              "    }\n",
              "\n",
              "    .colab-df-convert:hover {\n",
              "      background-color: #E2EBFA;\n",
              "      box-shadow: 0px 1px 2px rgba(60, 64, 67, 0.3), 0px 1px 3px 1px rgba(60, 64, 67, 0.15);\n",
              "      fill: #174EA6;\n",
              "    }\n",
              "\n",
              "    [theme=dark] .colab-df-convert {\n",
              "      background-color: #3B4455;\n",
              "      fill: #D2E3FC;\n",
              "    }\n",
              "\n",
              "    [theme=dark] .colab-df-convert:hover {\n",
              "      background-color: #434B5C;\n",
              "      box-shadow: 0px 1px 3px 1px rgba(0, 0, 0, 0.15);\n",
              "      filter: drop-shadow(0px 1px 2px rgba(0, 0, 0, 0.3));\n",
              "      fill: #FFFFFF;\n",
              "    }\n",
              "  </style>\n",
              "\n",
              "      <script>\n",
              "        const buttonEl =\n",
              "          document.querySelector('#df-95a43bfa-fa07-4c02-a83d-e3af0f881f33 button.colab-df-convert');\n",
              "        buttonEl.style.display =\n",
              "          google.colab.kernel.accessAllowed ? 'block' : 'none';\n",
              "\n",
              "        async function convertToInteractive(key) {\n",
              "          const element = document.querySelector('#df-95a43bfa-fa07-4c02-a83d-e3af0f881f33');\n",
              "          const dataTable =\n",
              "            await google.colab.kernel.invokeFunction('convertToInteractive',\n",
              "                                                     [key], {});\n",
              "          if (!dataTable) return;\n",
              "\n",
              "          const docLinkHtml = 'Like what you see? Visit the ' +\n",
              "            '<a target=\"_blank\" href=https://colab.research.google.com/notebooks/data_table.ipynb>data table notebook</a>'\n",
              "            + ' to learn more about interactive tables.';\n",
              "          element.innerHTML = '';\n",
              "          dataTable['output_type'] = 'display_data';\n",
              "          await google.colab.output.renderOutput(dataTable, element);\n",
              "          const docLink = document.createElement('div');\n",
              "          docLink.innerHTML = docLinkHtml;\n",
              "          element.appendChild(docLink);\n",
              "        }\n",
              "      </script>\n",
              "    </div>\n",
              "  </div>\n",
              "  "
            ],
            "text/plain": [
              "       age   workclass      education       marital-status         occupation  \\\n",
              "14151   33         NaN   Some-college             Divorced                NaN   \n",
              "26544   43     Private      Bachelors             Divorced       Adm-clerical   \n",
              "20576   68         NaN      Doctorate   Married-civ-spouse                NaN   \n",
              "32180   19     Private   Some-college        Never-married              Sales   \n",
              "26711   26     Private        HS-grad   Married-civ-spouse       Craft-repair   \n",
              "10918   20     Private           12th        Never-married     Prof-specialty   \n",
              "30552   39     Private        HS-grad   Married-civ-spouse   Transport-moving   \n",
              "13423   36   Local-gov      Bachelors        Never-married    Protective-serv   \n",
              "11415   19     Private        HS-grad        Never-married              Sales   \n",
              "14802   48     Private      Assoc-voc   Married-civ-spouse              Sales   \n",
              "\n",
              "         relationship                 race      sex  capital-gain  \\\n",
              "14151       Unmarried   Amer-Indian-Eskimo     Male             0   \n",
              "26544       Unmarried                White   Female             0   \n",
              "20576         Husband                White     Male             0   \n",
              "32180       Own-child                White   Female             0   \n",
              "26711         Husband                White     Male             0   \n",
              "10918   Not-in-family                White   Female             0   \n",
              "30552         Husband                White     Male             0   \n",
              "13423   Not-in-family                White     Male             0   \n",
              "11415       Own-child                White   Female             0   \n",
              "14802         Husband                White     Male             0   \n",
              "\n",
              "       capital-loss  hours-per-week  native-country   class  \n",
              "14151             0              30   United-States   <=50K  \n",
              "26544             0              40         Germany   <=50K  \n",
              "20576             0              70   United-States   <=50K  \n",
              "32180             0              30   United-States   <=50K  \n",
              "26711             0              50   United-States   <=50K  \n",
              "10918             0              35           Italy   <=50K  \n",
              "30552             0              40   United-States   <=50K  \n",
              "13423             0              60   United-States   <=50K  \n",
              "11415             0              35   United-States   <=50K  \n",
              "14802             0              40   United-States    >50K  "
            ]
          },
          "execution_count": 7,
          "metadata": {},
          "output_type": "execute_result"
        }
      ],
      "source": [
        "# sample dataset\n",
        "raw_data.sample(10)"
      ]
    },
    {
      "cell_type": "code",
      "execution_count": 8,
      "metadata": {
        "colab": {
          "base_uri": "https://localhost:8080/"
        },
        "id": "r0rETqSk86GA",
        "outputId": "1d8636e6-0e91-4989-89a7-e7b054e4920e"
      },
      "outputs": [
        {
          "data": {
            "text/plain": [
              "(32561, 13)"
            ]
          },
          "execution_count": 8,
          "metadata": {},
          "output_type": "execute_result"
        }
      ],
      "source": [
        "# the data contains 32,561 data points and 13 attributes\n",
        "raw_data.shape"
      ]
    },
    {
      "cell_type": "code",
      "execution_count": 9,
      "metadata": {
        "colab": {
          "base_uri": "https://localhost:8080/"
        },
        "id": "tezHc1Zg87J5",
        "outputId": "8bda2cea-caa8-43b6-f3ae-6e27a9144214"
      },
      "outputs": [
        {
          "name": "stdout",
          "output_type": "stream",
          "text": [
            "<class 'pandas.core.frame.DataFrame'>\n",
            "RangeIndex: 32561 entries, 0 to 32560\n",
            "Data columns (total 13 columns):\n",
            " #   Column          Non-Null Count  Dtype \n",
            "---  ------          --------------  ----- \n",
            " 0   age             32561 non-null  int64 \n",
            " 1   workclass       30725 non-null  object\n",
            " 2   education       32561 non-null  object\n",
            " 3   marital-status  32561 non-null  object\n",
            " 4   occupation      30718 non-null  object\n",
            " 5   relationship    32561 non-null  object\n",
            " 6   race            32561 non-null  object\n",
            " 7   sex             32561 non-null  object\n",
            " 8   capital-gain    32561 non-null  int64 \n",
            " 9   capital-loss    32561 non-null  int64 \n",
            " 10  hours-per-week  32561 non-null  int64 \n",
            " 11  native-country  31978 non-null  object\n",
            " 12  class           32561 non-null  object\n",
            "dtypes: int64(4), object(9)\n",
            "memory usage: 3.2+ MB\n"
          ]
        }
      ],
      "source": [
        "# description of the data\n",
        "raw_data.info()"
      ]
    },
    {
      "cell_type": "markdown",
      "metadata": {
        "id": "_yTmK8VZ9PiJ"
      },
      "source": [
        "It can be observed from \"non-null\" column above that not all attributes have 32561 counts, hence some NaN values exist.\n",
        "\n",
        "Columns with NaN values - workclass, occupation, native-country"
      ]
    },
    {
      "cell_type": "code",
      "execution_count": 10,
      "metadata": {
        "id": "G2WHRRQvXHIX"
      },
      "outputs": [],
      "source": [
        "# columns with Nan values\n",
        "NaN_cols = ['workclass', 'occupation', 'native-country']\n",
        "\n",
        "# iterate over these columns and replace NaN value with the column mode\n",
        "for col in NaN_cols:\n",
        "  raw_data[col].fillna(raw_data[col].mode()[0], inplace=True)"
      ]
    },
    {
      "cell_type": "code",
      "execution_count": 11,
      "metadata": {
        "colab": {
          "base_uri": "https://localhost:8080/"
        },
        "id": "Hxs5PUEf9Mbl",
        "outputId": "402ed949-45c6-41f4-f67c-e458c1ba81d9"
      },
      "outputs": [
        {
          "name": "stdout",
          "output_type": "stream",
          "text": [
            "<class 'pandas.core.frame.DataFrame'>\n",
            "RangeIndex: 32561 entries, 0 to 32560\n",
            "Data columns (total 13 columns):\n",
            " #   Column          Non-Null Count  Dtype \n",
            "---  ------          --------------  ----- \n",
            " 0   age             32561 non-null  int64 \n",
            " 1   workclass       32561 non-null  object\n",
            " 2   education       32561 non-null  object\n",
            " 3   marital-status  32561 non-null  object\n",
            " 4   occupation      32561 non-null  object\n",
            " 5   relationship    32561 non-null  object\n",
            " 6   race            32561 non-null  object\n",
            " 7   sex             32561 non-null  object\n",
            " 8   capital-gain    32561 non-null  int64 \n",
            " 9   capital-loss    32561 non-null  int64 \n",
            " 10  hours-per-week  32561 non-null  int64 \n",
            " 11  native-country  32561 non-null  object\n",
            " 12  class           32561 non-null  object\n",
            "dtypes: int64(4), object(9)\n",
            "memory usage: 3.2+ MB\n"
          ]
        }
      ],
      "source": [
        "# description of the data - after removing NaN values\n",
        "raw_data.info()"
      ]
    },
    {
      "cell_type": "code",
      "execution_count": 12,
      "metadata": {
        "colab": {
          "base_uri": "https://localhost:8080/"
        },
        "id": "UMon6MbyXKLt",
        "outputId": "f5e3397f-fec7-4b1a-cbb0-d9729bb46cf5"
      },
      "outputs": [
        {
          "data": {
            "text/plain": [
              "age               0\n",
              "workclass         0\n",
              "education         0\n",
              "marital-status    0\n",
              "occupation        0\n",
              "relationship      0\n",
              "race              0\n",
              "sex               0\n",
              "capital-gain      0\n",
              "capital-loss      0\n",
              "hours-per-week    0\n",
              "native-country    0\n",
              "class             0\n",
              "dtype: int64"
            ]
          },
          "execution_count": 12,
          "metadata": {},
          "output_type": "execute_result"
        }
      ],
      "source": [
        "# re-check to confirm no more NaN values\n",
        "raw_data.isnull().sum()"
      ]
    },
    {
      "cell_type": "markdown",
      "metadata": {
        "id": "mqUkqzQR9aG_"
      },
      "source": [
        "Finally, all NaN values have been replaced by the column mode, we can now analyse the dataset to understand the features."
      ]
    },
    {
      "cell_type": "markdown",
      "metadata": {
        "id": "kJ-_4Nqp9tZj"
      },
      "source": [
        "### Understanding the data better - Data Visualization"
      ]
    },
    {
      "cell_type": "markdown",
      "metadata": {
        "id": "iY2HwhUZ-cFa"
      },
      "source": [
        "#### 1. AGE"
      ]
    },
    {
      "cell_type": "code",
      "execution_count": 13,
      "metadata": {
        "colab": {
          "base_uri": "https://localhost:8080/",
          "height": 431
        },
        "id": "majgNUzi-X2k",
        "outputId": "05eb0834-2ce2-475c-cc4a-4f66ebc1528e"
      },
      "outputs": [
        {
          "data": {
            "text/plain": [
              "<matplotlib.legend.Legend at 0x7fb48823dc50>"
            ]
          },
          "execution_count": 13,
          "metadata": {},
          "output_type": "execute_result"
        },
        {
          "data": {
            "image/png": "[encoded data removed]",
            "text/plain": [
              "<Figure size 1440x432 with 1 Axes>"
            ]
          },
          "metadata": {
            "needs_background": "light"
          },
          "output_type": "display_data"
        }
      ],
      "source": [
        "plt.figure(figsize=(20,6))\n",
        "sns.countplot(raw_data['age'], hue = raw_data['class'], palette='Blues')\n",
        "plt.title('Income of Individuals in different age groups', fontsize=16, fontweight='bold')\n",
        "plt.xticks(fontsize=14,rotation = 90)\n",
        "plt.yticks(fontsize=14)\n",
        "plt.legend(fontsize=14)"
      ]
    },
    {
      "cell_type": "markdown",
      "metadata": {
        "id": "Qr1F9kdr-3ZF"
      },
      "source": [
        "AGE: From the plot above, it can be inferred that for all age groups, the income class \"<=50K\" always has greater count compared to income class \">50K\". Primarily for really small or large age groups, the class label is always \"<=50\"."
      ]
    },
    {
      "cell_type": "markdown",
      "metadata": {
        "id": "qCV1Lyyy-fXQ"
      },
      "source": [
        "#### 2. WORKCLASS"
      ]
    },
    {
      "cell_type": "code",
      "execution_count": 14,
      "metadata": {
        "colab": {
          "base_uri": "https://localhost:8080/"
        },
        "id": "kZc1pc1l-n4s",
        "outputId": "70bb6114-b324-4924-f9bd-539eda48a249"
      },
      "outputs": [
        {
          "data": {
            "text/plain": [
              " Private             24532\n",
              " Self-emp-not-inc     2541\n",
              " Local-gov            2093\n",
              " State-gov            1298\n",
              " Self-emp-inc         1116\n",
              " Federal-gov           960\n",
              " Without-pay            14\n",
              " Never-worked            7\n",
              "Name: workclass, dtype: int64"
            ]
          },
          "execution_count": 14,
          "metadata": {},
          "output_type": "execute_result"
        }
      ],
      "source": [
        "# 2. workclass\n",
        "raw_data['workclass'].value_counts()\n",
        "\n",
        "# from the distribution we can see that the data contains individuals across 8 different workclasses"
      ]
    },
    {
      "cell_type": "code",
      "execution_count": 15,
      "metadata": {
        "colab": {
          "base_uri": "https://localhost:8080/",
          "height": 532
        },
        "id": "Hx1Uy_db-5S_",
        "outputId": "20026b3d-4582-4263-9e25-13377166fc35"
      },
      "outputs": [
        {
          "data": {
            "text/plain": [
              "<matplotlib.legend.Legend at 0x7fb488273490>"
            ]
          },
          "execution_count": 15,
          "metadata": {},
          "output_type": "execute_result"
        },
        {
          "data": {
            "image/png": "[encoded data removed]",
            "text/plain": [
              "<Figure size 720x432 with 1 Axes>"
            ]
          },
          "metadata": {
            "needs_background": "light"
          },
          "output_type": "display_data"
        }
      ],
      "source": [
        "plt.figure(figsize=(10,6))\n",
        "sns.countplot(raw_data['workclass'], hue = raw_data['class'], palette='Blues')\n",
        "plt.title('Income of Individuals in different workclass', fontsize=16, fontweight='bold')\n",
        "plt.xticks(fontsize=14,rotation = 90)\n",
        "plt.yticks(fontsize=14)\n",
        "plt.legend(fontsize=14)"
      ]
    },
    {
      "cell_type": "markdown",
      "metadata": {
        "id": "7rR0i06a_DLw"
      },
      "source": [
        "WORKCLASS: From the plot above we can observe most data point belong to the type \"Private\". There is a decent spread for other workclasses as well."
      ]
    },
    {
      "cell_type": "markdown",
      "metadata": {
        "id": "UaLcNOYk_EX3"
      },
      "source": [
        "#### 3. EDUCATION"
      ]
    },
    {
      "cell_type": "code",
      "execution_count": 16,
      "metadata": {
        "colab": {
          "base_uri": "https://localhost:8080/"
        },
        "id": "GRNY4Weu_OfP",
        "outputId": "7299611d-cbfb-4e4d-ff8e-9a1fe11dde6a"
      },
      "outputs": [
        {
          "data": {
            "text/plain": [
              " HS-grad         10501\n",
              " Some-college     7291\n",
              " Bachelors        5355\n",
              " Masters          1723\n",
              " Assoc-voc        1382\n",
              " 11th             1175\n",
              " Assoc-acdm       1067\n",
              " 10th              933\n",
              " 7th-8th           646\n",
              " Prof-school       576\n",
              " 9th               514\n",
              " 12th              433\n",
              " Doctorate         413\n",
              " 5th-6th           333\n",
              " 1st-4th           168\n",
              " Preschool          51\n",
              "Name: education, dtype: int64"
            ]
          },
          "execution_count": 16,
          "metadata": {},
          "output_type": "execute_result"
        }
      ],
      "source": [
        "# 3. workclass\n",
        "raw_data['education'].value_counts()"
      ]
    },
    {
      "cell_type": "code",
      "execution_count": 17,
      "metadata": {
        "colab": {
          "base_uri": "https://localhost:8080/",
          "height": 512
        },
        "id": "g87dguJm_sQY",
        "outputId": "db1dcbe4-db09-45d7-9681-d699bfea8497"
      },
      "outputs": [
        {
          "data": {
            "text/plain": [
              "<matplotlib.legend.Legend at 0x7fb487a38110>"
            ]
          },
          "execution_count": 17,
          "metadata": {},
          "output_type": "execute_result"
        },
        {
          "data": {
            "image/png": "[encoded data removed]",
            "text/plain": [
              "<Figure size 720x432 with 1 Axes>"
            ]
          },
          "metadata": {
            "needs_background": "light"
          },
          "output_type": "display_data"
        }
      ],
      "source": [
        "plt.figure(figsize=(10,6))\n",
        "sns.countplot(raw_data['education'], hue = raw_data['class'], palette='Blues')\n",
        "plt.title('Income of Individuals with different education levels', fontsize=16, fontweight='bold')\n",
        "plt.xticks(fontsize=14,rotation = 90)\n",
        "plt.yticks(fontsize=14)\n",
        "plt.legend(fontsize=14)"
      ]
    },
    {
      "cell_type": "markdown",
      "metadata": {
        "id": "lUmiCFnN_yjB"
      },
      "source": [
        "EDUCATION: From the plot above, it can be inferred that for different education levels, there are variations that can be easily explained based on real world understanding.\n",
        "\n",
        "Eg:\n",
        "\n",
        "- More than 50% of the people with a master's degree tend to earn more than 50K. But the overall number of people with a master's degree is really low.\n",
        "\n",
        "- Most people in our dataset are ones with a some-college degree or highschool grads and majority of them earn below 50K"
      ]
    },
    {
      "cell_type": "markdown",
      "metadata": {
        "id": "VmMvWvRoLtjR"
      },
      "source": [
        "Also from the distribution we can see that the data contains individuals with different education levels,  maybe the ones with education - 11th, 10th, 7-8th, 9th, 12th, 5-6th and 1-4th can we merged into one category called 'school' in the feature engineering step."
      ]
    },
    {
      "cell_type": "markdown",
      "metadata": {
        "id": "jJAPS9-0_3m7"
      },
      "source": [
        "#### 4. MARITAL STATUS\n"
      ]
    },
    {
      "cell_type": "code",
      "execution_count": 18,
      "metadata": {
        "colab": {
          "base_uri": "https://localhost:8080/"
        },
        "id": "qkA3EkBGe5gG",
        "outputId": "040139b5-cf5d-4690-d885-162ab27a40f4"
      },
      "outputs": [
        {
          "data": {
            "text/plain": [
              " Married-civ-spouse       14976\n",
              " Never-married            10683\n",
              " Divorced                  4443\n",
              " Separated                 1025\n",
              " Widowed                    993\n",
              " Married-spouse-absent      418\n",
              " Married-AF-spouse           23\n",
              "Name: marital-status, dtype: int64"
            ]
          },
          "execution_count": 18,
          "metadata": {},
          "output_type": "execute_result"
        }
      ],
      "source": [
        "raw_data['marital-status'].value_counts()"
      ]
    },
    {
      "cell_type": "code",
      "execution_count": 19,
      "metadata": {
        "colab": {
          "base_uri": "https://localhost:8080/",
          "height": 578
        },
        "id": "7hEo2wD3AGpS",
        "outputId": "68eac80f-9e5b-4b5c-b09b-cfac377daa45"
      },
      "outputs": [
        {
          "data": {
            "text/plain": [
              "<matplotlib.legend.Legend at 0x7fb487985910>"
            ]
          },
          "execution_count": 19,
          "metadata": {},
          "output_type": "execute_result"
        },
        {
          "data": {
            "image/png": "[encoded data removed]",
            "text/plain": [
              "<Figure size 720x432 with 1 Axes>"
            ]
          },
          "metadata": {
            "needs_background": "light"
          },
          "output_type": "display_data"
        }
      ],
      "source": [
        "plt.figure(figsize=(10,6))\n",
        "sns.countplot(raw_data['marital-status'], hue = raw_data['class'], palette='Blues')\n",
        "plt.title('Income of Individuals with different marital status', fontsize=16, fontweight='bold')\n",
        "plt.xticks(fontsize=14,rotation = 90)\n",
        "plt.yticks(fontsize=14)\n",
        "plt.legend(fontsize=14)"
      ]
    },
    {
      "cell_type": "markdown",
      "metadata": {
        "id": "Lii69BUZAO13"
      },
      "source": [
        "*MARITAL STATUS*: Seems like marital status is a good indicator because when its value is \"Never-married\" because then most probably the target class will be that the individual earns less than 50K."
      ]
    },
    {
      "cell_type": "markdown",
      "metadata": {
        "id": "mvGVWXO2AiuG"
      },
      "source": [
        "#### 5. OCCUPATION"
      ]
    },
    {
      "cell_type": "code",
      "execution_count": 20,
      "metadata": {
        "colab": {
          "base_uri": "https://localhost:8080/"
        },
        "id": "EZ_eFHSSBEH_",
        "outputId": "0c056b55-1d91-4487-b355-6f6a4238f4ed"
      },
      "outputs": [
        {
          "data": {
            "text/plain": [
              " Prof-specialty       5983\n",
              " Craft-repair         4099\n",
              " Exec-managerial      4066\n",
              " Adm-clerical         3770\n",
              " Sales                3650\n",
              " Other-service        3295\n",
              " Machine-op-inspct    2002\n",
              " Transport-moving     1597\n",
              " Handlers-cleaners    1370\n",
              " Farming-fishing       994\n",
              " Tech-support          928\n",
              " Protective-serv       649\n",
              " Priv-house-serv       149\n",
              " Armed-Forces            9\n",
              "Name: occupation, dtype: int64"
            ]
          },
          "execution_count": 20,
          "metadata": {},
          "output_type": "execute_result"
        }
      ],
      "source": [
        "raw_data['occupation'].value_counts()"
      ]
    },
    {
      "cell_type": "code",
      "execution_count": 22,
      "metadata": {
        "colab": {
          "base_uri": "https://localhost:8080/",
          "height": 546
        },
        "id": "WptlzXKUCPYD",
        "outputId": "ae938f8a-31be-49bb-d800-339a901b4fc2"
      },
      "outputs": [
        {
          "data": {
            "text/plain": [
              "<matplotlib.legend.Legend at 0x7fb4a2b6bf50>"
            ]
          },
          "execution_count": 22,
          "metadata": {},
          "output_type": "execute_result"
        },
        {
          "data": {
            "image/png": "[encoded data removed]",
            "text/plain": [
              "<Figure size 720x432 with 1 Axes>"
            ]
          },
          "metadata": {
            "needs_background": "light"
          },
          "output_type": "display_data"
        }
      ],
      "source": [
        "plt.figure(figsize=(10,6))\n",
        "sns.countplot(raw_data['occupation'], hue = raw_data['class'], palette='Blues')\n",
        "plt.title('Income of Individuals in different occupations', fontsize=16, fontweight='bold')\n",
        "plt.xticks(fontsize=14,rotation = 90)\n",
        "plt.yticks(fontsize=14)\n",
        "plt.legend(fontsize=14)"
      ]
    },
    {
      "cell_type": "markdown",
      "metadata": {
        "id": "VbzSYKPcAoot"
      },
      "source": [
        "#### 6. RELATIONSHIP"
      ]
    },
    {
      "cell_type": "code",
      "execution_count": 23,
      "metadata": {
        "colab": {
          "base_uri": "https://localhost:8080/"
        },
        "id": "qaYOMv_fBOxF",
        "outputId": "facdbff5-7b72-4776-91b0-170c3ea8a53d"
      },
      "outputs": [
        {
          "data": {
            "text/plain": [
              " Husband           13193\n",
              " Not-in-family      8305\n",
              " Own-child          5068\n",
              " Unmarried          3446\n",
              " Wife               1568\n",
              " Other-relative      981\n",
              "Name: relationship, dtype: int64"
            ]
          },
          "execution_count": 23,
          "metadata": {},
          "output_type": "execute_result"
        }
      ],
      "source": [
        "raw_data['relationship'].value_counts()"
      ]
    },
    {
      "cell_type": "code",
      "execution_count": 26,
      "metadata": {
        "colab": {
          "base_uri": "https://localhost:8080/",
          "height": 514
        },
        "id": "Lup3EFwiCShR",
        "outputId": "49b08321-9502-4272-df78-c6a719075d78"
      },
      "outputs": [
        {
          "data": {
            "text/plain": [
              "<matplotlib.legend.Legend at 0x7fb4876b9cd0>"
            ]
          },
          "execution_count": 26,
          "metadata": {},
          "output_type": "execute_result"
        },
        {
          "data": {
            "image/png": "[encoded data removed]",
            "text/plain": [
              "<Figure size 504x432 with 1 Axes>"
            ]
          },
          "metadata": {
            "needs_background": "light"
          },
          "output_type": "display_data"
        }
      ],
      "source": [
        "plt.figure(figsize=(7,6))\n",
        "sns.countplot(raw_data['relationship'], hue = raw_data['class'], palette='Blues')\n",
        "plt.title('Income of Individuals in different relationships', fontsize=16, fontweight='bold')\n",
        "plt.xticks(fontsize=14,rotation = 90)\n",
        "plt.yticks(fontsize=14)\n",
        "plt.legend(fontsize=14)"
      ]
    },
    {
      "cell_type": "markdown",
      "metadata": {
        "id": "bP-qM9avAu8M"
      },
      "source": [
        "#### 7. RACE"
      ]
    },
    {
      "cell_type": "code",
      "execution_count": 25,
      "metadata": {
        "colab": {
          "base_uri": "https://localhost:8080/"
        },
        "id": "zL15LXXWBSsN",
        "outputId": "b7835aa8-f090-4a19-ef21-0a347cabec90"
      },
      "outputs": [
        {
          "data": {
            "text/plain": [
              " White                 27816\n",
              " Black                  3124\n",
              " Asian-Pac-Islander     1039\n",
              " Amer-Indian-Eskimo      311\n",
              " Other                   271\n",
              "Name: race, dtype: int64"
            ]
          },
          "execution_count": 25,
          "metadata": {},
          "output_type": "execute_result"
        }
      ],
      "source": [
        "raw_data['race'].value_counts()"
      ]
    },
    {
      "cell_type": "code",
      "execution_count": 27,
      "metadata": {
        "colab": {
          "base_uri": "https://localhost:8080/",
          "height": 558
        },
        "id": "VyN0_E5OCXg3",
        "outputId": "6bc5db3c-f282-4f38-9e2b-64b9710a04bb"
      },
      "outputs": [
        {
          "data": {
            "text/plain": [
              "<matplotlib.legend.Legend at 0x7fb4875e0fd0>"
            ]
          },
          "execution_count": 27,
          "metadata": {},
          "output_type": "execute_result"
        },
        {
          "data": {
            "image/png": "[encoded data removed]",
            "text/plain": [
              "<Figure size 576x432 with 1 Axes>"
            ]
          },
          "metadata": {
            "needs_background": "light"
          },
          "output_type": "display_data"
        }
      ],
      "source": [
        "plt.figure(figsize=(8,6))\n",
        "sns.countplot(raw_data['race'], hue = raw_data['class'], palette='Blues')\n",
        "plt.title('Income of Individuals belonging to different races', fontsize=16, fontweight='bold')\n",
        "plt.xticks(fontsize=14,rotation = 90)\n",
        "plt.yticks(fontsize=14)\n",
        "plt.legend(fontsize=14)"
      ]
    },
    {
      "cell_type": "markdown",
      "metadata": {
        "id": "4Hbp4sdNAuu3"
      },
      "source": [
        "#### 8. SEX"
      ]
    },
    {
      "cell_type": "code",
      "execution_count": 28,
      "metadata": {
        "colab": {
          "base_uri": "https://localhost:8080/"
        },
        "id": "tLt5aPLfBUyT",
        "outputId": "f5fbcde1-fb1a-42c6-d0b9-57faed4fd1aa"
      },
      "outputs": [
        {
          "data": {
            "text/plain": [
              " Male      21790\n",
              " Female    10771\n",
              "Name: sex, dtype: int64"
            ]
          },
          "execution_count": 28,
          "metadata": {},
          "output_type": "execute_result"
        }
      ],
      "source": [
        "raw_data['sex'].value_counts()"
      ]
    },
    {
      "cell_type": "code",
      "execution_count": 30,
      "metadata": {
        "colab": {
          "base_uri": "https://localhost:8080/",
          "height": 468
        },
        "id": "WLXl-oIoCaO0",
        "outputId": "cefb8d35-cdca-4e83-debe-0c6f9c8e96c4"
      },
      "outputs": [
        {
          "data": {
            "text/plain": [
              "<matplotlib.legend.Legend at 0x7fb4874e5e50>"
            ]
          },
          "execution_count": 30,
          "metadata": {},
          "output_type": "execute_result"
        },
        {
          "data": {
            "image/png": "[encoded data removed]",
            "text/plain": [
              "<Figure size 432x432 with 1 Axes>"
            ]
          },
          "metadata": {
            "needs_background": "light"
          },
          "output_type": "display_data"
        }
      ],
      "source": [
        "plt.figure(figsize=(6,6))\n",
        "sns.countplot(raw_data['sex'], hue = raw_data['class'], palette='Blues')\n",
        "plt.title('Income of Males vs Females', fontsize=16, fontweight='bold')\n",
        "plt.xticks(fontsize=14,rotation = 90)\n",
        "plt.yticks(fontsize=14)\n",
        "plt.legend(fontsize=14)"
      ]
    },
    {
      "cell_type": "markdown",
      "metadata": {
        "id": "9ckN9693AueH"
      },
      "source": [
        "#### 9. CAPITAL GAIN"
      ]
    },
    {
      "cell_type": "markdown",
      "metadata": {
        "id": "7eajpE8JBhNh"
      },
      "source": [
        "As it is a continuous data, it does not make sense to display value counts\n"
      ]
    },
    {
      "cell_type": "code",
      "execution_count": 31,
      "metadata": {
        "colab": {
          "base_uri": "https://localhost:8080/"
        },
        "id": "6G5rEMY2C0F8",
        "outputId": "a2d55319-06b9-4e85-9fa7-717d7ad98f53"
      },
      "outputs": [
        {
          "name": "stdout",
          "output_type": "stream",
          "text": [
            "Total Non zeros:  2712\n",
            "Non zeros belonging to class <=50K 1035\n",
            "Non zeros belonging to class >50K 1677\n",
            "\n",
            "\n",
            "Total Zeros:  29849\n",
            "Zeros belonging to class <=50K 23685\n",
            "Zeros belonging to class >50K 6164\n"
          ]
        }
      ],
      "source": [
        "# helper variables for zero capital gain\n",
        "zeros = 0\n",
        "z_class0 = 0\n",
        "z_class1 = 0\n",
        "\n",
        "# helper variables for non zero capital gain\n",
        "non_zeros = 0\n",
        "nz_class0 = 0\n",
        "nz_class1 = 0\n",
        "\n",
        "for i in range(len(raw_data['class'])):\n",
        "  cg = raw_data['capital-gain'][i]\n",
        "  target = raw_data['class'][i]\n",
        "\n",
        "  if(cg==0):\n",
        "    zeros += 1\n",
        "    if(target==\" <=50K\"):\n",
        "      z_class0 += 1\n",
        "    else:\n",
        "      z_class1 += 1\n",
        "\n",
        "  else:\n",
        "    non_zeros += 1\n",
        "    if(target==\" <=50K\"):\n",
        "      nz_class0 += 1\n",
        "    else:\n",
        "      nz_class1 += 1\n",
        "\n",
        "print(\"Total Non zeros: \",non_zeros)\n",
        "print(\"Non zeros belonging to class <=50K\", nz_class0)\n",
        "print(\"Non zeros belonging to class >50K\", nz_class1)\n",
        "print(\"\\n\")\n",
        "print(\"Total Zeros: \",zeros)\n",
        "print(\"Zeros belonging to class <=50K\", z_class0)\n",
        "print(\"Zeros belonging to class >50K\", z_class1)"
      ]
    },
    {
      "cell_type": "markdown",
      "metadata": {
        "id": "bv_NSLrbFvpa"
      },
      "source": [
        "From the above calculations, we can see that majority of the values (91%) are simply zeros. Moreover, it is not the case that non zero values imply a particular class as we can see a 45-55 split for non-zero capital gain classes.\n",
        "\n",
        "Overall, it doesn't seem like capital gain is a good indicator of income and should be removed in the feature engineering step."
      ]
    },
    {
      "cell_type": "markdown",
      "metadata": {
        "id": "VT3x5_iyAuRU"
      },
      "source": [
        "#### 10. CAPITAL LOSS"
      ]
    },
    {
      "cell_type": "markdown",
      "metadata": {
        "id": "rPLwn_KkBrVL"
      },
      "source": [
        "As it is a continuous data, it does not make sense to display value counts"
      ]
    },
    {
      "cell_type": "code",
      "execution_count": 32,
      "metadata": {
        "colab": {
          "base_uri": "https://localhost:8080/"
        },
        "id": "L51dl-DkJ6NZ",
        "outputId": "b1f4d824-0113-42d9-e83f-e410eb14946c"
      },
      "outputs": [
        {
          "name": "stdout",
          "output_type": "stream",
          "text": [
            "Total Non zeros:  1519\n",
            "Non zeros belonging to class <=50K 746\n",
            "Non zeros belonging to class >50K 773\n",
            "\n",
            "\n",
            "Total Zeros:  31042\n",
            "Zeros belonging to class <=50K 23974\n",
            "Zeros belonging to class >50K 7068\n"
          ]
        }
      ],
      "source": [
        "# helper variables for zero capital loss\n",
        "zeros = 0\n",
        "z_class0 = 0\n",
        "z_class1 = 0\n",
        "\n",
        "# helper variables for non zero capital loss\n",
        "non_zeros = 0\n",
        "nz_class0 = 0\n",
        "nz_class1 = 0\n",
        "\n",
        "for i in range(len(raw_data['class'])):\n",
        "  cg = raw_data['capital-loss'][i]\n",
        "  target = raw_data['class'][i]\n",
        "\n",
        "  if(cg==0):\n",
        "    zeros += 1\n",
        "    if(target==\" <=50K\"):\n",
        "      z_class0 += 1\n",
        "    else:\n",
        "      z_class1 += 1\n",
        "\n",
        "  else:\n",
        "    non_zeros += 1\n",
        "    if(target==\" <=50K\"):\n",
        "      nz_class0 += 1\n",
        "    else:\n",
        "      nz_class1 += 1\n",
        "\n",
        "print(\"Total Non zeros: \",non_zeros)\n",
        "print(\"Non zeros belonging to class <=50K\", nz_class0)\n",
        "print(\"Non zeros belonging to class >50K\", nz_class1)\n",
        "print(\"\\n\")\n",
        "print(\"Total Zeros: \",zeros)\n",
        "print(\"Zeros belonging to class <=50K\", z_class0)\n",
        "print(\"Zeros belonging to class >50K\", z_class1)"
      ]
    },
    {
      "cell_type": "markdown",
      "metadata": {
        "id": "ORgwzMfoJ6AZ"
      },
      "source": [
        "From the above calculations, we can see that majority of the values (95%) are simply zeros. Moreover, it is not the case that non zero values imply a particular class as we can see a 50-50 split for non-zero capital loss classes.\n",
        "\n",
        "Overall, it doesn't seem like capital loss is a good indicator of income and should be removed in the feature engineering step."
      ]
    },
    {
      "cell_type": "markdown",
      "metadata": {
        "id": "oWJfEdFhA8Uj"
      },
      "source": [
        "#### 11. HOURS PER WEEK"
      ]
    },
    {
      "cell_type": "markdown",
      "metadata": {
        "id": "qXBtIsEABtCS"
      },
      "source": [
        "As it is a continuous data, it does not make sense to display value counts"
      ]
    },
    {
      "cell_type": "markdown",
      "metadata": {
        "id": "Nx4e4NvDBAkK"
      },
      "source": [
        "#### 12. NATIVE COUNTRY"
      ]
    },
    {
      "cell_type": "code",
      "execution_count": 33,
      "metadata": {
        "colab": {
          "base_uri": "https://localhost:8080/"
        },
        "id": "jTi4ZgzAfEEo",
        "outputId": "fe9c6af4-2b1e-455d-d8c8-5b564dac3439"
      },
      "outputs": [
        {
          "data": {
            "text/plain": [
              " United-States                 29753\n",
              " Mexico                          643\n",
              " Philippines                     198\n",
              " Germany                         137\n",
              " Canada                          121\n",
              " Puerto-Rico                     114\n",
              " El-Salvador                     106\n",
              " India                           100\n",
              " Cuba                             95\n",
              " England                          90\n",
              " Jamaica                          81\n",
              " South                            80\n",
              " China                            75\n",
              " Italy                            73\n",
              " Dominican-Republic               70\n",
              " Vietnam                          67\n",
              " Guatemala                        64\n",
              " Japan                            62\n",
              " Poland                           60\n",
              " Columbia                         59\n",
              " Taiwan                           51\n",
              " Haiti                            44\n",
              " Iran                             43\n",
              " Portugal                         37\n",
              " Nicaragua                        34\n",
              " Peru                             31\n",
              " France                           29\n",
              " Greece                           29\n",
              " Ecuador                          28\n",
              " Ireland                          24\n",
              " Hong                             20\n",
              " Cambodia                         19\n",
              " Trinadad&Tobago                  19\n",
              " Laos                             18\n",
              " Thailand                         18\n",
              " Yugoslavia                       16\n",
              " Outlying-US(Guam-USVI-etc)       14\n",
              " Honduras                         13\n",
              " Hungary                          13\n",
              " Scotland                         12\n",
              " Holand-Netherlands                1\n",
              "Name: native-country, dtype: int64"
            ]
          },
          "execution_count": 33,
          "metadata": {},
          "output_type": "execute_result"
        }
      ],
      "source": [
        "raw_data['native-country'].value_counts()"
      ]
    },
    {
      "cell_type": "code",
      "execution_count": 34,
      "metadata": {
        "colab": {
          "base_uri": "https://localhost:8080/",
          "height": 618
        },
        "id": "07I3y-t2MSvf",
        "outputId": "05c7b4cf-9775-4403-da24-e2095f4c16bf"
      },
      "outputs": [
        {
          "data": {
            "text/plain": [
              "<matplotlib.legend.Legend at 0x7fb48740f510>"
            ]
          },
          "execution_count": 34,
          "metadata": {},
          "output_type": "execute_result"
        },
        {
          "data": {
            "image/png": "[encoded data removed]",
            "text/plain": [
              "<Figure size 1080x432 with 1 Axes>"
            ]
          },
          "metadata": {
            "needs_background": "light"
          },
          "output_type": "display_data"
        }
      ],
      "source": [
        "plt.figure(figsize=(15,6))\n",
        "sns.countplot(raw_data['native-country'], hue = raw_data['class'], palette='Blues')\n",
        "plt.title('Income of Individuals in different age groups', fontsize=16, fontweight='bold')\n",
        "plt.xticks(fontsize=14,rotation = 90)\n",
        "plt.yticks(fontsize=14)\n",
        "plt.legend(fontsize=14)"
      ]
    },
    {
      "cell_type": "markdown",
      "metadata": {
        "id": "l3_LDjLKMSdB"
      },
      "source": [
        "Clearly, all the other countries compared the US do not add much to the model, maybe they can be merged into a single bunch and termed as international or others."
      ]
    },
    {
      "cell_type": "markdown",
      "metadata": {
        "id": "YL2_2XugLNGC"
      },
      "source": [
        "### FEATURE ENGINEERING & FEATURE SELECTION"
      ]
    },
    {
      "cell_type": "markdown",
      "metadata": {
        "id": "W8dv8jKAMqOR"
      },
      "source": [
        "Based on the close inspection of the data from the previous data visualization step we can make some final changes before we use the data for training a model."
      ]
    },
    {
      "cell_type": "markdown",
      "metadata": {
        "id": "DrP-UQbXM29g"
      },
      "source": [
        "1. Merge different school grades (that are values in the attribute education) into one single value - call it **School**"
      ]
    },
    {
      "cell_type": "code",
      "execution_count": 35,
      "metadata": {
        "id": "wCukQKqwgeb0"
      },
      "outputs": [],
      "source": [
        "raw_data['education'].replace([' 11th', ' 9th', ' 7th-8th', ' 5th-6th', ' 10th', ' 1st-4th', ' Preschool', ' 12th'],' School', inplace = True)"
      ]
    },
    {
      "cell_type": "code",
      "execution_count": 36,
      "metadata": {
        "colab": {
          "base_uri": "https://localhost:8080/"
        },
        "id": "sk8tuObLgnQ6",
        "outputId": "af6e2799-486a-437c-c368-1b8018de257a"
      },
      "outputs": [
        {
          "data": {
            "text/plain": [
              " HS-grad         10501\n",
              " Some-college     7291\n",
              " Bachelors        5355\n",
              " School           4253\n",
              " Masters          1723\n",
              " Assoc-voc        1382\n",
              " Assoc-acdm       1067\n",
              " Prof-school       576\n",
              " Doctorate         413\n",
              "Name: education, dtype: int64"
            ]
          },
          "execution_count": 36,
          "metadata": {},
          "output_type": "execute_result"
        }
      ],
      "source": [
        "raw_data['education'].value_counts()"
      ]
    },
    {
      "cell_type": "markdown",
      "metadata": {
        "id": "4LGVv668NRAS"
      },
      "source": [
        "2. Merge the different non-US countries into one - call it **International**"
      ]
    },
    {
      "cell_type": "code",
      "execution_count": 37,
      "metadata": {
        "id": "DNdF647PNZj3"
      },
      "outputs": [],
      "source": [
        "raw_data['native-country'].mask(raw_data['native-country'] != ' United-States', ' International', inplace=True)"
      ]
    },
    {
      "cell_type": "code",
      "execution_count": 38,
      "metadata": {
        "colab": {
          "base_uri": "https://localhost:8080/"
        },
        "id": "Fw2k-m3VN8rd",
        "outputId": "937803d7-ba67-4a6a-a40c-ce87f18f7fa8"
      },
      "outputs": [
        {
          "data": {
            "text/plain": [
              " United-States    29753\n",
              " International     2808\n",
              "Name: native-country, dtype: int64"
            ]
          },
          "execution_count": 38,
          "metadata": {},
          "output_type": "execute_result"
        }
      ],
      "source": [
        "raw_data['native-country'].value_counts()"
      ]
    },
    {
      "cell_type": "markdown",
      "metadata": {
        "id": "huekABA4O5t9"
      },
      "source": [
        "3. Next, for the numerical attributes, remove the attributes where more than 90% of the values just belong to one class"
      ]
    },
    {
      "cell_type": "code",
      "execution_count": 39,
      "metadata": {
        "colab": {
          "base_uri": "https://localhost:8080/"
        },
        "id": "NWin_b8EPRCW",
        "outputId": "4176edc8-4941-44de-a21f-1543dd1638d9"
      },
      "outputs": [
        {
          "name": "stdout",
          "output_type": "stream",
          "text": [
            "['capital-gain', 'capital-loss']\n"
          ]
        }
      ],
      "source": [
        "temp = []\n",
        "for i in ['age', 'capital-gain', 'capital-loss', 'hours-per-week']:\n",
        "    if raw_data[i].value_counts(normalize=True).iloc[0] > 0.9:\n",
        "        temp.append(i)\n",
        "        \n",
        "print(temp)"
      ]
    },
    {
      "cell_type": "markdown",
      "metadata": {
        "id": "B8j0FCYkPqXO"
      },
      "source": [
        "This is in line with the previous observation from the data vizualization part where 'capital-gain' and 'capital-loss' seem like they don't offer much to the model. Hence, dropping the two attributes."
      ]
    },
    {
      "cell_type": "code",
      "execution_count": 40,
      "metadata": {
        "id": "Pweoy_n8P2v6"
      },
      "outputs": [],
      "source": [
        "raw_data = raw_data.drop(['capital-gain', 'capital-loss'], axis=1)"
      ]
    },
    {
      "cell_type": "markdown",
      "metadata": {
        "id": "f1UMjVVCQErP"
      },
      "source": [
        "Finally our data (after feature selection) looks like:"
      ]
    },
    {
      "cell_type": "code",
      "execution_count": 71,
      "metadata": {
        "colab": {
          "base_uri": "https://localhost:8080/",
          "height": 363
        },
        "id": "PhPuk-GdQKUj",
        "outputId": "8795c196-2f53-470e-f4da-0c6091237098"
      },
      "outputs": [
        {
          "data": {
            "text/html": [
              "\n",
              "  <div id=\"df-553e1724-780f-4d1c-ba72-62547465ab9f\">\n",
              "    <div class=\"colab-df-container\">\n",
              "      <div>\n",
              "<style scoped>\n",
              "    .dataframe tbody tr th:only-of-type {\n",
              "        vertical-align: middle;\n",
              "    }\n",
              "\n",
              "    .dataframe tbody tr th {\n",
              "        vertical-align: top;\n",
              "    }\n",
              "\n",
              "    .dataframe thead th {\n",
              "        text-align: right;\n",
              "    }\n",
              "</style>\n",
              "<table border=\"1\" class=\"dataframe\">\n",
              "  <thead>\n",
              "    <tr style=\"text-align: right;\">\n",
              "      <th></th>\n",
              "      <th>age</th>\n",
              "      <th>workclass</th>\n",
              "      <th>education</th>\n",
              "      <th>marital-status</th>\n",
              "      <th>occupation</th>\n",
              "      <th>relationship</th>\n",
              "      <th>race</th>\n",
              "      <th>sex</th>\n",
              "      <th>hours-per-week</th>\n",
              "      <th>native-country</th>\n",
              "      <th>class</th>\n",
              "    </tr>\n",
              "  </thead>\n",
              "  <tbody>\n",
              "    <tr>\n",
              "      <th>19849</th>\n",
              "      <td>60</td>\n",
              "      <td>Private</td>\n",
              "      <td>Doctorate</td>\n",
              "      <td>Never-married</td>\n",
              "      <td>Prof-specialty</td>\n",
              "      <td>Not-in-family</td>\n",
              "      <td>White</td>\n",
              "      <td>Female</td>\n",
              "      <td>65</td>\n",
              "      <td>United-States</td>\n",
              "      <td>&gt;50K</td>\n",
              "    </tr>\n",
              "    <tr>\n",
              "      <th>113</th>\n",
              "      <td>28</td>\n",
              "      <td>Private</td>\n",
              "      <td>Some-college</td>\n",
              "      <td>Married-civ-spouse</td>\n",
              "      <td>Sales</td>\n",
              "      <td>Wife</td>\n",
              "      <td>White</td>\n",
              "      <td>Female</td>\n",
              "      <td>25</td>\n",
              "      <td>United-States</td>\n",
              "      <td>&lt;=50K</td>\n",
              "    </tr>\n",
              "    <tr>\n",
              "      <th>22784</th>\n",
              "      <td>30</td>\n",
              "      <td>Private</td>\n",
              "      <td>HS-grad</td>\n",
              "      <td>Divorced</td>\n",
              "      <td>Adm-clerical</td>\n",
              "      <td>Unmarried</td>\n",
              "      <td>Black</td>\n",
              "      <td>Female</td>\n",
              "      <td>62</td>\n",
              "      <td>United-States</td>\n",
              "      <td>&lt;=50K</td>\n",
              "    </tr>\n",
              "    <tr>\n",
              "      <th>14919</th>\n",
              "      <td>24</td>\n",
              "      <td>Private</td>\n",
              "      <td>Bachelors</td>\n",
              "      <td>Married-civ-spouse</td>\n",
              "      <td>Exec-managerial</td>\n",
              "      <td>Husband</td>\n",
              "      <td>White</td>\n",
              "      <td>Male</td>\n",
              "      <td>55</td>\n",
              "      <td>International</td>\n",
              "      <td>&gt;50K</td>\n",
              "    </tr>\n",
              "    <tr>\n",
              "      <th>15951</th>\n",
              "      <td>31</td>\n",
              "      <td>Private</td>\n",
              "      <td>HS-grad</td>\n",
              "      <td>Married-civ-spouse</td>\n",
              "      <td>Adm-clerical</td>\n",
              "      <td>Wife</td>\n",
              "      <td>White</td>\n",
              "      <td>Female</td>\n",
              "      <td>27</td>\n",
              "      <td>United-States</td>\n",
              "      <td>&lt;=50K</td>\n",
              "    </tr>\n",
              "    <tr>\n",
              "      <th>7803</th>\n",
              "      <td>55</td>\n",
              "      <td>Private</td>\n",
              "      <td>HS-grad</td>\n",
              "      <td>Married-civ-spouse</td>\n",
              "      <td>Other-service</td>\n",
              "      <td>Husband</td>\n",
              "      <td>White</td>\n",
              "      <td>Male</td>\n",
              "      <td>60</td>\n",
              "      <td>United-States</td>\n",
              "      <td>&lt;=50K</td>\n",
              "    </tr>\n",
              "    <tr>\n",
              "      <th>17902</th>\n",
              "      <td>67</td>\n",
              "      <td>Private</td>\n",
              "      <td>School</td>\n",
              "      <td>Widowed</td>\n",
              "      <td>Prof-specialty</td>\n",
              "      <td>Not-in-family</td>\n",
              "      <td>White</td>\n",
              "      <td>Female</td>\n",
              "      <td>35</td>\n",
              "      <td>United-States</td>\n",
              "      <td>&lt;=50K</td>\n",
              "    </tr>\n",
              "    <tr>\n",
              "      <th>14990</th>\n",
              "      <td>52</td>\n",
              "      <td>State-gov</td>\n",
              "      <td>Doctorate</td>\n",
              "      <td>Married-civ-spouse</td>\n",
              "      <td>Prof-specialty</td>\n",
              "      <td>Husband</td>\n",
              "      <td>White</td>\n",
              "      <td>Male</td>\n",
              "      <td>70</td>\n",
              "      <td>International</td>\n",
              "      <td>&gt;50K</td>\n",
              "    </tr>\n",
              "    <tr>\n",
              "      <th>22703</th>\n",
              "      <td>47</td>\n",
              "      <td>Local-gov</td>\n",
              "      <td>HS-grad</td>\n",
              "      <td>Married-civ-spouse</td>\n",
              "      <td>Exec-managerial</td>\n",
              "      <td>Husband</td>\n",
              "      <td>White</td>\n",
              "      <td>Male</td>\n",
              "      <td>40</td>\n",
              "      <td>United-States</td>\n",
              "      <td>&gt;50K</td>\n",
              "    </tr>\n",
              "    <tr>\n",
              "      <th>28182</th>\n",
              "      <td>23</td>\n",
              "      <td>Self-emp-inc</td>\n",
              "      <td>HS-grad</td>\n",
              "      <td>Never-married</td>\n",
              "      <td>Transport-moving</td>\n",
              "      <td>Not-in-family</td>\n",
              "      <td>White</td>\n",
              "      <td>Male</td>\n",
              "      <td>50</td>\n",
              "      <td>United-States</td>\n",
              "      <td>&lt;=50K</td>\n",
              "    </tr>\n",
              "  </tbody>\n",
              "</table>\n",
              "</div>\n",
              "      <button class=\"colab-df-convert\" onclick=\"convertToInteractive('df-553e1724-780f-4d1c-ba72-62547465ab9f')\"\n",
              "              title=\"Convert this dataframe to an interactive table.\"\n",
              "              style=\"display:none;\">\n",
              "        \n",
              "  <svg xmlns=\"http://www.w3.org/2000/svg\" height=\"24px\"viewBox=\"0 0 24 24\"\n",
              "       width=\"24px\">\n",
              "    <path d=\"M0 0h24v24H0V0z\" fill=\"none\"/>\n",
              "    <path d=\"M18.56 5.44l.94 2.06.94-2.06 2.06-.94-2.06-.94-.94-2.06-.94 2.06-2.06.94zm-11 1L8.5 8.5l.94-2.06 2.06-.94-2.06-.94L8.5 2.5l-.94 2.06-2.06.94zm10 10l.94 2.06.94-2.06 2.06-.94-2.06-.94-.94-2.06-.94 2.06-2.06.94z\"/><path d=\"M17.41 7.96l-1.37-1.37c-.4-.4-.92-.59-1.43-.59-.52 0-1.04.2-1.43.59L10.3 9.45l-7.72 7.72c-.78.78-.78 2.05 0 2.83L4 21.41c.39.39.9.59 1.41.59.51 0 1.02-.2 1.41-.59l7.78-7.78 2.81-2.81c.8-.78.8-2.07 0-2.86zM5.41 20L4 18.59l7.72-7.72 1.47 1.35L5.41 20z\"/>\n",
              "  </svg>\n",
              "      </button>\n",
              "      \n",
              "  <style>\n",
              "    .colab-df-container {\n",
              "      display:flex;\n",
              "      flex-wrap:wrap;\n",
              "      gap: 12px;\n",
              "    }\n",
              "\n",
              "    .colab-df-convert {\n",
              "      background-color: #E8F0FE;\n",
              "      border: none;\n",
              "      border-radius: 50%;\n",
              "      cursor: pointer;\n",
              "      display: none;\n",
              "      fill: #1967D2;\n",
              "      height: 32px;\n",
              "      padding: 0 0 0 0;\n",
              "      width: 32px;\n",
              "    }\n",
              "\n",
              "    .colab-df-convert:hover {\n",
              "      background-color: #E2EBFA;\n",
              "      box-shadow: 0px 1px 2px rgba(60, 64, 67, 0.3), 0px 1px 3px 1px rgba(60, 64, 67, 0.15);\n",
              "      fill: #174EA6;\n",
              "    }\n",
              "\n",
              "    [theme=dark] .colab-df-convert {\n",
              "      background-color: #3B4455;\n",
              "      fill: #D2E3FC;\n",
              "    }\n",
              "\n",
              "    [theme=dark] .colab-df-convert:hover {\n",
              "      background-color: #434B5C;\n",
              "      box-shadow: 0px 1px 3px 1px rgba(0, 0, 0, 0.15);\n",
              "      filter: drop-shadow(0px 1px 2px rgba(0, 0, 0, 0.3));\n",
              "      fill: #FFFFFF;\n",
              "    }\n",
              "  </style>\n",
              "\n",
              "      <script>\n",
              "        const buttonEl =\n",
              "          document.querySelector('#df-553e1724-780f-4d1c-ba72-62547465ab9f button.colab-df-convert');\n",
              "        buttonEl.style.display =\n",
              "          google.colab.kernel.accessAllowed ? 'block' : 'none';\n",
              "\n",
              "        async function convertToInteractive(key) {\n",
              "          const element = document.querySelector('#df-553e1724-780f-4d1c-ba72-62547465ab9f');\n",
              "          const dataTable =\n",
              "            await google.colab.kernel.invokeFunction('convertToInteractive',\n",
              "                                                     [key], {});\n",
              "          if (!dataTable) return;\n",
              "\n",
              "          const docLinkHtml = 'Like what you see? Visit the ' +\n",
              "            '<a target=\"_blank\" href=https://colab.research.google.com/notebooks/data_table.ipynb>data table notebook</a>'\n",
              "            + ' to learn more about interactive tables.';\n",
              "          element.innerHTML = '';\n",
              "          dataTable['output_type'] = 'display_data';\n",
              "          await google.colab.output.renderOutput(dataTable, element);\n",
              "          const docLink = document.createElement('div');\n",
              "          docLink.innerHTML = docLinkHtml;\n",
              "          element.appendChild(docLink);\n",
              "        }\n",
              "      </script>\n",
              "    </div>\n",
              "  </div>\n",
              "  "
            ],
            "text/plain": [
              "       age      workclass      education       marital-status  \\\n",
              "19849   60        Private      Doctorate        Never-married   \n",
              "113     28        Private   Some-college   Married-civ-spouse   \n",
              "22784   30        Private        HS-grad             Divorced   \n",
              "14919   24        Private      Bachelors   Married-civ-spouse   \n",
              "15951   31        Private        HS-grad   Married-civ-spouse   \n",
              "7803    55        Private        HS-grad   Married-civ-spouse   \n",
              "17902   67        Private         School              Widowed   \n",
              "14990   52      State-gov      Doctorate   Married-civ-spouse   \n",
              "22703   47      Local-gov        HS-grad   Married-civ-spouse   \n",
              "28182   23   Self-emp-inc        HS-grad        Never-married   \n",
              "\n",
              "              occupation    relationship    race      sex  hours-per-week  \\\n",
              "19849     Prof-specialty   Not-in-family   White   Female              65   \n",
              "113                Sales            Wife   White   Female              25   \n",
              "22784       Adm-clerical       Unmarried   Black   Female              62   \n",
              "14919    Exec-managerial         Husband   White     Male              55   \n",
              "15951       Adm-clerical            Wife   White   Female              27   \n",
              "7803       Other-service         Husband   White     Male              60   \n",
              "17902     Prof-specialty   Not-in-family   White   Female              35   \n",
              "14990     Prof-specialty         Husband   White     Male              70   \n",
              "22703    Exec-managerial         Husband   White     Male              40   \n",
              "28182   Transport-moving   Not-in-family   White     Male              50   \n",
              "\n",
              "       native-country   class  \n",
              "19849   United-States    >50K  \n",
              "113     United-States   <=50K  \n",
              "22784   United-States   <=50K  \n",
              "14919   International    >50K  \n",
              "15951   United-States   <=50K  \n",
              "7803    United-States   <=50K  \n",
              "17902   United-States   <=50K  \n",
              "14990   International    >50K  \n",
              "22703   United-States    >50K  \n",
              "28182   United-States   <=50K  "
            ]
          },
          "execution_count": 71,
          "metadata": {},
          "output_type": "execute_result"
        }
      ],
      "source": [
        "raw_data.sample(10)"
      ]
    },
    {
      "cell_type": "code",
      "execution_count": 72,
      "metadata": {
        "colab": {
          "base_uri": "https://localhost:8080/"
        },
        "id": "iawPBL-tQNOR",
        "outputId": "cb19eee4-95e5-4b00-c839-7b850009df5e"
      },
      "outputs": [
        {
          "data": {
            "text/plain": [
              "(32561, 11)"
            ]
          },
          "execution_count": 72,
          "metadata": {},
          "output_type": "execute_result"
        }
      ],
      "source": [
        "raw_data.shape"
      ]
    },
    {
      "cell_type": "markdown",
      "metadata": {
        "id": "Bzo39EXVQcTA"
      },
      "source": [
        "### Convert Categorical Data to Numerical Data"
      ]
    },
    {
      "cell_type": "markdown",
      "metadata": {
        "id": "rUmASiE6Q0lQ"
      },
      "source": []
    },
    {
      "cell_type": "code",
      "execution_count": 73,
      "metadata": {
        "colab": {
          "base_uri": "https://localhost:8080/",
          "height": 424
        },
        "id": "6xP4O3RBXMKx",
        "outputId": "e2d3b7cb-fc7e-495d-935c-44c99ba1bca9"
      },
      "outputs": [
        {
          "data": {
            "text/html": [
              "\n",
              "  <div id=\"df-6e7db21a-660f-45fe-9096-90e0198c5c3c\">\n",
              "    <div class=\"colab-df-container\">\n",
              "      <div>\n",
              "<style scoped>\n",
              "    .dataframe tbody tr th:only-of-type {\n",
              "        vertical-align: middle;\n",
              "    }\n",
              "\n",
              "    .dataframe tbody tr th {\n",
              "        vertical-align: top;\n",
              "    }\n",
              "\n",
              "    .dataframe thead th {\n",
              "        text-align: right;\n",
              "    }\n",
              "</style>\n",
              "<table border=\"1\" class=\"dataframe\">\n",
              "  <thead>\n",
              "    <tr style=\"text-align: right;\">\n",
              "      <th></th>\n",
              "      <th>age</th>\n",
              "      <th>workclass</th>\n",
              "      <th>education</th>\n",
              "      <th>marital-status</th>\n",
              "      <th>occupation</th>\n",
              "      <th>relationship</th>\n",
              "      <th>race</th>\n",
              "      <th>sex</th>\n",
              "      <th>hours-per-week</th>\n",
              "      <th>native-country</th>\n",
              "      <th>class</th>\n",
              "    </tr>\n",
              "  </thead>\n",
              "  <tbody>\n",
              "    <tr>\n",
              "      <th>0</th>\n",
              "      <td>39</td>\n",
              "      <td>6</td>\n",
              "      <td>2</td>\n",
              "      <td>4</td>\n",
              "      <td>0</td>\n",
              "      <td>1</td>\n",
              "      <td>4</td>\n",
              "      <td>1</td>\n",
              "      <td>40</td>\n",
              "      <td>1</td>\n",
              "      <td>&lt;=50K</td>\n",
              "    </tr>\n",
              "    <tr>\n",
              "      <th>1</th>\n",
              "      <td>50</td>\n",
              "      <td>5</td>\n",
              "      <td>2</td>\n",
              "      <td>2</td>\n",
              "      <td>3</td>\n",
              "      <td>0</td>\n",
              "      <td>4</td>\n",
              "      <td>1</td>\n",
              "      <td>13</td>\n",
              "      <td>1</td>\n",
              "      <td>&lt;=50K</td>\n",
              "    </tr>\n",
              "    <tr>\n",
              "      <th>2</th>\n",
              "      <td>38</td>\n",
              "      <td>3</td>\n",
              "      <td>4</td>\n",
              "      <td>0</td>\n",
              "      <td>5</td>\n",
              "      <td>1</td>\n",
              "      <td>4</td>\n",
              "      <td>1</td>\n",
              "      <td>40</td>\n",
              "      <td>1</td>\n",
              "      <td>&lt;=50K</td>\n",
              "    </tr>\n",
              "    <tr>\n",
              "      <th>3</th>\n",
              "      <td>53</td>\n",
              "      <td>3</td>\n",
              "      <td>7</td>\n",
              "      <td>2</td>\n",
              "      <td>5</td>\n",
              "      <td>0</td>\n",
              "      <td>2</td>\n",
              "      <td>1</td>\n",
              "      <td>40</td>\n",
              "      <td>1</td>\n",
              "      <td>&lt;=50K</td>\n",
              "    </tr>\n",
              "    <tr>\n",
              "      <th>4</th>\n",
              "      <td>28</td>\n",
              "      <td>3</td>\n",
              "      <td>2</td>\n",
              "      <td>2</td>\n",
              "      <td>9</td>\n",
              "      <td>5</td>\n",
              "      <td>2</td>\n",
              "      <td>0</td>\n",
              "      <td>40</td>\n",
              "      <td>0</td>\n",
              "      <td>&lt;=50K</td>\n",
              "    </tr>\n",
              "    <tr>\n",
              "      <th>...</th>\n",
              "      <td>...</td>\n",
              "      <td>...</td>\n",
              "      <td>...</td>\n",
              "      <td>...</td>\n",
              "      <td>...</td>\n",
              "      <td>...</td>\n",
              "      <td>...</td>\n",
              "      <td>...</td>\n",
              "      <td>...</td>\n",
              "      <td>...</td>\n",
              "      <td>...</td>\n",
              "    </tr>\n",
              "    <tr>\n",
              "      <th>32556</th>\n",
              "      <td>27</td>\n",
              "      <td>3</td>\n",
              "      <td>0</td>\n",
              "      <td>2</td>\n",
              "      <td>12</td>\n",
              "      <td>5</td>\n",
              "      <td>4</td>\n",
              "      <td>0</td>\n",
              "      <td>38</td>\n",
              "      <td>1</td>\n",
              "      <td>&lt;=50K</td>\n",
              "    </tr>\n",
              "    <tr>\n",
              "      <th>32557</th>\n",
              "      <td>40</td>\n",
              "      <td>3</td>\n",
              "      <td>4</td>\n",
              "      <td>2</td>\n",
              "      <td>6</td>\n",
              "      <td>0</td>\n",
              "      <td>4</td>\n",
              "      <td>1</td>\n",
              "      <td>40</td>\n",
              "      <td>1</td>\n",
              "      <td>&gt;50K</td>\n",
              "    </tr>\n",
              "    <tr>\n",
              "      <th>32558</th>\n",
              "      <td>58</td>\n",
              "      <td>3</td>\n",
              "      <td>4</td>\n",
              "      <td>6</td>\n",
              "      <td>0</td>\n",
              "      <td>4</td>\n",
              "      <td>4</td>\n",
              "      <td>0</td>\n",
              "      <td>40</td>\n",
              "      <td>1</td>\n",
              "      <td>&lt;=50K</td>\n",
              "    </tr>\n",
              "    <tr>\n",
              "      <th>32559</th>\n",
              "      <td>22</td>\n",
              "      <td>3</td>\n",
              "      <td>4</td>\n",
              "      <td>4</td>\n",
              "      <td>0</td>\n",
              "      <td>3</td>\n",
              "      <td>4</td>\n",
              "      <td>1</td>\n",
              "      <td>20</td>\n",
              "      <td>1</td>\n",
              "      <td>&lt;=50K</td>\n",
              "    </tr>\n",
              "    <tr>\n",
              "      <th>32560</th>\n",
              "      <td>52</td>\n",
              "      <td>4</td>\n",
              "      <td>4</td>\n",
              "      <td>2</td>\n",
              "      <td>3</td>\n",
              "      <td>5</td>\n",
              "      <td>4</td>\n",
              "      <td>0</td>\n",
              "      <td>40</td>\n",
              "      <td>1</td>\n",
              "      <td>&gt;50K</td>\n",
              "    </tr>\n",
              "  </tbody>\n",
              "</table>\n",
              "<p>32561 rows × 11 columns</p>\n",
              "</div>\n",
              "      <button class=\"colab-df-convert\" onclick=\"convertToInteractive('df-6e7db21a-660f-45fe-9096-90e0198c5c3c')\"\n",
              "              title=\"Convert this dataframe to an interactive table.\"\n",
              "              style=\"display:none;\">\n",
              "        \n",
              "  <svg xmlns=\"http://www.w3.org/2000/svg\" height=\"24px\"viewBox=\"0 0 24 24\"\n",
              "       width=\"24px\">\n",
              "    <path d=\"M0 0h24v24H0V0z\" fill=\"none\"/>\n",
              "    <path d=\"M18.56 5.44l.94 2.06.94-2.06 2.06-.94-2.06-.94-.94-2.06-.94 2.06-2.06.94zm-11 1L8.5 8.5l.94-2.06 2.06-.94-2.06-.94L8.5 2.5l-.94 2.06-2.06.94zm10 10l.94 2.06.94-2.06 2.06-.94-2.06-.94-.94-2.06-.94 2.06-2.06.94z\"/><path d=\"M17.41 7.96l-1.37-1.37c-.4-.4-.92-.59-1.43-.59-.52 0-1.04.2-1.43.59L10.3 9.45l-7.72 7.72c-.78.78-.78 2.05 0 2.83L4 21.41c.39.39.9.59 1.41.59.51 0 1.02-.2 1.41-.59l7.78-7.78 2.81-2.81c.8-.78.8-2.07 0-2.86zM5.41 20L4 18.59l7.72-7.72 1.47 1.35L5.41 20z\"/>\n",
              "  </svg>\n",
              "      </button>\n",
              "      \n",
              "  <style>\n",
              "    .colab-df-container {\n",
              "      display:flex;\n",
              "      flex-wrap:wrap;\n",
              "      gap: 12px;\n",
              "    }\n",
              "\n",
              "    .colab-df-convert {\n",
              "      background-color: #E8F0FE;\n",
              "      border: none;\n",
              "      border-radius: 50%;\n",
              "      cursor: pointer;\n",
              "      display: none;\n",
              "      fill: #1967D2;\n",
              "      height: 32px;\n",
              "      padding: 0 0 0 0;\n",
              "      width: 32px;\n",
              "    }\n",
              "\n",
              "    .colab-df-convert:hover {\n",
              "      background-color: #E2EBFA;\n",
              "      box-shadow: 0px 1px 2px rgba(60, 64, 67, 0.3), 0px 1px 3px 1px rgba(60, 64, 67, 0.15);\n",
              "      fill: #174EA6;\n",
              "    }\n",
              "\n",
              "    [theme=dark] .colab-df-convert {\n",
              "      background-color: #3B4455;\n",
              "      fill: #D2E3FC;\n",
              "    }\n",
              "\n",
              "    [theme=dark] .colab-df-convert:hover {\n",
              "      background-color: #434B5C;\n",
              "      box-shadow: 0px 1px 3px 1px rgba(0, 0, 0, 0.15);\n",
              "      filter: drop-shadow(0px 1px 2px rgba(0, 0, 0, 0.3));\n",
              "      fill: #FFFFFF;\n",
              "    }\n",
              "  </style>\n",
              "\n",
              "      <script>\n",
              "        const buttonEl =\n",
              "          document.querySelector('#df-6e7db21a-660f-45fe-9096-90e0198c5c3c button.colab-df-convert');\n",
              "        buttonEl.style.display =\n",
              "          google.colab.kernel.accessAllowed ? 'block' : 'none';\n",
              "\n",
              "        async function convertToInteractive(key) {\n",
              "          const element = document.querySelector('#df-6e7db21a-660f-45fe-9096-90e0198c5c3c');\n",
              "          const dataTable =\n",
              "            await google.colab.kernel.invokeFunction('convertToInteractive',\n",
              "                                                     [key], {});\n",
              "          if (!dataTable) return;\n",
              "\n",
              "          const docLinkHtml = 'Like what you see? Visit the ' +\n",
              "            '<a target=\"_blank\" href=https://colab.research.google.com/notebooks/data_table.ipynb>data table notebook</a>'\n",
              "            + ' to learn more about interactive tables.';\n",
              "          element.innerHTML = '';\n",
              "          dataTable['output_type'] = 'display_data';\n",
              "          await google.colab.output.renderOutput(dataTable, element);\n",
              "          const docLink = document.createElement('div');\n",
              "          docLink.innerHTML = docLinkHtml;\n",
              "          element.appendChild(docLink);\n",
              "        }\n",
              "      </script>\n",
              "    </div>\n",
              "  </div>\n",
              "  "
            ],
            "text/plain": [
              "       age  workclass  education  marital-status  occupation  relationship  \\\n",
              "0       39          6          2               4           0             1   \n",
              "1       50          5          2               2           3             0   \n",
              "2       38          3          4               0           5             1   \n",
              "3       53          3          7               2           5             0   \n",
              "4       28          3          2               2           9             5   \n",
              "...    ...        ...        ...             ...         ...           ...   \n",
              "32556   27          3          0               2          12             5   \n",
              "32557   40          3          4               2           6             0   \n",
              "32558   58          3          4               6           0             4   \n",
              "32559   22          3          4               4           0             3   \n",
              "32560   52          4          4               2           3             5   \n",
              "\n",
              "       race  sex  hours-per-week  native-country   class  \n",
              "0         4    1              40               1   <=50K  \n",
              "1         4    1              13               1   <=50K  \n",
              "2         4    1              40               1   <=50K  \n",
              "3         2    1              40               1   <=50K  \n",
              "4         2    0              40               0   <=50K  \n",
              "...     ...  ...             ...             ...     ...  \n",
              "32556     4    0              38               1   <=50K  \n",
              "32557     4    1              40               1    >50K  \n",
              "32558     4    0              40               1   <=50K  \n",
              "32559     4    1              20               1   <=50K  \n",
              "32560     4    0              40               1    >50K  \n",
              "\n",
              "[32561 rows x 11 columns]"
            ]
          },
          "execution_count": 73,
          "metadata": {},
          "output_type": "execute_result"
        }
      ],
      "source": [
        "# below are the categorical attributes in our data\n",
        "categorical = ['workclass', 'education', 'marital-status', 'occupation', 'relationship', 'race', 'sex', 'native-country']\n",
        "\n",
        "label_encoder = preprocessing.LabelEncoder()\n",
        "for col in categorical:\n",
        "    label_encoder.fit(raw_data[col])\n",
        "    raw_data[col] = label_encoder.transform(raw_data[col])\n",
        "\n",
        "raw_data"
      ]
    },
    {
      "cell_type": "code",
      "execution_count": 74,
      "metadata": {
        "colab": {
          "base_uri": "https://localhost:8080/",
          "height": 424
        },
        "id": "1KwNk6fKXUkq",
        "outputId": "b2f6c404-700f-4c5c-c67f-b0df74ed35a4"
      },
      "outputs": [
        {
          "data": {
            "text/html": [
              "\n",
              "  <div id=\"df-114d8686-7347-426f-aff4-65ac9f3ac623\">\n",
              "    <div class=\"colab-df-container\">\n",
              "      <div>\n",
              "<style scoped>\n",
              "    .dataframe tbody tr th:only-of-type {\n",
              "        vertical-align: middle;\n",
              "    }\n",
              "\n",
              "    .dataframe tbody tr th {\n",
              "        vertical-align: top;\n",
              "    }\n",
              "\n",
              "    .dataframe thead th {\n",
              "        text-align: right;\n",
              "    }\n",
              "</style>\n",
              "<table border=\"1\" class=\"dataframe\">\n",
              "  <thead>\n",
              "    <tr style=\"text-align: right;\">\n",
              "      <th></th>\n",
              "      <th>age</th>\n",
              "      <th>workclass</th>\n",
              "      <th>education</th>\n",
              "      <th>marital-status</th>\n",
              "      <th>occupation</th>\n",
              "      <th>relationship</th>\n",
              "      <th>race</th>\n",
              "      <th>sex</th>\n",
              "      <th>hours-per-week</th>\n",
              "      <th>native-country</th>\n",
              "      <th>class</th>\n",
              "    </tr>\n",
              "  </thead>\n",
              "  <tbody>\n",
              "    <tr>\n",
              "      <th>0</th>\n",
              "      <td>39</td>\n",
              "      <td>6</td>\n",
              "      <td>2</td>\n",
              "      <td>4</td>\n",
              "      <td>0</td>\n",
              "      <td>1</td>\n",
              "      <td>4</td>\n",
              "      <td>1</td>\n",
              "      <td>40</td>\n",
              "      <td>1</td>\n",
              "      <td>0</td>\n",
              "    </tr>\n",
              "    <tr>\n",
              "      <th>1</th>\n",
              "      <td>50</td>\n",
              "      <td>5</td>\n",
              "      <td>2</td>\n",
              "      <td>2</td>\n",
              "      <td>3</td>\n",
              "      <td>0</td>\n",
              "      <td>4</td>\n",
              "      <td>1</td>\n",
              "      <td>13</td>\n",
              "      <td>1</td>\n",
              "      <td>0</td>\n",
              "    </tr>\n",
              "    <tr>\n",
              "      <th>2</th>\n",
              "      <td>38</td>\n",
              "      <td>3</td>\n",
              "      <td>4</td>\n",
              "      <td>0</td>\n",
              "      <td>5</td>\n",
              "      <td>1</td>\n",
              "      <td>4</td>\n",
              "      <td>1</td>\n",
              "      <td>40</td>\n",
              "      <td>1</td>\n",
              "      <td>0</td>\n",
              "    </tr>\n",
              "    <tr>\n",
              "      <th>3</th>\n",
              "      <td>53</td>\n",
              "      <td>3</td>\n",
              "      <td>7</td>\n",
              "      <td>2</td>\n",
              "      <td>5</td>\n",
              "      <td>0</td>\n",
              "      <td>2</td>\n",
              "      <td>1</td>\n",
              "      <td>40</td>\n",
              "      <td>1</td>\n",
              "      <td>0</td>\n",
              "    </tr>\n",
              "    <tr>\n",
              "      <th>4</th>\n",
              "      <td>28</td>\n",
              "      <td>3</td>\n",
              "      <td>2</td>\n",
              "      <td>2</td>\n",
              "      <td>9</td>\n",
              "      <td>5</td>\n",
              "      <td>2</td>\n",
              "      <td>0</td>\n",
              "      <td>40</td>\n",
              "      <td>0</td>\n",
              "      <td>0</td>\n",
              "    </tr>\n",
              "    <tr>\n",
              "      <th>...</th>\n",
              "      <td>...</td>\n",
              "      <td>...</td>\n",
              "      <td>...</td>\n",
              "      <td>...</td>\n",
              "      <td>...</td>\n",
              "      <td>...</td>\n",
              "      <td>...</td>\n",
              "      <td>...</td>\n",
              "      <td>...</td>\n",
              "      <td>...</td>\n",
              "      <td>...</td>\n",
              "    </tr>\n",
              "    <tr>\n",
              "      <th>32556</th>\n",
              "      <td>27</td>\n",
              "      <td>3</td>\n",
              "      <td>0</td>\n",
              "      <td>2</td>\n",
              "      <td>12</td>\n",
              "      <td>5</td>\n",
              "      <td>4</td>\n",
              "      <td>0</td>\n",
              "      <td>38</td>\n",
              "      <td>1</td>\n",
              "      <td>0</td>\n",
              "    </tr>\n",
              "    <tr>\n",
              "      <th>32557</th>\n",
              "      <td>40</td>\n",
              "      <td>3</td>\n",
              "      <td>4</td>\n",
              "      <td>2</td>\n",
              "      <td>6</td>\n",
              "      <td>0</td>\n",
              "      <td>4</td>\n",
              "      <td>1</td>\n",
              "      <td>40</td>\n",
              "      <td>1</td>\n",
              "      <td>1</td>\n",
              "    </tr>\n",
              "    <tr>\n",
              "      <th>32558</th>\n",
              "      <td>58</td>\n",
              "      <td>3</td>\n",
              "      <td>4</td>\n",
              "      <td>6</td>\n",
              "      <td>0</td>\n",
              "      <td>4</td>\n",
              "      <td>4</td>\n",
              "      <td>0</td>\n",
              "      <td>40</td>\n",
              "      <td>1</td>\n",
              "      <td>0</td>\n",
              "    </tr>\n",
              "    <tr>\n",
              "      <th>32559</th>\n",
              "      <td>22</td>\n",
              "      <td>3</td>\n",
              "      <td>4</td>\n",
              "      <td>4</td>\n",
              "      <td>0</td>\n",
              "      <td>3</td>\n",
              "      <td>4</td>\n",
              "      <td>1</td>\n",
              "      <td>20</td>\n",
              "      <td>1</td>\n",
              "      <td>0</td>\n",
              "    </tr>\n",
              "    <tr>\n",
              "      <th>32560</th>\n",
              "      <td>52</td>\n",
              "      <td>4</td>\n",
              "      <td>4</td>\n",
              "      <td>2</td>\n",
              "      <td>3</td>\n",
              "      <td>5</td>\n",
              "      <td>4</td>\n",
              "      <td>0</td>\n",
              "      <td>40</td>\n",
              "      <td>1</td>\n",
              "      <td>1</td>\n",
              "    </tr>\n",
              "  </tbody>\n",
              "</table>\n",
              "<p>32561 rows × 11 columns</p>\n",
              "</div>\n",
              "      <button class=\"colab-df-convert\" onclick=\"convertToInteractive('df-114d8686-7347-426f-aff4-65ac9f3ac623')\"\n",
              "              title=\"Convert this dataframe to an interactive table.\"\n",
              "              style=\"display:none;\">\n",
              "        \n",
              "  <svg xmlns=\"http://www.w3.org/2000/svg\" height=\"24px\"viewBox=\"0 0 24 24\"\n",
              "       width=\"24px\">\n",
              "    <path d=\"M0 0h24v24H0V0z\" fill=\"none\"/>\n",
              "    <path d=\"M18.56 5.44l.94 2.06.94-2.06 2.06-.94-2.06-.94-.94-2.06-.94 2.06-2.06.94zm-11 1L8.5 8.5l.94-2.06 2.06-.94-2.06-.94L8.5 2.5l-.94 2.06-2.06.94zm10 10l.94 2.06.94-2.06 2.06-.94-2.06-.94-.94-2.06-.94 2.06-2.06.94z\"/><path d=\"M17.41 7.96l-1.37-1.37c-.4-.4-.92-.59-1.43-.59-.52 0-1.04.2-1.43.59L10.3 9.45l-7.72 7.72c-.78.78-.78 2.05 0 2.83L4 21.41c.39.39.9.59 1.41.59.51 0 1.02-.2 1.41-.59l7.78-7.78 2.81-2.81c.8-.78.8-2.07 0-2.86zM5.41 20L4 18.59l7.72-7.72 1.47 1.35L5.41 20z\"/>\n",
              "  </svg>\n",
              "      </button>\n",
              "      \n",
              "  <style>\n",
              "    .colab-df-container {\n",
              "      display:flex;\n",
              "      flex-wrap:wrap;\n",
              "      gap: 12px;\n",
              "    }\n",
              "\n",
              "    .colab-df-convert {\n",
              "      background-color: #E8F0FE;\n",
              "      border: none;\n",
              "      border-radius: 50%;\n",
              "      cursor: pointer;\n",
              "      display: none;\n",
              "      fill: #1967D2;\n",
              "      height: 32px;\n",
              "      padding: 0 0 0 0;\n",
              "      width: 32px;\n",
              "    }\n",
              "\n",
              "    .colab-df-convert:hover {\n",
              "      background-color: #E2EBFA;\n",
              "      box-shadow: 0px 1px 2px rgba(60, 64, 67, 0.3), 0px 1px 3px 1px rgba(60, 64, 67, 0.15);\n",
              "      fill: #174EA6;\n",
              "    }\n",
              "\n",
              "    [theme=dark] .colab-df-convert {\n",
              "      background-color: #3B4455;\n",
              "      fill: #D2E3FC;\n",
              "    }\n",
              "\n",
              "    [theme=dark] .colab-df-convert:hover {\n",
              "      background-color: #434B5C;\n",
              "      box-shadow: 0px 1px 3px 1px rgba(0, 0, 0, 0.15);\n",
              "      filter: drop-shadow(0px 1px 2px rgba(0, 0, 0, 0.3));\n",
              "      fill: #FFFFFF;\n",
              "    }\n",
              "  </style>\n",
              "\n",
              "      <script>\n",
              "        const buttonEl =\n",
              "          document.querySelector('#df-114d8686-7347-426f-aff4-65ac9f3ac623 button.colab-df-convert');\n",
              "        buttonEl.style.display =\n",
              "          google.colab.kernel.accessAllowed ? 'block' : 'none';\n",
              "\n",
              "        async function convertToInteractive(key) {\n",
              "          const element = document.querySelector('#df-114d8686-7347-426f-aff4-65ac9f3ac623');\n",
              "          const dataTable =\n",
              "            await google.colab.kernel.invokeFunction('convertToInteractive',\n",
              "                                                     [key], {});\n",
              "          if (!dataTable) return;\n",
              "\n",
              "          const docLinkHtml = 'Like what you see? Visit the ' +\n",
              "            '<a target=\"_blank\" href=https://colab.research.google.com/notebooks/data_table.ipynb>data table notebook</a>'\n",
              "            + ' to learn more about interactive tables.';\n",
              "          element.innerHTML = '';\n",
              "          dataTable['output_type'] = 'display_data';\n",
              "          await google.colab.output.renderOutput(dataTable, element);\n",
              "          const docLink = document.createElement('div');\n",
              "          docLink.innerHTML = docLinkHtml;\n",
              "          element.appendChild(docLink);\n",
              "        }\n",
              "      </script>\n",
              "    </div>\n",
              "  </div>\n",
              "  "
            ],
            "text/plain": [
              "       age  workclass  education  marital-status  occupation  relationship  \\\n",
              "0       39          6          2               4           0             1   \n",
              "1       50          5          2               2           3             0   \n",
              "2       38          3          4               0           5             1   \n",
              "3       53          3          7               2           5             0   \n",
              "4       28          3          2               2           9             5   \n",
              "...    ...        ...        ...             ...         ...           ...   \n",
              "32556   27          3          0               2          12             5   \n",
              "32557   40          3          4               2           6             0   \n",
              "32558   58          3          4               6           0             4   \n",
              "32559   22          3          4               4           0             3   \n",
              "32560   52          4          4               2           3             5   \n",
              "\n",
              "       race  sex  hours-per-week  native-country  class  \n",
              "0         4    1              40               1      0  \n",
              "1         4    1              13               1      0  \n",
              "2         4    1              40               1      0  \n",
              "3         2    1              40               1      0  \n",
              "4         2    0              40               0      0  \n",
              "...     ...  ...             ...             ...    ...  \n",
              "32556     4    0              38               1      0  \n",
              "32557     4    1              40               1      1  \n",
              "32558     4    0              40               1      0  \n",
              "32559     4    1              20               1      0  \n",
              "32560     4    0              40               1      1  \n",
              "\n",
              "[32561 rows x 11 columns]"
            ]
          },
          "execution_count": 74,
          "metadata": {},
          "output_type": "execute_result"
        }
      ],
      "source": [
        "raw_data['class'] = raw_data['class'].map({' <=50K': 0, ' >50K': 1})\n",
        "raw_data"
      ]
    },
    {
      "cell_type": "code",
      "execution_count": 75,
      "metadata": {
        "colab": {
          "base_uri": "https://localhost:8080/"
        },
        "id": "ghcrwCX9XZXH",
        "outputId": "18cc48d3-09f0-4ecb-e288-d9633b0cf7b3"
      },
      "outputs": [
        {
          "name": "stdout",
          "output_type": "stream",
          "text": [
            "Number of distinct values in age: 73\n",
            "Number of distinct values in workclass: 8\n",
            "Number of distinct values in education: 9\n",
            "Number of distinct values in marital-status: 7\n",
            "Number of distinct values in occupation: 14\n",
            "Number of distinct values in relationship: 6\n",
            "Number of distinct values in race: 5\n",
            "Number of distinct values in sex: 2\n",
            "Number of distinct values in hours-per-week: 94\n",
            "Number of distinct values in native-country: 2\n",
            "Number of distinct values in class: 2\n"
          ]
        }
      ],
      "source": [
        "for attr in raw_data:\n",
        "  print(f\"Number of distinct values in {attr}: {len(raw_data[attr].unique())}\")"
      ]
    },
    {
      "cell_type": "markdown",
      "metadata": {
        "id": "Zb6xoDM_V8ZC"
      },
      "source": [
        "Now that the data is in good shape to use, let's plot the correlation matrix to check how the attributes relate to the class."
      ]
    },
    {
      "cell_type": "code",
      "execution_count": 76,
      "metadata": {
        "colab": {
          "base_uri": "https://localhost:8080/",
          "height": 754
        },
        "id": "PItaKSErV78J",
        "outputId": "d698b2ab-81be-4af4-cab5-af5a12ffdfac"
      },
      "outputs": [
        {
          "name": "stderr",
          "output_type": "stream",
          "text": [
            "WARNING:matplotlib.legend:No handles with labels found to put in legend.\n"
          ]
        },
        {
          "data": {
            "text/plain": [
              "<matplotlib.legend.Legend at 0x7fb484999bd0>"
            ]
          },
          "execution_count": 76,
          "metadata": {},
          "output_type": "execute_result"
        },
        {
          "data": {
            "image/png": "[encoded data removed]",
            "text/plain": [
              "<Figure size 864x720 with 2 Axes>"
            ]
          },
          "metadata": {
            "needs_background": "light"
          },
          "output_type": "display_data"
        }
      ],
      "source": [
        "plt.figure(figsize = (12,10))\n",
        "plt.title(\"Correlation plot for all features of the data\", fontsize = 18, fontweight = 'bold')\n",
        "sns.heatmap(raw_data.corr(), cmap = 'Blues', annot = True)\n",
        "plt.yticks(fontsize=15, rotation = 0)\n",
        "plt.xticks(fontsize=15, rotation = 90)\n",
        "plt.legend(fontsize=15)"
      ]
    },
    {
      "cell_type": "markdown",
      "metadata": {
        "id": "_rMwXURiWTkj"
      },
      "source": [
        "Observations:\n",
        "1. Age, Sex and Hours-per-week are highly positively correlated to the class.\n",
        "2. workclass, occupation, race and native-country are moderately positively correlated to the class\n",
        "3. edication, marital-status and relationship are negatively related to the class"
      ]
    },
    {
      "cell_type": "markdown",
      "metadata": {
        "id": "0XyJpg4KXn7_"
      },
      "source": [
        "Next, we can use the chi-square test to find out the rankings of each feature and it's contribution to the target class."
      ]
    },
    {
      "cell_type": "code",
      "execution_count": 77,
      "metadata": {
        "id": "NfzUSQBMbBFk"
      },
      "outputs": [],
      "source": [
        "from sklearn.feature_selection import SelectKBest\n",
        "from sklearn.feature_selection import chi2"
      ]
    },
    {
      "cell_type": "code",
      "execution_count": 89,
      "metadata": {
        "id": "xyXCEh4kcm3g"
      },
      "outputs": [],
      "source": [
        "X_featureSelection = raw_data.iloc[:,0:10]\n",
        "y_featureSelection = raw_data.iloc[:,-1]"
      ]
    },
    {
      "cell_type": "code",
      "execution_count": 90,
      "metadata": {
        "id": "wMARbP1Gc21q"
      },
      "outputs": [],
      "source": [
        "# k = 10 as we have 10 input features\n",
        "bestfeatures = SelectKBest(score_func=chi2, k=10)\n",
        "fit = bestfeatures.fit(X_featureSelection, y_featureSelection)"
      ]
    },
    {
      "cell_type": "code",
      "execution_count": 91,
      "metadata": {
        "id": "hdnJMpfBdJdJ"
      },
      "outputs": [],
      "source": [
        "scores = pd.DataFrame(fit.scores_)\n",
        "dfcolumns = pd.DataFrame(X_featureSelection.columns)"
      ]
    },
    {
      "cell_type": "code",
      "execution_count": 92,
      "metadata": {
        "id": "_zw5yo5edbFL"
      },
      "outputs": [],
      "source": [
        "featureScores = pd.concat([dfcolumns, scores], axis = 1)\n",
        "featureScores.columns = ['Feature', 'Score']"
      ]
    },
    {
      "cell_type": "code",
      "execution_count": 93,
      "metadata": {
        "colab": {
          "base_uri": "https://localhost:8080/",
          "height": 363
        },
        "id": "1Vju2U85diLp",
        "outputId": "41e75ea8-0fb6-4ec3-b941-d96434e20d08"
      },
      "outputs": [
        {
          "data": {
            "text/html": [
              "\n",
              "  <div id=\"df-80eeba03-dde9-4b8b-818f-7df121173458\">\n",
              "    <div class=\"colab-df-container\">\n",
              "      <div>\n",
              "<style scoped>\n",
              "    .dataframe tbody tr th:only-of-type {\n",
              "        vertical-align: middle;\n",
              "    }\n",
              "\n",
              "    .dataframe tbody tr th {\n",
              "        vertical-align: top;\n",
              "    }\n",
              "\n",
              "    .dataframe thead th {\n",
              "        text-align: right;\n",
              "    }\n",
              "</style>\n",
              "<table border=\"1\" class=\"dataframe\">\n",
              "  <thead>\n",
              "    <tr style=\"text-align: right;\">\n",
              "      <th></th>\n",
              "      <th>Feature</th>\n",
              "      <th>Score</th>\n",
              "    </tr>\n",
              "  </thead>\n",
              "  <tbody>\n",
              "    <tr>\n",
              "      <th>0</th>\n",
              "      <td>age</td>\n",
              "      <td>8600.611822</td>\n",
              "    </tr>\n",
              "    <tr>\n",
              "      <th>1</th>\n",
              "      <td>workclass</td>\n",
              "      <td>0.093544</td>\n",
              "    </tr>\n",
              "    <tr>\n",
              "      <th>2</th>\n",
              "      <td>education</td>\n",
              "      <td>840.789531</td>\n",
              "    </tr>\n",
              "    <tr>\n",
              "      <th>3</th>\n",
              "      <td>marital-status</td>\n",
              "      <td>1123.469818</td>\n",
              "    </tr>\n",
              "    <tr>\n",
              "      <th>4</th>\n",
              "      <td>occupation</td>\n",
              "      <td>100.356439</td>\n",
              "    </tr>\n",
              "    <tr>\n",
              "      <th>5</th>\n",
              "      <td>relationship</td>\n",
              "      <td>3659.143125</td>\n",
              "    </tr>\n",
              "    <tr>\n",
              "      <th>6</th>\n",
              "      <td>race</td>\n",
              "      <td>33.031305</td>\n",
              "    </tr>\n",
              "    <tr>\n",
              "      <th>7</th>\n",
              "      <td>sex</td>\n",
              "      <td>502.439419</td>\n",
              "    </tr>\n",
              "    <tr>\n",
              "      <th>8</th>\n",
              "      <td>hours-per-week</td>\n",
              "      <td>6476.408996</td>\n",
              "    </tr>\n",
              "    <tr>\n",
              "      <th>9</th>\n",
              "      <td>native-country</td>\n",
              "      <td>4.258293</td>\n",
              "    </tr>\n",
              "  </tbody>\n",
              "</table>\n",
              "</div>\n",
              "      <button class=\"colab-df-convert\" onclick=\"convertToInteractive('df-80eeba03-dde9-4b8b-818f-7df121173458')\"\n",
              "              title=\"Convert this dataframe to an interactive table.\"\n",
              "              style=\"display:none;\">\n",
              "        \n",
              "  <svg xmlns=\"http://www.w3.org/2000/svg\" height=\"24px\"viewBox=\"0 0 24 24\"\n",
              "       width=\"24px\">\n",
              "    <path d=\"M0 0h24v24H0V0z\" fill=\"none\"/>\n",
              "    <path d=\"M18.56 5.44l.94 2.06.94-2.06 2.06-.94-2.06-.94-.94-2.06-.94 2.06-2.06.94zm-11 1L8.5 8.5l.94-2.06 2.06-.94-2.06-.94L8.5 2.5l-.94 2.06-2.06.94zm10 10l.94 2.06.94-2.06 2.06-.94-2.06-.94-.94-2.06-.94 2.06-2.06.94z\"/><path d=\"M17.41 7.96l-1.37-1.37c-.4-.4-.92-.59-1.43-.59-.52 0-1.04.2-1.43.59L10.3 9.45l-7.72 7.72c-.78.78-.78 2.05 0 2.83L4 21.41c.39.39.9.59 1.41.59.51 0 1.02-.2 1.41-.59l7.78-7.78 2.81-2.81c.8-.78.8-2.07 0-2.86zM5.41 20L4 18.59l7.72-7.72 1.47 1.35L5.41 20z\"/>\n",
              "  </svg>\n",
              "      </button>\n",
              "      \n",
              "  <style>\n",
              "    .colab-df-container {\n",
              "      display:flex;\n",
              "      flex-wrap:wrap;\n",
              "      gap: 12px;\n",
              "    }\n",
              "\n",
              "    .colab-df-convert {\n",
              "      background-color: #E8F0FE;\n",
              "      border: none;\n",
              "      border-radius: 50%;\n",
              "      cursor: pointer;\n",
              "      display: none;\n",
              "      fill: #1967D2;\n",
              "      height: 32px;\n",
              "      padding: 0 0 0 0;\n",
              "      width: 32px;\n",
              "    }\n",
              "\n",
              "    .colab-df-convert:hover {\n",
              "      background-color: #E2EBFA;\n",
              "      box-shadow: 0px 1px 2px rgba(60, 64, 67, 0.3), 0px 1px 3px 1px rgba(60, 64, 67, 0.15);\n",
              "      fill: #174EA6;\n",
              "    }\n",
              "\n",
              "    [theme=dark] .colab-df-convert {\n",
              "      background-color: #3B4455;\n",
              "      fill: #D2E3FC;\n",
              "    }\n",
              "\n",
              "    [theme=dark] .colab-df-convert:hover {\n",
              "      background-color: #434B5C;\n",
              "      box-shadow: 0px 1px 3px 1px rgba(0, 0, 0, 0.15);\n",
              "      filter: drop-shadow(0px 1px 2px rgba(0, 0, 0, 0.3));\n",
              "      fill: #FFFFFF;\n",
              "    }\n",
              "  </style>\n",
              "\n",
              "      <script>\n",
              "        const buttonEl =\n",
              "          document.querySelector('#df-80eeba03-dde9-4b8b-818f-7df121173458 button.colab-df-convert');\n",
              "        buttonEl.style.display =\n",
              "          google.colab.kernel.accessAllowed ? 'block' : 'none';\n",
              "\n",
              "        async function convertToInteractive(key) {\n",
              "          const element = document.querySelector('#df-80eeba03-dde9-4b8b-818f-7df121173458');\n",
              "          const dataTable =\n",
              "            await google.colab.kernel.invokeFunction('convertToInteractive',\n",
              "                                                     [key], {});\n",
              "          if (!dataTable) return;\n",
              "\n",
              "          const docLinkHtml = 'Like what you see? Visit the ' +\n",
              "            '<a target=\"_blank\" href=https://colab.research.google.com/notebooks/data_table.ipynb>data table notebook</a>'\n",
              "            + ' to learn more about interactive tables.';\n",
              "          element.innerHTML = '';\n",
              "          dataTable['output_type'] = 'display_data';\n",
              "          await google.colab.output.renderOutput(dataTable, element);\n",
              "          const docLink = document.createElement('div');\n",
              "          docLink.innerHTML = docLinkHtml;\n",
              "          element.appendChild(docLink);\n",
              "        }\n",
              "      </script>\n",
              "    </div>\n",
              "  </div>\n",
              "  "
            ],
            "text/plain": [
              "          Feature        Score\n",
              "0             age  8600.611822\n",
              "1       workclass     0.093544\n",
              "2       education   840.789531\n",
              "3  marital-status  1123.469818\n",
              "4      occupation   100.356439\n",
              "5    relationship  3659.143125\n",
              "6            race    33.031305\n",
              "7             sex   502.439419\n",
              "8  hours-per-week  6476.408996\n",
              "9  native-country     4.258293"
            ]
          },
          "execution_count": 93,
          "metadata": {},
          "output_type": "execute_result"
        }
      ],
      "source": [
        "featureScores"
      ]
    },
    {
      "cell_type": "code",
      "execution_count": 94,
      "metadata": {
        "colab": {
          "base_uri": "https://localhost:8080/"
        },
        "id": "Ala10LSzdjw7",
        "outputId": "cf195606-543c-46fa-f6eb-788a41a2ab3c"
      },
      "outputs": [
        {
          "name": "stdout",
          "output_type": "stream",
          "text": [
            "          Feature        Score\n",
            "0             age  8600.611822\n",
            "8  hours-per-week  6476.408996\n",
            "5    relationship  3659.143125\n",
            "3  marital-status  1123.469818\n",
            "2       education   840.789531\n",
            "7             sex   502.439419\n",
            "4      occupation   100.356439\n",
            "6            race    33.031305\n",
            "9  native-country     4.258293\n",
            "1       workclass     0.093544\n"
          ]
        }
      ],
      "source": [
        "print(featureScores.nlargest(10, 'Score'))"
      ]
    },
    {
      "cell_type": "markdown",
      "metadata": {
        "id": "8hXaCvOLYAAw"
      },
      "source": [
        "Based on the above rankings, we can choose to ignore the lesser important features later on when trying different combinations of input."
      ]
    },
    {
      "cell_type": "markdown",
      "metadata": {
        "id": "yzTihQkFVk4t"
      },
      "source": [
        "With this, the data preprocessing, data cleaning, feature engineering, feature selection and categorical feature encoding is complete. We can now use the data to develop a Machine Learning model."
      ]
    },
    {
      "cell_type": "markdown",
      "metadata": {
        "id": "Ly8Y1kNLVz8n"
      },
      "source": [
        "### MODEL 1 - RANDOM FOREST"
      ]
    },
    {
      "cell_type": "markdown",
      "metadata": {
        "id": "jmkEU7zJYeyX"
      },
      "source": [
        "Random forests is an ensemble learning method for classification, regression and other tasks that operates by constructing a multitude of decision trees at training time."
      ]
    },
    {
      "cell_type": "code",
      "execution_count": 95,
      "metadata": {
        "id": "pguCeOpCd7Nl"
      },
      "outputs": [],
      "source": [
        "# create a deep copy of the preprocessed data\n",
        "seed = 0\n",
        "rf_data = raw_data.copy(deep = True)"
      ]
    },
    {
      "cell_type": "code",
      "execution_count": 96,
      "metadata": {
        "colab": {
          "base_uri": "https://localhost:8080/",
          "height": 424
        },
        "id": "J3yE7KM-itOV",
        "outputId": "a20470ee-7c71-4fad-894e-16878e84d3d5"
      },
      "outputs": [
        {
          "data": {
            "text/html": [
              "\n",
              "  <div id=\"df-01290a41-e389-46da-95ff-0674b0409675\">\n",
              "    <div class=\"colab-df-container\">\n",
              "      <div>\n",
              "<style scoped>\n",
              "    .dataframe tbody tr th:only-of-type {\n",
              "        vertical-align: middle;\n",
              "    }\n",
              "\n",
              "    .dataframe tbody tr th {\n",
              "        vertical-align: top;\n",
              "    }\n",
              "\n",
              "    .dataframe thead th {\n",
              "        text-align: right;\n",
              "    }\n",
              "</style>\n",
              "<table border=\"1\" class=\"dataframe\">\n",
              "  <thead>\n",
              "    <tr style=\"text-align: right;\">\n",
              "      <th></th>\n",
              "      <th>age</th>\n",
              "      <th>workclass</th>\n",
              "      <th>education</th>\n",
              "      <th>marital-status</th>\n",
              "      <th>occupation</th>\n",
              "      <th>relationship</th>\n",
              "      <th>race</th>\n",
              "      <th>sex</th>\n",
              "      <th>hours-per-week</th>\n",
              "      <th>native-country</th>\n",
              "    </tr>\n",
              "  </thead>\n",
              "  <tbody>\n",
              "    <tr>\n",
              "      <th>0</th>\n",
              "      <td>0.030671</td>\n",
              "      <td>2.624298</td>\n",
              "      <td>-1.146982</td>\n",
              "      <td>0.921634</td>\n",
              "      <td>-1.545256</td>\n",
              "      <td>-0.277805</td>\n",
              "      <td>0.393668</td>\n",
              "      <td>0.703071</td>\n",
              "      <td>-0.035429</td>\n",
              "      <td>0.307208</td>\n",
              "    </tr>\n",
              "    <tr>\n",
              "      <th>1</th>\n",
              "      <td>0.837109</td>\n",
              "      <td>1.721100</td>\n",
              "      <td>-1.146982</td>\n",
              "      <td>-0.406212</td>\n",
              "      <td>-0.790092</td>\n",
              "      <td>-0.900181</td>\n",
              "      <td>0.393668</td>\n",
              "      <td>0.703071</td>\n",
              "      <td>-2.222153</td>\n",
              "      <td>0.307208</td>\n",
              "    </tr>\n",
              "    <tr>\n",
              "      <th>2</th>\n",
              "      <td>-0.042642</td>\n",
              "      <td>-0.085296</td>\n",
              "      <td>-0.320568</td>\n",
              "      <td>-1.734058</td>\n",
              "      <td>-0.286649</td>\n",
              "      <td>-0.277805</td>\n",
              "      <td>0.393668</td>\n",
              "      <td>0.703071</td>\n",
              "      <td>-0.035429</td>\n",
              "      <td>0.307208</td>\n",
              "    </tr>\n",
              "    <tr>\n",
              "      <th>3</th>\n",
              "      <td>1.057047</td>\n",
              "      <td>-0.085296</td>\n",
              "      <td>0.919052</td>\n",
              "      <td>-0.406212</td>\n",
              "      <td>-0.286649</td>\n",
              "      <td>-0.900181</td>\n",
              "      <td>-1.962621</td>\n",
              "      <td>0.703071</td>\n",
              "      <td>-0.035429</td>\n",
              "      <td>0.307208</td>\n",
              "    </tr>\n",
              "    <tr>\n",
              "      <th>4</th>\n",
              "      <td>-0.775768</td>\n",
              "      <td>-0.085296</td>\n",
              "      <td>-1.146982</td>\n",
              "      <td>-0.406212</td>\n",
              "      <td>0.720237</td>\n",
              "      <td>2.211698</td>\n",
              "      <td>-1.962621</td>\n",
              "      <td>-1.422331</td>\n",
              "      <td>-0.035429</td>\n",
              "      <td>-3.255119</td>\n",
              "    </tr>\n",
              "    <tr>\n",
              "      <th>...</th>\n",
              "      <td>...</td>\n",
              "      <td>...</td>\n",
              "      <td>...</td>\n",
              "      <td>...</td>\n",
              "      <td>...</td>\n",
              "      <td>...</td>\n",
              "      <td>...</td>\n",
              "      <td>...</td>\n",
              "      <td>...</td>\n",
              "      <td>...</td>\n",
              "    </tr>\n",
              "    <tr>\n",
              "      <th>32556</th>\n",
              "      <td>-0.849080</td>\n",
              "      <td>-0.085296</td>\n",
              "      <td>-1.973395</td>\n",
              "      <td>-0.406212</td>\n",
              "      <td>1.475401</td>\n",
              "      <td>2.211698</td>\n",
              "      <td>0.393668</td>\n",
              "      <td>-1.422331</td>\n",
              "      <td>-0.197409</td>\n",
              "      <td>0.307208</td>\n",
              "    </tr>\n",
              "    <tr>\n",
              "      <th>32557</th>\n",
              "      <td>0.103983</td>\n",
              "      <td>-0.085296</td>\n",
              "      <td>-0.320568</td>\n",
              "      <td>-0.406212</td>\n",
              "      <td>-0.034928</td>\n",
              "      <td>-0.900181</td>\n",
              "      <td>0.393668</td>\n",
              "      <td>0.703071</td>\n",
              "      <td>-0.035429</td>\n",
              "      <td>0.307208</td>\n",
              "    </tr>\n",
              "    <tr>\n",
              "      <th>32558</th>\n",
              "      <td>1.423610</td>\n",
              "      <td>-0.085296</td>\n",
              "      <td>-0.320568</td>\n",
              "      <td>2.249480</td>\n",
              "      <td>-1.545256</td>\n",
              "      <td>1.589322</td>\n",
              "      <td>0.393668</td>\n",
              "      <td>-1.422331</td>\n",
              "      <td>-0.035429</td>\n",
              "      <td>0.307208</td>\n",
              "    </tr>\n",
              "    <tr>\n",
              "      <th>32559</th>\n",
              "      <td>-1.215643</td>\n",
              "      <td>-0.085296</td>\n",
              "      <td>-0.320568</td>\n",
              "      <td>0.921634</td>\n",
              "      <td>-1.545256</td>\n",
              "      <td>0.966947</td>\n",
              "      <td>0.393668</td>\n",
              "      <td>0.703071</td>\n",
              "      <td>-1.655225</td>\n",
              "      <td>0.307208</td>\n",
              "    </tr>\n",
              "    <tr>\n",
              "      <th>32560</th>\n",
              "      <td>0.983734</td>\n",
              "      <td>0.817902</td>\n",
              "      <td>-0.320568</td>\n",
              "      <td>-0.406212</td>\n",
              "      <td>-0.790092</td>\n",
              "      <td>2.211698</td>\n",
              "      <td>0.393668</td>\n",
              "      <td>-1.422331</td>\n",
              "      <td>-0.035429</td>\n",
              "      <td>0.307208</td>\n",
              "    </tr>\n",
              "  </tbody>\n",
              "</table>\n",
              "<p>32561 rows × 10 columns</p>\n",
              "</div>\n",
              "      <button class=\"colab-df-convert\" onclick=\"convertToInteractive('df-01290a41-e389-46da-95ff-0674b0409675')\"\n",
              "              title=\"Convert this dataframe to an interactive table.\"\n",
              "              style=\"display:none;\">\n",
              "        \n",
              "  <svg xmlns=\"http://www.w3.org/2000/svg\" height=\"24px\"viewBox=\"0 0 24 24\"\n",
              "       width=\"24px\">\n",
              "    <path d=\"M0 0h24v24H0V0z\" fill=\"none\"/>\n",
              "    <path d=\"M18.56 5.44l.94 2.06.94-2.06 2.06-.94-2.06-.94-.94-2.06-.94 2.06-2.06.94zm-11 1L8.5 8.5l.94-2.06 2.06-.94-2.06-.94L8.5 2.5l-.94 2.06-2.06.94zm10 10l.94 2.06.94-2.06 2.06-.94-2.06-.94-.94-2.06-.94 2.06-2.06.94z\"/><path d=\"M17.41 7.96l-1.37-1.37c-.4-.4-.92-.59-1.43-.59-.52 0-1.04.2-1.43.59L10.3 9.45l-7.72 7.72c-.78.78-.78 2.05 0 2.83L4 21.41c.39.39.9.59 1.41.59.51 0 1.02-.2 1.41-.59l7.78-7.78 2.81-2.81c.8-.78.8-2.07 0-2.86zM5.41 20L4 18.59l7.72-7.72 1.47 1.35L5.41 20z\"/>\n",
              "  </svg>\n",
              "      </button>\n",
              "      \n",
              "  <style>\n",
              "    .colab-df-container {\n",
              "      display:flex;\n",
              "      flex-wrap:wrap;\n",
              "      gap: 12px;\n",
              "    }\n",
              "\n",
              "    .colab-df-convert {\n",
              "      background-color: #E8F0FE;\n",
              "      border: none;\n",
              "      border-radius: 50%;\n",
              "      cursor: pointer;\n",
              "      display: none;\n",
              "      fill: #1967D2;\n",
              "      height: 32px;\n",
              "      padding: 0 0 0 0;\n",
              "      width: 32px;\n",
              "    }\n",
              "\n",
              "    .colab-df-convert:hover {\n",
              "      background-color: #E2EBFA;\n",
              "      box-shadow: 0px 1px 2px rgba(60, 64, 67, 0.3), 0px 1px 3px 1px rgba(60, 64, 67, 0.15);\n",
              "      fill: #174EA6;\n",
              "    }\n",
              "\n",
              "    [theme=dark] .colab-df-convert {\n",
              "      background-color: #3B4455;\n",
              "      fill: #D2E3FC;\n",
              "    }\n",
              "\n",
              "    [theme=dark] .colab-df-convert:hover {\n",
              "      background-color: #434B5C;\n",
              "      box-shadow: 0px 1px 3px 1px rgba(0, 0, 0, 0.15);\n",
              "      filter: drop-shadow(0px 1px 2px rgba(0, 0, 0, 0.3));\n",
              "      fill: #FFFFFF;\n",
              "    }\n",
              "  </style>\n",
              "\n",
              "      <script>\n",
              "        const buttonEl =\n",
              "          document.querySelector('#df-01290a41-e389-46da-95ff-0674b0409675 button.colab-df-convert');\n",
              "        buttonEl.style.display =\n",
              "          google.colab.kernel.accessAllowed ? 'block' : 'none';\n",
              "\n",
              "        async function convertToInteractive(key) {\n",
              "          const element = document.querySelector('#df-01290a41-e389-46da-95ff-0674b0409675');\n",
              "          const dataTable =\n",
              "            await google.colab.kernel.invokeFunction('convertToInteractive',\n",
              "                                                     [key], {});\n",
              "          if (!dataTable) return;\n",
              "\n",
              "          const docLinkHtml = 'Like what you see? Visit the ' +\n",
              "            '<a target=\"_blank\" href=https://colab.research.google.com/notebooks/data_table.ipynb>data table notebook</a>'\n",
              "            + ' to learn more about interactive tables.';\n",
              "          element.innerHTML = '';\n",
              "          dataTable['output_type'] = 'display_data';\n",
              "          await google.colab.output.renderOutput(dataTable, element);\n",
              "          const docLink = document.createElement('div');\n",
              "          docLink.innerHTML = docLinkHtml;\n",
              "          element.appendChild(docLink);\n",
              "        }\n",
              "      </script>\n",
              "    </div>\n",
              "  </div>\n",
              "  "
            ],
            "text/plain": [
              "            age  workclass  education  marital-status  occupation  \\\n",
              "0      0.030671   2.624298  -1.146982        0.921634   -1.545256   \n",
              "1      0.837109   1.721100  -1.146982       -0.406212   -0.790092   \n",
              "2     -0.042642  -0.085296  -0.320568       -1.734058   -0.286649   \n",
              "3      1.057047  -0.085296   0.919052       -0.406212   -0.286649   \n",
              "4     -0.775768  -0.085296  -1.146982       -0.406212    0.720237   \n",
              "...         ...        ...        ...             ...         ...   \n",
              "32556 -0.849080  -0.085296  -1.973395       -0.406212    1.475401   \n",
              "32557  0.103983  -0.085296  -0.320568       -0.406212   -0.034928   \n",
              "32558  1.423610  -0.085296  -0.320568        2.249480   -1.545256   \n",
              "32559 -1.215643  -0.085296  -0.320568        0.921634   -1.545256   \n",
              "32560  0.983734   0.817902  -0.320568       -0.406212   -0.790092   \n",
              "\n",
              "       relationship      race       sex  hours-per-week  native-country  \n",
              "0         -0.277805  0.393668  0.703071       -0.035429        0.307208  \n",
              "1         -0.900181  0.393668  0.703071       -2.222153        0.307208  \n",
              "2         -0.277805  0.393668  0.703071       -0.035429        0.307208  \n",
              "3         -0.900181 -1.962621  0.703071       -0.035429        0.307208  \n",
              "4          2.211698 -1.962621 -1.422331       -0.035429       -3.255119  \n",
              "...             ...       ...       ...             ...             ...  \n",
              "32556      2.211698  0.393668 -1.422331       -0.197409        0.307208  \n",
              "32557     -0.900181  0.393668  0.703071       -0.035429        0.307208  \n",
              "32558      1.589322  0.393668 -1.422331       -0.035429        0.307208  \n",
              "32559      0.966947  0.393668  0.703071       -1.655225        0.307208  \n",
              "32560      2.211698  0.393668 -1.422331       -0.035429        0.307208  \n",
              "\n",
              "[32561 rows x 10 columns]"
            ]
          },
          "execution_count": 96,
          "metadata": {},
          "output_type": "execute_result"
        }
      ],
      "source": [
        "# create train and test set\n",
        "rf_X = rf_data.drop(['class'], axis=1)\n",
        "rf_y = rf_data['class']\n",
        "\n",
        "# Scale the input values\n",
        "scaler = StandardScaler()\n",
        "\n",
        "rf_X = pd.DataFrame(scaler.fit_transform(rf_X), columns = rf_X.columns)\n",
        "rf_X"
      ]
    },
    {
      "cell_type": "code",
      "execution_count": 97,
      "metadata": {
        "id": "nBMlAqCFjwdY"
      },
      "outputs": [],
      "source": [
        "# spliting train and test into 60-40 ratio\n",
        "X_train_rf, X_test_rf, y_train_rf, y_test_rf = train_test_split(rf_X, rf_y, test_size = 0.4, random_state = seed)"
      ]
    },
    {
      "cell_type": "code",
      "execution_count": 98,
      "metadata": {
        "colab": {
          "base_uri": "https://localhost:8080/"
        },
        "id": "NrZmCacUjQJx",
        "outputId": "b45149dc-dab6-4b23-f0f5-279fbe2cf21f"
      },
      "outputs": [
        {
          "data": {
            "text/plain": [
              "GridSearchCV(estimator=RandomForestClassifier(),\n",
              "             param_grid={'bootstrap': [True, False],\n",
              "                         'criterion': ['gini', 'entropy'],\n",
              "                         'max_features': [None, 'sqrt', 'log2'],\n",
              "                         'n_estimators': [10, 25, 50, 75, 100, 150],\n",
              "                         'random_state': [0]})"
            ]
          },
          "execution_count": 98,
          "metadata": {},
          "output_type": "execute_result"
        }
      ],
      "source": [
        "# create a new random forest classifier without any hyperparams\n",
        "rfc = RandomForestClassifier()\n",
        "\n",
        "# create a parameter grid to check the best model hyperparameters\n",
        "\n",
        "# n_estimators -> number of trees in the forest\n",
        "# criterion -> function to measure the quality of split\n",
        "# max_features -> number of features to consider for the best split\n",
        "# bootstrap -> whether bootstrap samples are used when building trees. If False, the whole dataset is used to build each tree.\n",
        "# randomstate -> controls both the randomness\n",
        "param_grid_rfc = { 'n_estimators': [10, 25, 50, 75, 100, 150], \n",
        "              'criterion': ['gini', 'entropy'],\n",
        "              'max_features': [None, \"sqrt\", \"log2\"],\n",
        "              'bootstrap': [True, False],\n",
        "              'random_state' : [seed],\n",
        "            }\n",
        "\n",
        "# using gridsearchCV to find the best combinations of hyperparameters\n",
        "clf_rf = GridSearchCV(rfc, param_grid_rfc)\n",
        "\n",
        "clf_rf.fit(X_train_rf, y_train_rf)"
      ]
    },
    {
      "cell_type": "code",
      "execution_count": 99,
      "metadata": {
        "colab": {
          "base_uri": "https://localhost:8080/",
          "height": 1000
        },
        "id": "CbVSWQdMjTjX",
        "outputId": "9f8e886f-8b58-4ece-e930-c1c667afb669"
      },
      "outputs": [
        {
          "data": {
            "text/html": [
              "\n",
              "  <div id=\"df-9cc5019c-4f00-4b67-9a13-913407a5c4e3\">\n",
              "    <div class=\"colab-df-container\">\n",
              "      <div>\n",
              "<style scoped>\n",
              "    .dataframe tbody tr th:only-of-type {\n",
              "        vertical-align: middle;\n",
              "    }\n",
              "\n",
              "    .dataframe tbody tr th {\n",
              "        vertical-align: top;\n",
              "    }\n",
              "\n",
              "    .dataframe thead th {\n",
              "        text-align: right;\n",
              "    }\n",
              "</style>\n",
              "<table border=\"1\" class=\"dataframe\">\n",
              "  <thead>\n",
              "    <tr style=\"text-align: right;\">\n",
              "      <th></th>\n",
              "      <th>mean_fit_time</th>\n",
              "      <th>std_fit_time</th>\n",
              "      <th>mean_score_time</th>\n",
              "      <th>std_score_time</th>\n",
              "      <th>param_bootstrap</th>\n",
              "      <th>param_criterion</th>\n",
              "      <th>param_max_features</th>\n",
              "      <th>param_n_estimators</th>\n",
              "      <th>param_random_state</th>\n",
              "      <th>params</th>\n",
              "      <th>split0_test_score</th>\n",
              "      <th>split1_test_score</th>\n",
              "      <th>split2_test_score</th>\n",
              "      <th>split3_test_score</th>\n",
              "      <th>split4_test_score</th>\n",
              "      <th>mean_test_score</th>\n",
              "      <th>std_test_score</th>\n",
              "      <th>rank_test_score</th>\n",
              "    </tr>\n",
              "  </thead>\n",
              "  <tbody>\n",
              "    <tr>\n",
              "      <th>0</th>\n",
              "      <td>0.264833</td>\n",
              "      <td>0.005530</td>\n",
              "      <td>0.013266</td>\n",
              "      <td>0.000994</td>\n",
              "      <td>True</td>\n",
              "      <td>gini</td>\n",
              "      <td>None</td>\n",
              "      <td>10</td>\n",
              "      <td>0</td>\n",
              "      <td>{'bootstrap': True, 'criterion': 'gini', 'max_...</td>\n",
              "      <td>0.808086</td>\n",
              "      <td>0.812132</td>\n",
              "      <td>0.804709</td>\n",
              "      <td>0.796263</td>\n",
              "      <td>0.815971</td>\n",
              "      <td>0.807432</td>\n",
              "      <td>0.006747</td>\n",
              "      <td>56</td>\n",
              "    </tr>\n",
              "    <tr>\n",
              "      <th>1</th>\n",
              "      <td>0.804730</td>\n",
              "      <td>0.126497</td>\n",
              "      <td>0.029854</td>\n",
              "      <td>0.002611</td>\n",
              "      <td>True</td>\n",
              "      <td>gini</td>\n",
              "      <td>None</td>\n",
              "      <td>25</td>\n",
              "      <td>0</td>\n",
              "      <td>{'bootstrap': True, 'criterion': 'gini', 'max_...</td>\n",
              "      <td>0.807830</td>\n",
              "      <td>0.815971</td>\n",
              "      <td>0.803686</td>\n",
              "      <td>0.799846</td>\n",
              "      <td>0.809573</td>\n",
              "      <td>0.807381</td>\n",
              "      <td>0.005463</td>\n",
              "      <td>57</td>\n",
              "    </tr>\n",
              "    <tr>\n",
              "      <th>2</th>\n",
              "      <td>1.297136</td>\n",
              "      <td>0.010186</td>\n",
              "      <td>0.050856</td>\n",
              "      <td>0.000955</td>\n",
              "      <td>True</td>\n",
              "      <td>gini</td>\n",
              "      <td>None</td>\n",
              "      <td>50</td>\n",
              "      <td>0</td>\n",
              "      <td>{'bootstrap': True, 'criterion': 'gini', 'max_...</td>\n",
              "      <td>0.812692</td>\n",
              "      <td>0.821858</td>\n",
              "      <td>0.803686</td>\n",
              "      <td>0.801382</td>\n",
              "      <td>0.817251</td>\n",
              "      <td>0.811374</td>\n",
              "      <td>0.007812</td>\n",
              "      <td>32</td>\n",
              "    </tr>\n",
              "    <tr>\n",
              "      <th>3</th>\n",
              "      <td>1.942414</td>\n",
              "      <td>0.018537</td>\n",
              "      <td>0.074506</td>\n",
              "      <td>0.000780</td>\n",
              "      <td>True</td>\n",
              "      <td>gini</td>\n",
              "      <td>None</td>\n",
              "      <td>75</td>\n",
              "      <td>0</td>\n",
              "      <td>{'bootstrap': True, 'criterion': 'gini', 'max_...</td>\n",
              "      <td>0.813460</td>\n",
              "      <td>0.820322</td>\n",
              "      <td>0.800870</td>\n",
              "      <td>0.802406</td>\n",
              "      <td>0.820067</td>\n",
              "      <td>0.811425</td>\n",
              "      <td>0.008375</td>\n",
              "      <td>31</td>\n",
              "    </tr>\n",
              "    <tr>\n",
              "      <th>4</th>\n",
              "      <td>2.589123</td>\n",
              "      <td>0.014252</td>\n",
              "      <td>0.098133</td>\n",
              "      <td>0.001184</td>\n",
              "      <td>True</td>\n",
              "      <td>gini</td>\n",
              "      <td>None</td>\n",
              "      <td>100</td>\n",
              "      <td>0</td>\n",
              "      <td>{'bootstrap': True, 'criterion': 'gini', 'max_...</td>\n",
              "      <td>0.814483</td>\n",
              "      <td>0.820578</td>\n",
              "      <td>0.805221</td>\n",
              "      <td>0.801382</td>\n",
              "      <td>0.815971</td>\n",
              "      <td>0.811527</td>\n",
              "      <td>0.007115</td>\n",
              "      <td>30</td>\n",
              "    </tr>\n",
              "    <tr>\n",
              "      <th>...</th>\n",
              "      <td>...</td>\n",
              "      <td>...</td>\n",
              "      <td>...</td>\n",
              "      <td>...</td>\n",
              "      <td>...</td>\n",
              "      <td>...</td>\n",
              "      <td>...</td>\n",
              "      <td>...</td>\n",
              "      <td>...</td>\n",
              "      <td>...</td>\n",
              "      <td>...</td>\n",
              "      <td>...</td>\n",
              "      <td>...</td>\n",
              "      <td>...</td>\n",
              "      <td>...</td>\n",
              "      <td>...</td>\n",
              "      <td>...</td>\n",
              "      <td>...</td>\n",
              "    </tr>\n",
              "    <tr>\n",
              "      <th>67</th>\n",
              "      <td>0.517082</td>\n",
              "      <td>0.006485</td>\n",
              "      <td>0.032398</td>\n",
              "      <td>0.000974</td>\n",
              "      <td>False</td>\n",
              "      <td>entropy</td>\n",
              "      <td>log2</td>\n",
              "      <td>25</td>\n",
              "      <td>0</td>\n",
              "      <td>{'bootstrap': False, 'criterion': 'entropy', '...</td>\n",
              "      <td>0.811924</td>\n",
              "      <td>0.814436</td>\n",
              "      <td>0.802150</td>\n",
              "      <td>0.797799</td>\n",
              "      <td>0.812644</td>\n",
              "      <td>0.807791</td>\n",
              "      <td>0.006580</td>\n",
              "      <td>52</td>\n",
              "    </tr>\n",
              "    <tr>\n",
              "      <th>68</th>\n",
              "      <td>1.023748</td>\n",
              "      <td>0.007599</td>\n",
              "      <td>0.060062</td>\n",
              "      <td>0.000606</td>\n",
              "      <td>False</td>\n",
              "      <td>entropy</td>\n",
              "      <td>log2</td>\n",
              "      <td>50</td>\n",
              "      <td>0</td>\n",
              "      <td>{'bootstrap': False, 'criterion': 'entropy', '...</td>\n",
              "      <td>0.809877</td>\n",
              "      <td>0.820578</td>\n",
              "      <td>0.804198</td>\n",
              "      <td>0.799335</td>\n",
              "      <td>0.812900</td>\n",
              "      <td>0.809378</td>\n",
              "      <td>0.007291</td>\n",
              "      <td>38</td>\n",
              "    </tr>\n",
              "    <tr>\n",
              "      <th>69</th>\n",
              "      <td>1.536896</td>\n",
              "      <td>0.006620</td>\n",
              "      <td>0.088351</td>\n",
              "      <td>0.000840</td>\n",
              "      <td>False</td>\n",
              "      <td>entropy</td>\n",
              "      <td>log2</td>\n",
              "      <td>75</td>\n",
              "      <td>0</td>\n",
              "      <td>{'bootstrap': False, 'criterion': 'entropy', '...</td>\n",
              "      <td>0.810645</td>\n",
              "      <td>0.820322</td>\n",
              "      <td>0.802662</td>\n",
              "      <td>0.798823</td>\n",
              "      <td>0.813412</td>\n",
              "      <td>0.809173</td>\n",
              "      <td>0.007668</td>\n",
              "      <td>40</td>\n",
              "    </tr>\n",
              "    <tr>\n",
              "      <th>70</th>\n",
              "      <td>2.042832</td>\n",
              "      <td>0.009220</td>\n",
              "      <td>0.119616</td>\n",
              "      <td>0.002604</td>\n",
              "      <td>False</td>\n",
              "      <td>entropy</td>\n",
              "      <td>log2</td>\n",
              "      <td>100</td>\n",
              "      <td>0</td>\n",
              "      <td>{'bootstrap': False, 'criterion': 'entropy', '...</td>\n",
              "      <td>0.810645</td>\n",
              "      <td>0.819043</td>\n",
              "      <td>0.804709</td>\n",
              "      <td>0.801126</td>\n",
              "      <td>0.814948</td>\n",
              "      <td>0.810094</td>\n",
              "      <td>0.006532</td>\n",
              "      <td>34</td>\n",
              "    </tr>\n",
              "    <tr>\n",
              "      <th>71</th>\n",
              "      <td>3.239819</td>\n",
              "      <td>0.316981</td>\n",
              "      <td>0.176284</td>\n",
              "      <td>0.002509</td>\n",
              "      <td>False</td>\n",
              "      <td>entropy</td>\n",
              "      <td>log2</td>\n",
              "      <td>150</td>\n",
              "      <td>0</td>\n",
              "      <td>{'bootstrap': False, 'criterion': 'entropy', '...</td>\n",
              "      <td>0.811157</td>\n",
              "      <td>0.818275</td>\n",
              "      <td>0.805989</td>\n",
              "      <td>0.801126</td>\n",
              "      <td>0.812644</td>\n",
              "      <td>0.809838</td>\n",
              "      <td>0.005857</td>\n",
              "      <td>36</td>\n",
              "    </tr>\n",
              "  </tbody>\n",
              "</table>\n",
              "<p>72 rows × 18 columns</p>\n",
              "</div>\n",
              "      <button class=\"colab-df-convert\" onclick=\"convertToInteractive('df-9cc5019c-4f00-4b67-9a13-913407a5c4e3')\"\n",
              "              title=\"Convert this dataframe to an interactive table.\"\n",
              "              style=\"display:none;\">\n",
              "        \n",
              "  <svg xmlns=\"http://www.w3.org/2000/svg\" height=\"24px\"viewBox=\"0 0 24 24\"\n",
              "       width=\"24px\">\n",
              "    <path d=\"M0 0h24v24H0V0z\" fill=\"none\"/>\n",
              "    <path d=\"M18.56 5.44l.94 2.06.94-2.06 2.06-.94-2.06-.94-.94-2.06-.94 2.06-2.06.94zm-11 1L8.5 8.5l.94-2.06 2.06-.94-2.06-.94L8.5 2.5l-.94 2.06-2.06.94zm10 10l.94 2.06.94-2.06 2.06-.94-2.06-.94-.94-2.06-.94 2.06-2.06.94z\"/><path d=\"M17.41 7.96l-1.37-1.37c-.4-.4-.92-.59-1.43-.59-.52 0-1.04.2-1.43.59L10.3 9.45l-7.72 7.72c-.78.78-.78 2.05 0 2.83L4 21.41c.39.39.9.59 1.41.59.51 0 1.02-.2 1.41-.59l7.78-7.78 2.81-2.81c.8-.78.8-2.07 0-2.86zM5.41 20L4 18.59l7.72-7.72 1.47 1.35L5.41 20z\"/>\n",
              "  </svg>\n",
              "      </button>\n",
              "      \n",
              "  <style>\n",
              "    .colab-df-container {\n",
              "      display:flex;\n",
              "      flex-wrap:wrap;\n",
              "      gap: 12px;\n",
              "    }\n",
              "\n",
              "    .colab-df-convert {\n",
              "      background-color: #E8F0FE;\n",
              "      border: none;\n",
              "      border-radius: 50%;\n",
              "      cursor: pointer;\n",
              "      display: none;\n",
              "      fill: #1967D2;\n",
              "      height: 32px;\n",
              "      padding: 0 0 0 0;\n",
              "      width: 32px;\n",
              "    }\n",
              "\n",
              "    .colab-df-convert:hover {\n",
              "      background-color: #E2EBFA;\n",
              "      box-shadow: 0px 1px 2px rgba(60, 64, 67, 0.3), 0px 1px 3px 1px rgba(60, 64, 67, 0.15);\n",
              "      fill: #174EA6;\n",
              "    }\n",
              "\n",
              "    [theme=dark] .colab-df-convert {\n",
              "      background-color: #3B4455;\n",
              "      fill: #D2E3FC;\n",
              "    }\n",
              "\n",
              "    [theme=dark] .colab-df-convert:hover {\n",
              "      background-color: #434B5C;\n",
              "      box-shadow: 0px 1px 3px 1px rgba(0, 0, 0, 0.15);\n",
              "      filter: drop-shadow(0px 1px 2px rgba(0, 0, 0, 0.3));\n",
              "      fill: #FFFFFF;\n",
              "    }\n",
              "  </style>\n",
              "\n",
              "      <script>\n",
              "        const buttonEl =\n",
              "          document.querySelector('#df-9cc5019c-4f00-4b67-9a13-913407a5c4e3 button.colab-df-convert');\n",
              "        buttonEl.style.display =\n",
              "          google.colab.kernel.accessAllowed ? 'block' : 'none';\n",
              "\n",
              "        async function convertToInteractive(key) {\n",
              "          const element = document.querySelector('#df-9cc5019c-4f00-4b67-9a13-913407a5c4e3');\n",
              "          const dataTable =\n",
              "            await google.colab.kernel.invokeFunction('convertToInteractive',\n",
              "                                                     [key], {});\n",
              "          if (!dataTable) return;\n",
              "\n",
              "          const docLinkHtml = 'Like what you see? Visit the ' +\n",
              "            '<a target=\"_blank\" href=https://colab.research.google.com/notebooks/data_table.ipynb>data table notebook</a>'\n",
              "            + ' to learn more about interactive tables.';\n",
              "          element.innerHTML = '';\n",
              "          dataTable['output_type'] = 'display_data';\n",
              "          await google.colab.output.renderOutput(dataTable, element);\n",
              "          const docLink = document.createElement('div');\n",
              "          docLink.innerHTML = docLinkHtml;\n",
              "          element.appendChild(docLink);\n",
              "        }\n",
              "      </script>\n",
              "    </div>\n",
              "  </div>\n",
              "  "
            ],
            "text/plain": [
              "    mean_fit_time  std_fit_time  mean_score_time  std_score_time  \\\n",
              "0        0.264833      0.005530         0.013266        0.000994   \n",
              "1        0.804730      0.126497         0.029854        0.002611   \n",
              "2        1.297136      0.010186         0.050856        0.000955   \n",
              "3        1.942414      0.018537         0.074506        0.000780   \n",
              "4        2.589123      0.014252         0.098133        0.001184   \n",
              "..            ...           ...              ...             ...   \n",
              "67       0.517082      0.006485         0.032398        0.000974   \n",
              "68       1.023748      0.007599         0.060062        0.000606   \n",
              "69       1.536896      0.006620         0.088351        0.000840   \n",
              "70       2.042832      0.009220         0.119616        0.002604   \n",
              "71       3.239819      0.316981         0.176284        0.002509   \n",
              "\n",
              "   param_bootstrap param_criterion param_max_features param_n_estimators  \\\n",
              "0             True            gini               None                 10   \n",
              "1             True            gini               None                 25   \n",
              "2             True            gini               None                 50   \n",
              "3             True            gini               None                 75   \n",
              "4             True            gini               None                100   \n",
              "..             ...             ...                ...                ...   \n",
              "67           False         entropy               log2                 25   \n",
              "68           False         entropy               log2                 50   \n",
              "69           False         entropy               log2                 75   \n",
              "70           False         entropy               log2                100   \n",
              "71           False         entropy               log2                150   \n",
              "\n",
              "   param_random_state                                             params  \\\n",
              "0                   0  {'bootstrap': True, 'criterion': 'gini', 'max_...   \n",
              "1                   0  {'bootstrap': True, 'criterion': 'gini', 'max_...   \n",
              "2                   0  {'bootstrap': True, 'criterion': 'gini', 'max_...   \n",
              "3                   0  {'bootstrap': True, 'criterion': 'gini', 'max_...   \n",
              "4                   0  {'bootstrap': True, 'criterion': 'gini', 'max_...   \n",
              "..                ...                                                ...   \n",
              "67                  0  {'bootstrap': False, 'criterion': 'entropy', '...   \n",
              "68                  0  {'bootstrap': False, 'criterion': 'entropy', '...   \n",
              "69                  0  {'bootstrap': False, 'criterion': 'entropy', '...   \n",
              "70                  0  {'bootstrap': False, 'criterion': 'entropy', '...   \n",
              "71                  0  {'bootstrap': False, 'criterion': 'entropy', '...   \n",
              "\n",
              "    split0_test_score  split1_test_score  split2_test_score  \\\n",
              "0            0.808086           0.812132           0.804709   \n",
              "1            0.807830           0.815971           0.803686   \n",
              "2            0.812692           0.821858           0.803686   \n",
              "3            0.813460           0.820322           0.800870   \n",
              "4            0.814483           0.820578           0.805221   \n",
              "..                ...                ...                ...   \n",
              "67           0.811924           0.814436           0.802150   \n",
              "68           0.809877           0.820578           0.804198   \n",
              "69           0.810645           0.820322           0.802662   \n",
              "70           0.810645           0.819043           0.804709   \n",
              "71           0.811157           0.818275           0.805989   \n",
              "\n",
              "    split3_test_score  split4_test_score  mean_test_score  std_test_score  \\\n",
              "0            0.796263           0.815971         0.807432        0.006747   \n",
              "1            0.799846           0.809573         0.807381        0.005463   \n",
              "2            0.801382           0.817251         0.811374        0.007812   \n",
              "3            0.802406           0.820067         0.811425        0.008375   \n",
              "4            0.801382           0.815971         0.811527        0.007115   \n",
              "..                ...                ...              ...             ...   \n",
              "67           0.797799           0.812644         0.807791        0.006580   \n",
              "68           0.799335           0.812900         0.809378        0.007291   \n",
              "69           0.798823           0.813412         0.809173        0.007668   \n",
              "70           0.801126           0.814948         0.810094        0.006532   \n",
              "71           0.801126           0.812644         0.809838        0.005857   \n",
              "\n",
              "    rank_test_score  \n",
              "0                56  \n",
              "1                57  \n",
              "2                32  \n",
              "3                31  \n",
              "4                30  \n",
              "..              ...  \n",
              "67               52  \n",
              "68               38  \n",
              "69               40  \n",
              "70               34  \n",
              "71               36  \n",
              "\n",
              "[72 rows x 18 columns]"
            ]
          },
          "execution_count": 99,
          "metadata": {},
          "output_type": "execute_result"
        }
      ],
      "source": [
        "cv_results = pd.DataFrame(clf_rf.cv_results_)\n",
        "\n",
        "cv_results"
      ]
    },
    {
      "cell_type": "code",
      "execution_count": 100,
      "metadata": {
        "colab": {
          "base_uri": "https://localhost:8080/"
        },
        "id": "zy5M51dnjjTB",
        "outputId": "8386e738-af6e-48f6-cf75-61768814fde0"
      },
      "outputs": [
        {
          "name": "stdout",
          "output_type": "stream",
          "text": [
            "{'bootstrap': True, 'criterion': 'gini', 'max_features': 'sqrt', 'n_estimators': 100, 'random_state': 0}\n"
          ]
        }
      ],
      "source": [
        "print(clf_rf.best_params_)"
      ]
    },
    {
      "cell_type": "code",
      "execution_count": 101,
      "metadata": {
        "colab": {
          "base_uri": "https://localhost:8080/"
        },
        "id": "UmcZUXpmjlHn",
        "outputId": "3543d35a-4a98-4ef1-ef4d-e112f435ad81"
      },
      "outputs": [
        {
          "data": {
            "text/plain": [
              "RandomForestClassifier(max_features='sqrt', random_state=0)"
            ]
          },
          "execution_count": 101,
          "metadata": {},
          "output_type": "execute_result"
        }
      ],
      "source": [
        "best_rf = RandomForestClassifier(bootstrap=True, criterion='gini', n_estimators=100, random_state=0, max_features='sqrt')\n",
        "best_rf.fit(X_train_rf, y_train_rf)"
      ]
    },
    {
      "cell_type": "code",
      "execution_count": 105,
      "metadata": {
        "colab": {
          "base_uri": "https://localhost:8080/"
        },
        "id": "iX24gkgEjpBt",
        "outputId": "43e4f240-5752-436f-ccd9-ba38d0ecae07"
      },
      "outputs": [
        {
          "name": "stdout",
          "output_type": "stream",
          "text": [
            "Accuracy of Randim Forest model on with best hyperparameters: 81.84 %\n"
          ]
        }
      ],
      "source": [
        "# applying trained classifier to test data\n",
        "\n",
        "y_pred_rf = best_rf.predict(X_test_rf)\n",
        "print(f\"Accuracy of Randim Forest model on with best hyperparameters: %.2f\" % (accuracy_score(y_test_rf, y_pred_rf)*100),\"%\")"
      ]
    },
    {
      "cell_type": "code",
      "execution_count": 106,
      "metadata": {
        "colab": {
          "base_uri": "https://localhost:8080/"
        },
        "id": "8_x_mneBjrIR",
        "outputId": "be6d4993-5c72-4698-edc2-523444b5d538"
      },
      "outputs": [
        {
          "name": "stdout",
          "output_type": "stream",
          "text": [
            "Random Forest Precision: 65.14 %\n",
            "Random Forest Recall: 53.71 %\n"
          ]
        }
      ],
      "source": [
        "print(f\"Random Forest Precision: %.2f\" % (precision_score(y_test_rf, y_pred_rf)*100),\"%\")\n",
        "print(f\"Random Forest Recall: %.2f\" % (recall_score(y_test_rf, y_pred_rf)*100),\"%\")"
      ]
    },
    {
      "cell_type": "code",
      "execution_count": 107,
      "metadata": {
        "colab": {
          "base_uri": "https://localhost:8080/"
        },
        "id": "bZwB2hGGkCfz",
        "outputId": "cdb39580-22ff-4626-fb69-e50238718ce0"
      },
      "outputs": [
        {
          "name": "stdout",
          "output_type": "stream",
          "text": [
            "[[8967  906]\n",
            " [1459 1693]]\n"
          ]
        }
      ],
      "source": [
        "#Generate the confusion matrix\n",
        "cf_matrix = confusion_matrix(y_test_rf, y_pred_rf)\n",
        "\n",
        "print(cf_matrix)"
      ]
    },
    {
      "cell_type": "code",
      "execution_count": 108,
      "metadata": {
        "colab": {
          "base_uri": "https://localhost:8080/",
          "height": 501
        },
        "id": "XYqNHWMvkIKi",
        "outputId": "c7e75c41-b6a6-4bd4-c29d-04daf6ef2cc7"
      },
      "outputs": [
        {
          "data": {
            "image/png": "[encoded data removed]",
            "text/plain": [
              "<Figure size 540x540 with 1 Axes>"
            ]
          },
          "metadata": {
            "needs_background": "light"
          },
          "output_type": "display_data"
        }
      ],
      "source": [
        "fig, ax = plt.subplots(figsize=(7.5, 7.5))\n",
        "ax.matshow(cf_matrix, cmap=plt.cm.Blues, alpha=0.3)\n",
        "for i in range(cf_matrix.shape[0]):\n",
        "    for j in range(cf_matrix.shape[1]):\n",
        "        ax.text(x=j, y=i,s=cf_matrix[i, j], va='center', ha='center', size='xx-large')\n",
        " \n",
        "plt.xlabel('Predictions', fontsize=18)\n",
        "plt.ylabel('Actuals', fontsize=18)\n",
        "plt.title('Confusion Matrix', fontsize=18)\n",
        "plt.show()"
      ]
    },
    {
      "cell_type": "code",
      "execution_count": 109,
      "metadata": {
        "colab": {
          "base_uri": "https://localhost:8080/"
        },
        "id": "YYnA9P5JxBtT",
        "outputId": "01120da8-5dbd-4ac3-fddf-98aea3ba0089"
      },
      "outputs": [
        {
          "name": "stdout",
          "output_type": "stream",
          "text": [
            "0.5887671709267954\n"
          ]
        }
      ],
      "source": [
        "from sklearn.metrics import f1_score\n",
        "\n",
        "print(f1_score(y_pred_rf, y_test_rf))"
      ]
    },
    {
      "cell_type": "markdown",
      "metadata": {
        "id": "II-bhKRk184k"
      },
      "source": [
        "# ----------------------"
      ]
    },
    {
      "cell_type": "markdown",
      "metadata": {
        "id": "V38lTjdi54tR"
      },
      "source": [
        "# MODEL - K NEAREST NEIGHBORS (WITH K-FOLD CROSS VALIDATION)\n"
      ]
    },
    {
      "cell_type": "code",
      "execution_count": 110,
      "metadata": {
        "id": "uqGI3urFhcx0"
      },
      "outputs": [],
      "source": [
        "# create a deep copy of the preprocessed data\n",
        "seed = 0\n",
        "knn_data = raw_data.copy(deep = True)"
      ]
    },
    {
      "cell_type": "code",
      "execution_count": 113,
      "metadata": {
        "colab": {
          "base_uri": "https://localhost:8080/",
          "height": 424
        },
        "id": "fXk7T1XBt8Uh",
        "outputId": "bd02361d-5d8d-4cdd-da3e-cf2ec6bb6374"
      },
      "outputs": [
        {
          "data": {
            "text/html": [
              "\n",
              "  <div id=\"df-3c6e723c-d778-4a61-8449-bf22e6c6bd96\">\n",
              "    <div class=\"colab-df-container\">\n",
              "      <div>\n",
              "<style scoped>\n",
              "    .dataframe tbody tr th:only-of-type {\n",
              "        vertical-align: middle;\n",
              "    }\n",
              "\n",
              "    .dataframe tbody tr th {\n",
              "        vertical-align: top;\n",
              "    }\n",
              "\n",
              "    .dataframe thead th {\n",
              "        text-align: right;\n",
              "    }\n",
              "</style>\n",
              "<table border=\"1\" class=\"dataframe\">\n",
              "  <thead>\n",
              "    <tr style=\"text-align: right;\">\n",
              "      <th></th>\n",
              "      <th>age</th>\n",
              "      <th>workclass</th>\n",
              "      <th>education</th>\n",
              "      <th>marital-status</th>\n",
              "      <th>occupation</th>\n",
              "      <th>relationship</th>\n",
              "      <th>race</th>\n",
              "      <th>sex</th>\n",
              "      <th>hours-per-week</th>\n",
              "      <th>native-country</th>\n",
              "    </tr>\n",
              "  </thead>\n",
              "  <tbody>\n",
              "    <tr>\n",
              "      <th>0</th>\n",
              "      <td>0.030671</td>\n",
              "      <td>2.624298</td>\n",
              "      <td>-1.146982</td>\n",
              "      <td>0.921634</td>\n",
              "      <td>-1.545256</td>\n",
              "      <td>-0.277805</td>\n",
              "      <td>0.393668</td>\n",
              "      <td>0.703071</td>\n",
              "      <td>-0.035429</td>\n",
              "      <td>0.307208</td>\n",
              "    </tr>\n",
              "    <tr>\n",
              "      <th>1</th>\n",
              "      <td>0.837109</td>\n",
              "      <td>1.721100</td>\n",
              "      <td>-1.146982</td>\n",
              "      <td>-0.406212</td>\n",
              "      <td>-0.790092</td>\n",
              "      <td>-0.900181</td>\n",
              "      <td>0.393668</td>\n",
              "      <td>0.703071</td>\n",
              "      <td>-2.222153</td>\n",
              "      <td>0.307208</td>\n",
              "    </tr>\n",
              "    <tr>\n",
              "      <th>2</th>\n",
              "      <td>-0.042642</td>\n",
              "      <td>-0.085296</td>\n",
              "      <td>-0.320568</td>\n",
              "      <td>-1.734058</td>\n",
              "      <td>-0.286649</td>\n",
              "      <td>-0.277805</td>\n",
              "      <td>0.393668</td>\n",
              "      <td>0.703071</td>\n",
              "      <td>-0.035429</td>\n",
              "      <td>0.307208</td>\n",
              "    </tr>\n",
              "    <tr>\n",
              "      <th>3</th>\n",
              "      <td>1.057047</td>\n",
              "      <td>-0.085296</td>\n",
              "      <td>0.919052</td>\n",
              "      <td>-0.406212</td>\n",
              "      <td>-0.286649</td>\n",
              "      <td>-0.900181</td>\n",
              "      <td>-1.962621</td>\n",
              "      <td>0.703071</td>\n",
              "      <td>-0.035429</td>\n",
              "      <td>0.307208</td>\n",
              "    </tr>\n",
              "    <tr>\n",
              "      <th>4</th>\n",
              "      <td>-0.775768</td>\n",
              "      <td>-0.085296</td>\n",
              "      <td>-1.146982</td>\n",
              "      <td>-0.406212</td>\n",
              "      <td>0.720237</td>\n",
              "      <td>2.211698</td>\n",
              "      <td>-1.962621</td>\n",
              "      <td>-1.422331</td>\n",
              "      <td>-0.035429</td>\n",
              "      <td>-3.255119</td>\n",
              "    </tr>\n",
              "    <tr>\n",
              "      <th>...</th>\n",
              "      <td>...</td>\n",
              "      <td>...</td>\n",
              "      <td>...</td>\n",
              "      <td>...</td>\n",
              "      <td>...</td>\n",
              "      <td>...</td>\n",
              "      <td>...</td>\n",
              "      <td>...</td>\n",
              "      <td>...</td>\n",
              "      <td>...</td>\n",
              "    </tr>\n",
              "    <tr>\n",
              "      <th>32556</th>\n",
              "      <td>-0.849080</td>\n",
              "      <td>-0.085296</td>\n",
              "      <td>-1.973395</td>\n",
              "      <td>-0.406212</td>\n",
              "      <td>1.475401</td>\n",
              "      <td>2.211698</td>\n",
              "      <td>0.393668</td>\n",
              "      <td>-1.422331</td>\n",
              "      <td>-0.197409</td>\n",
              "      <td>0.307208</td>\n",
              "    </tr>\n",
              "    <tr>\n",
              "      <th>32557</th>\n",
              "      <td>0.103983</td>\n",
              "      <td>-0.085296</td>\n",
              "      <td>-0.320568</td>\n",
              "      <td>-0.406212</td>\n",
              "      <td>-0.034928</td>\n",
              "      <td>-0.900181</td>\n",
              "      <td>0.393668</td>\n",
              "      <td>0.703071</td>\n",
              "      <td>-0.035429</td>\n",
              "      <td>0.307208</td>\n",
              "    </tr>\n",
              "    <tr>\n",
              "      <th>32558</th>\n",
              "      <td>1.423610</td>\n",
              "      <td>-0.085296</td>\n",
              "      <td>-0.320568</td>\n",
              "      <td>2.249480</td>\n",
              "      <td>-1.545256</td>\n",
              "      <td>1.589322</td>\n",
              "      <td>0.393668</td>\n",
              "      <td>-1.422331</td>\n",
              "      <td>-0.035429</td>\n",
              "      <td>0.307208</td>\n",
              "    </tr>\n",
              "    <tr>\n",
              "      <th>32559</th>\n",
              "      <td>-1.215643</td>\n",
              "      <td>-0.085296</td>\n",
              "      <td>-0.320568</td>\n",
              "      <td>0.921634</td>\n",
              "      <td>-1.545256</td>\n",
              "      <td>0.966947</td>\n",
              "      <td>0.393668</td>\n",
              "      <td>0.703071</td>\n",
              "      <td>-1.655225</td>\n",
              "      <td>0.307208</td>\n",
              "    </tr>\n",
              "    <tr>\n",
              "      <th>32560</th>\n",
              "      <td>0.983734</td>\n",
              "      <td>0.817902</td>\n",
              "      <td>-0.320568</td>\n",
              "      <td>-0.406212</td>\n",
              "      <td>-0.790092</td>\n",
              "      <td>2.211698</td>\n",
              "      <td>0.393668</td>\n",
              "      <td>-1.422331</td>\n",
              "      <td>-0.035429</td>\n",
              "      <td>0.307208</td>\n",
              "    </tr>\n",
              "  </tbody>\n",
              "</table>\n",
              "<p>32561 rows × 10 columns</p>\n",
              "</div>\n",
              "      <button class=\"colab-df-convert\" onclick=\"convertToInteractive('df-3c6e723c-d778-4a61-8449-bf22e6c6bd96')\"\n",
              "              title=\"Convert this dataframe to an interactive table.\"\n",
              "              style=\"display:none;\">\n",
              "        \n",
              "  <svg xmlns=\"http://www.w3.org/2000/svg\" height=\"24px\"viewBox=\"0 0 24 24\"\n",
              "       width=\"24px\">\n",
              "    <path d=\"M0 0h24v24H0V0z\" fill=\"none\"/>\n",
              "    <path d=\"M18.56 5.44l.94 2.06.94-2.06 2.06-.94-2.06-.94-.94-2.06-.94 2.06-2.06.94zm-11 1L8.5 8.5l.94-2.06 2.06-.94-2.06-.94L8.5 2.5l-.94 2.06-2.06.94zm10 10l.94 2.06.94-2.06 2.06-.94-2.06-.94-.94-2.06-.94 2.06-2.06.94z\"/><path d=\"M17.41 7.96l-1.37-1.37c-.4-.4-.92-.59-1.43-.59-.52 0-1.04.2-1.43.59L10.3 9.45l-7.72 7.72c-.78.78-.78 2.05 0 2.83L4 21.41c.39.39.9.59 1.41.59.51 0 1.02-.2 1.41-.59l7.78-7.78 2.81-2.81c.8-.78.8-2.07 0-2.86zM5.41 20L4 18.59l7.72-7.72 1.47 1.35L5.41 20z\"/>\n",
              "  </svg>\n",
              "      </button>\n",
              "      \n",
              "  <style>\n",
              "    .colab-df-container {\n",
              "      display:flex;\n",
              "      flex-wrap:wrap;\n",
              "      gap: 12px;\n",
              "    }\n",
              "\n",
              "    .colab-df-convert {\n",
              "      background-color: #E8F0FE;\n",
              "      border: none;\n",
              "      border-radius: 50%;\n",
              "      cursor: pointer;\n",
              "      display: none;\n",
              "      fill: #1967D2;\n",
              "      height: 32px;\n",
              "      padding: 0 0 0 0;\n",
              "      width: 32px;\n",
              "    }\n",
              "\n",
              "    .colab-df-convert:hover {\n",
              "      background-color: #E2EBFA;\n",
              "      box-shadow: 0px 1px 2px rgba(60, 64, 67, 0.3), 0px 1px 3px 1px rgba(60, 64, 67, 0.15);\n",
              "      fill: #174EA6;\n",
              "    }\n",
              "\n",
              "    [theme=dark] .colab-df-convert {\n",
              "      background-color: #3B4455;\n",
              "      fill: #D2E3FC;\n",
              "    }\n",
              "\n",
              "    [theme=dark] .colab-df-convert:hover {\n",
              "      background-color: #434B5C;\n",
              "      box-shadow: 0px 1px 3px 1px rgba(0, 0, 0, 0.15);\n",
              "      filter: drop-shadow(0px 1px 2px rgba(0, 0, 0, 0.3));\n",
              "      fill: #FFFFFF;\n",
              "    }\n",
              "  </style>\n",
              "\n",
              "      <script>\n",
              "        const buttonEl =\n",
              "          document.querySelector('#df-3c6e723c-d778-4a61-8449-bf22e6c6bd96 button.colab-df-convert');\n",
              "        buttonEl.style.display =\n",
              "          google.colab.kernel.accessAllowed ? 'block' : 'none';\n",
              "\n",
              "        async function convertToInteractive(key) {\n",
              "          const element = document.querySelector('#df-3c6e723c-d778-4a61-8449-bf22e6c6bd96');\n",
              "          const dataTable =\n",
              "            await google.colab.kernel.invokeFunction('convertToInteractive',\n",
              "                                                     [key], {});\n",
              "          if (!dataTable) return;\n",
              "\n",
              "          const docLinkHtml = 'Like what you see? Visit the ' +\n",
              "            '<a target=\"_blank\" href=https://colab.research.google.com/notebooks/data_table.ipynb>data table notebook</a>'\n",
              "            + ' to learn more about interactive tables.';\n",
              "          element.innerHTML = '';\n",
              "          dataTable['output_type'] = 'display_data';\n",
              "          await google.colab.output.renderOutput(dataTable, element);\n",
              "          const docLink = document.createElement('div');\n",
              "          docLink.innerHTML = docLinkHtml;\n",
              "          element.appendChild(docLink);\n",
              "        }\n",
              "      </script>\n",
              "    </div>\n",
              "  </div>\n",
              "  "
            ],
            "text/plain": [
              "            age  workclass  education  marital-status  occupation  \\\n",
              "0      0.030671   2.624298  -1.146982        0.921634   -1.545256   \n",
              "1      0.837109   1.721100  -1.146982       -0.406212   -0.790092   \n",
              "2     -0.042642  -0.085296  -0.320568       -1.734058   -0.286649   \n",
              "3      1.057047  -0.085296   0.919052       -0.406212   -0.286649   \n",
              "4     -0.775768  -0.085296  -1.146982       -0.406212    0.720237   \n",
              "...         ...        ...        ...             ...         ...   \n",
              "32556 -0.849080  -0.085296  -1.973395       -0.406212    1.475401   \n",
              "32557  0.103983  -0.085296  -0.320568       -0.406212   -0.034928   \n",
              "32558  1.423610  -0.085296  -0.320568        2.249480   -1.545256   \n",
              "32559 -1.215643  -0.085296  -0.320568        0.921634   -1.545256   \n",
              "32560  0.983734   0.817902  -0.320568       -0.406212   -0.790092   \n",
              "\n",
              "       relationship      race       sex  hours-per-week  native-country  \n",
              "0         -0.277805  0.393668  0.703071       -0.035429        0.307208  \n",
              "1         -0.900181  0.393668  0.703071       -2.222153        0.307208  \n",
              "2         -0.277805  0.393668  0.703071       -0.035429        0.307208  \n",
              "3         -0.900181 -1.962621  0.703071       -0.035429        0.307208  \n",
              "4          2.211698 -1.962621 -1.422331       -0.035429       -3.255119  \n",
              "...             ...       ...       ...             ...             ...  \n",
              "32556      2.211698  0.393668 -1.422331       -0.197409        0.307208  \n",
              "32557     -0.900181  0.393668  0.703071       -0.035429        0.307208  \n",
              "32558      1.589322  0.393668 -1.422331       -0.035429        0.307208  \n",
              "32559      0.966947  0.393668  0.703071       -1.655225        0.307208  \n",
              "32560      2.211698  0.393668 -1.422331       -0.035429        0.307208  \n",
              "\n",
              "[32561 rows x 10 columns]"
            ]
          },
          "execution_count": 113,
          "metadata": {},
          "output_type": "execute_result"
        }
      ],
      "source": [
        "# Scale the input values\n",
        "scaler = StandardScaler()\n",
        "\n",
        "target_class = knn_data['class']\n",
        "input_values = knn_data.drop(['class'], axis=1)\n",
        "\n",
        "knn_data_scaled = pd.DataFrame(scaler.fit_transform(input_values), columns = input_values.columns)\n",
        "\n",
        "knn_data_scaled"
      ]
    },
    {
      "cell_type": "code",
      "execution_count": 114,
      "metadata": {
        "id": "QNqSQ1W1xWjL"
      },
      "outputs": [],
      "source": [
        "X_train_knn, X_test_knn, y_train_knn, y_test_knn = train_test_split(knn_data_scaled, target_class, test_size=0.3, random_state=seed)"
      ]
    },
    {
      "cell_type": "code",
      "execution_count": 115,
      "metadata": {
        "id": "VciTi9rPxmMB"
      },
      "outputs": [],
      "source": [
        "# n_neighbors -> number of neighbors to consider\n",
        "# weights -> weightage given is uniform or based of proximity\n",
        "# metric -> distance metric\n",
        "\n",
        "param_grid_knn = {'n_neighbors': list(range(5, 21)), \n",
        "              'weights': ['uniform', 'distance'],\n",
        "              'metric': ['l1', 'l2', 'cosine']\n",
        "             }"
      ]
    },
    {
      "cell_type": "code",
      "execution_count": 116,
      "metadata": {
        "colab": {
          "base_uri": "https://localhost:8080/"
        },
        "id": "noccKoOCxouH",
        "outputId": "63c05823-37c2-43f8-f769-af988a39ead2"
      },
      "outputs": [
        {
          "data": {
            "text/plain": [
              "GridSearchCV(estimator=KNeighborsClassifier(),\n",
              "             param_grid={'metric': ['l1', 'l2', 'cosine'],\n",
              "                         'n_neighbors': [5, 6, 7, 8, 9, 10, 11, 12, 13, 14, 15,\n",
              "                                         16, 17, 18, 19, 20],\n",
              "                         'weights': ['uniform', 'distance']})"
            ]
          },
          "execution_count": 116,
          "metadata": {},
          "output_type": "execute_result"
        }
      ],
      "source": [
        "# create a parameter grid to check the best model hyperparameters\n",
        "knn = KNeighborsClassifier()\n",
        "\n",
        "# using gridsearchCV to find the best combinations of hyperparameters\n",
        "clf_knn = GridSearchCV(knn, param_grid_knn)\n",
        "\n",
        "clf_knn.fit(X_train_knn, y_train_knn)"
      ]
    },
    {
      "cell_type": "code",
      "execution_count": 117,
      "metadata": {
        "colab": {
          "base_uri": "https://localhost:8080/",
          "height": 1000
        },
        "id": "NEJkaLB3yobj",
        "outputId": "29151cb1-41c9-488f-b997-2355829541f6"
      },
      "outputs": [
        {
          "data": {
            "text/html": [
              "\n",
              "  <div id=\"df-d1eb7538-156f-4c1c-851d-81118ee88417\">\n",
              "    <div class=\"colab-df-container\">\n",
              "      <div>\n",
              "<style scoped>\n",
              "    .dataframe tbody tr th:only-of-type {\n",
              "        vertical-align: middle;\n",
              "    }\n",
              "\n",
              "    .dataframe tbody tr th {\n",
              "        vertical-align: top;\n",
              "    }\n",
              "\n",
              "    .dataframe thead th {\n",
              "        text-align: right;\n",
              "    }\n",
              "</style>\n",
              "<table border=\"1\" class=\"dataframe\">\n",
              "  <thead>\n",
              "    <tr style=\"text-align: right;\">\n",
              "      <th></th>\n",
              "      <th>mean_fit_time</th>\n",
              "      <th>std_fit_time</th>\n",
              "      <th>mean_score_time</th>\n",
              "      <th>std_score_time</th>\n",
              "      <th>param_metric</th>\n",
              "      <th>param_n_neighbors</th>\n",
              "      <th>param_weights</th>\n",
              "      <th>params</th>\n",
              "      <th>split0_test_score</th>\n",
              "      <th>split1_test_score</th>\n",
              "      <th>split2_test_score</th>\n",
              "      <th>split3_test_score</th>\n",
              "      <th>split4_test_score</th>\n",
              "      <th>mean_test_score</th>\n",
              "      <th>std_test_score</th>\n",
              "      <th>rank_test_score</th>\n",
              "    </tr>\n",
              "  </thead>\n",
              "  <tbody>\n",
              "    <tr>\n",
              "      <th>0</th>\n",
              "      <td>0.030824</td>\n",
              "      <td>0.002677</td>\n",
              "      <td>0.661971</td>\n",
              "      <td>0.011878</td>\n",
              "      <td>l1</td>\n",
              "      <td>5</td>\n",
              "      <td>uniform</td>\n",
              "      <td>{'metric': 'l1', 'n_neighbors': 5, 'weights': ...</td>\n",
              "      <td>0.816626</td>\n",
              "      <td>0.824742</td>\n",
              "      <td>0.806933</td>\n",
              "      <td>0.816367</td>\n",
              "      <td>0.813295</td>\n",
              "      <td>0.815593</td>\n",
              "      <td>0.005756</td>\n",
              "      <td>36</td>\n",
              "    </tr>\n",
              "    <tr>\n",
              "      <th>1</th>\n",
              "      <td>0.028781</td>\n",
              "      <td>0.000552</td>\n",
              "      <td>0.546966</td>\n",
              "      <td>0.002623</td>\n",
              "      <td>l1</td>\n",
              "      <td>5</td>\n",
              "      <td>distance</td>\n",
              "      <td>{'metric': 'l1', 'n_neighbors': 5, 'weights': ...</td>\n",
              "      <td>0.806756</td>\n",
              "      <td>0.819697</td>\n",
              "      <td>0.796841</td>\n",
              "      <td>0.800351</td>\n",
              "      <td>0.797938</td>\n",
              "      <td>0.804317</td>\n",
              "      <td>0.008424</td>\n",
              "      <td>81</td>\n",
              "    </tr>\n",
              "    <tr>\n",
              "      <th>2</th>\n",
              "      <td>0.028580</td>\n",
              "      <td>0.000375</td>\n",
              "      <td>0.687795</td>\n",
              "      <td>0.006945</td>\n",
              "      <td>l1</td>\n",
              "      <td>6</td>\n",
              "      <td>uniform</td>\n",
              "      <td>{'metric': 'l1', 'n_neighbors': 6, 'weights': ...</td>\n",
              "      <td>0.821671</td>\n",
              "      <td>0.817943</td>\n",
              "      <td>0.815050</td>\n",
              "      <td>0.819000</td>\n",
              "      <td>0.813295</td>\n",
              "      <td>0.817392</td>\n",
              "      <td>0.002948</td>\n",
              "      <td>19</td>\n",
              "    </tr>\n",
              "    <tr>\n",
              "      <th>3</th>\n",
              "      <td>0.028509</td>\n",
              "      <td>0.000410</td>\n",
              "      <td>0.575948</td>\n",
              "      <td>0.009370</td>\n",
              "      <td>l1</td>\n",
              "      <td>6</td>\n",
              "      <td>distance</td>\n",
              "      <td>{'metric': 'l1', 'n_neighbors': 6, 'weights': ...</td>\n",
              "      <td>0.810265</td>\n",
              "      <td>0.821452</td>\n",
              "      <td>0.799035</td>\n",
              "      <td>0.803861</td>\n",
              "      <td>0.800790</td>\n",
              "      <td>0.807081</td>\n",
              "      <td>0.008141</td>\n",
              "      <td>75</td>\n",
              "    </tr>\n",
              "    <tr>\n",
              "      <th>4</th>\n",
              "      <td>0.032038</td>\n",
              "      <td>0.003159</td>\n",
              "      <td>0.729762</td>\n",
              "      <td>0.033941</td>\n",
              "      <td>l1</td>\n",
              "      <td>7</td>\n",
              "      <td>uniform</td>\n",
              "      <td>{'metric': 'l1', 'n_neighbors': 7, 'weights': ...</td>\n",
              "      <td>0.826278</td>\n",
              "      <td>0.824962</td>\n",
              "      <td>0.815709</td>\n",
              "      <td>0.815928</td>\n",
              "      <td>0.817025</td>\n",
              "      <td>0.819980</td>\n",
              "      <td>0.004645</td>\n",
              "      <td>14</td>\n",
              "    </tr>\n",
              "    <tr>\n",
              "      <th>...</th>\n",
              "      <td>...</td>\n",
              "      <td>...</td>\n",
              "      <td>...</td>\n",
              "      <td>...</td>\n",
              "      <td>...</td>\n",
              "      <td>...</td>\n",
              "      <td>...</td>\n",
              "      <td>...</td>\n",
              "      <td>...</td>\n",
              "      <td>...</td>\n",
              "      <td>...</td>\n",
              "      <td>...</td>\n",
              "      <td>...</td>\n",
              "      <td>...</td>\n",
              "      <td>...</td>\n",
              "      <td>...</td>\n",
              "    </tr>\n",
              "    <tr>\n",
              "      <th>91</th>\n",
              "      <td>0.004425</td>\n",
              "      <td>0.000053</td>\n",
              "      <td>1.425715</td>\n",
              "      <td>0.012220</td>\n",
              "      <td>cosine</td>\n",
              "      <td>18</td>\n",
              "      <td>distance</td>\n",
              "      <td>{'metric': 'cosine', 'n_neighbors': 18, 'weigh...</td>\n",
              "      <td>0.809607</td>\n",
              "      <td>0.819039</td>\n",
              "      <td>0.799254</td>\n",
              "      <td>0.797499</td>\n",
              "      <td>0.795963</td>\n",
              "      <td>0.804273</td>\n",
              "      <td>0.008794</td>\n",
              "      <td>82</td>\n",
              "    </tr>\n",
              "    <tr>\n",
              "      <th>92</th>\n",
              "      <td>0.004460</td>\n",
              "      <td>0.000036</td>\n",
              "      <td>1.555753</td>\n",
              "      <td>0.039055</td>\n",
              "      <td>cosine</td>\n",
              "      <td>19</td>\n",
              "      <td>uniform</td>\n",
              "      <td>{'metric': 'cosine', 'n_neighbors': 19, 'weigh...</td>\n",
              "      <td>0.825620</td>\n",
              "      <td>0.817943</td>\n",
              "      <td>0.811979</td>\n",
              "      <td>0.809346</td>\n",
              "      <td>0.811979</td>\n",
              "      <td>0.815373</td>\n",
              "      <td>0.005847</td>\n",
              "      <td>38</td>\n",
              "    </tr>\n",
              "    <tr>\n",
              "      <th>93</th>\n",
              "      <td>0.004337</td>\n",
              "      <td>0.000087</td>\n",
              "      <td>1.430942</td>\n",
              "      <td>0.023956</td>\n",
              "      <td>cosine</td>\n",
              "      <td>19</td>\n",
              "      <td>distance</td>\n",
              "      <td>{'metric': 'cosine', 'n_neighbors': 19, 'weigh...</td>\n",
              "      <td>0.811362</td>\n",
              "      <td>0.819039</td>\n",
              "      <td>0.799693</td>\n",
              "      <td>0.797938</td>\n",
              "      <td>0.795963</td>\n",
              "      <td>0.804799</td>\n",
              "      <td>0.008912</td>\n",
              "      <td>78</td>\n",
              "    </tr>\n",
              "    <tr>\n",
              "      <th>94</th>\n",
              "      <td>0.004488</td>\n",
              "      <td>0.000076</td>\n",
              "      <td>1.537286</td>\n",
              "      <td>0.028467</td>\n",
              "      <td>cosine</td>\n",
              "      <td>20</td>\n",
              "      <td>uniform</td>\n",
              "      <td>{'metric': 'cosine', 'n_neighbors': 20, 'weigh...</td>\n",
              "      <td>0.823207</td>\n",
              "      <td>0.817723</td>\n",
              "      <td>0.810882</td>\n",
              "      <td>0.810004</td>\n",
              "      <td>0.812418</td>\n",
              "      <td>0.814847</td>\n",
              "      <td>0.004965</td>\n",
              "      <td>41</td>\n",
              "    </tr>\n",
              "    <tr>\n",
              "      <th>95</th>\n",
              "      <td>0.004337</td>\n",
              "      <td>0.000090</td>\n",
              "      <td>1.424058</td>\n",
              "      <td>0.021496</td>\n",
              "      <td>cosine</td>\n",
              "      <td>20</td>\n",
              "      <td>distance</td>\n",
              "      <td>{'metric': 'cosine', 'n_neighbors': 20, 'weigh...</td>\n",
              "      <td>0.810485</td>\n",
              "      <td>0.818381</td>\n",
              "      <td>0.799693</td>\n",
              "      <td>0.797938</td>\n",
              "      <td>0.796841</td>\n",
              "      <td>0.804667</td>\n",
              "      <td>0.008405</td>\n",
              "      <td>80</td>\n",
              "    </tr>\n",
              "  </tbody>\n",
              "</table>\n",
              "<p>96 rows × 16 columns</p>\n",
              "</div>\n",
              "      <button class=\"colab-df-convert\" onclick=\"convertToInteractive('df-d1eb7538-156f-4c1c-851d-81118ee88417')\"\n",
              "              title=\"Convert this dataframe to an interactive table.\"\n",
              "              style=\"display:none;\">\n",
              "        \n",
              "  <svg xmlns=\"http://www.w3.org/2000/svg\" height=\"24px\"viewBox=\"0 0 24 24\"\n",
              "       width=\"24px\">\n",
              "    <path d=\"M0 0h24v24H0V0z\" fill=\"none\"/>\n",
              "    <path d=\"M18.56 5.44l.94 2.06.94-2.06 2.06-.94-2.06-.94-.94-2.06-.94 2.06-2.06.94zm-11 1L8.5 8.5l.94-2.06 2.06-.94-2.06-.94L8.5 2.5l-.94 2.06-2.06.94zm10 10l.94 2.06.94-2.06 2.06-.94-2.06-.94-.94-2.06-.94 2.06-2.06.94z\"/><path d=\"M17.41 7.96l-1.37-1.37c-.4-.4-.92-.59-1.43-.59-.52 0-1.04.2-1.43.59L10.3 9.45l-7.72 7.72c-.78.78-.78 2.05 0 2.83L4 21.41c.39.39.9.59 1.41.59.51 0 1.02-.2 1.41-.59l7.78-7.78 2.81-2.81c.8-.78.8-2.07 0-2.86zM5.41 20L4 18.59l7.72-7.72 1.47 1.35L5.41 20z\"/>\n",
              "  </svg>\n",
              "      </button>\n",
              "      \n",
              "  <style>\n",
              "    .colab-df-container {\n",
              "      display:flex;\n",
              "      flex-wrap:wrap;\n",
              "      gap: 12px;\n",
              "    }\n",
              "\n",
              "    .colab-df-convert {\n",
              "      background-color: #E8F0FE;\n",
              "      border: none;\n",
              "      border-radius: 50%;\n",
              "      cursor: pointer;\n",
              "      display: none;\n",
              "      fill: #1967D2;\n",
              "      height: 32px;\n",
              "      padding: 0 0 0 0;\n",
              "      width: 32px;\n",
              "    }\n",
              "\n",
              "    .colab-df-convert:hover {\n",
              "      background-color: #E2EBFA;\n",
              "      box-shadow: 0px 1px 2px rgba(60, 64, 67, 0.3), 0px 1px 3px 1px rgba(60, 64, 67, 0.15);\n",
              "      fill: #174EA6;\n",
              "    }\n",
              "\n",
              "    [theme=dark] .colab-df-convert {\n",
              "      background-color: #3B4455;\n",
              "      fill: #D2E3FC;\n",
              "    }\n",
              "\n",
              "    [theme=dark] .colab-df-convert:hover {\n",
              "      background-color: #434B5C;\n",
              "      box-shadow: 0px 1px 3px 1px rgba(0, 0, 0, 0.15);\n",
              "      filter: drop-shadow(0px 1px 2px rgba(0, 0, 0, 0.3));\n",
              "      fill: #FFFFFF;\n",
              "    }\n",
              "  </style>\n",
              "\n",
              "      <script>\n",
              "        const buttonEl =\n",
              "          document.querySelector('#df-d1eb7538-156f-4c1c-851d-81118ee88417 button.colab-df-convert');\n",
              "        buttonEl.style.display =\n",
              "          google.colab.kernel.accessAllowed ? 'block' : 'none';\n",
              "\n",
              "        async function convertToInteractive(key) {\n",
              "          const element = document.querySelector('#df-d1eb7538-156f-4c1c-851d-81118ee88417');\n",
              "          const dataTable =\n",
              "            await google.colab.kernel.invokeFunction('convertToInteractive',\n",
              "                                                     [key], {});\n",
              "          if (!dataTable) return;\n",
              "\n",
              "          const docLinkHtml = 'Like what you see? Visit the ' +\n",
              "            '<a target=\"_blank\" href=https://colab.research.google.com/notebooks/data_table.ipynb>data table notebook</a>'\n",
              "            + ' to learn more about interactive tables.';\n",
              "          element.innerHTML = '';\n",
              "          dataTable['output_type'] = 'display_data';\n",
              "          await google.colab.output.renderOutput(dataTable, element);\n",
              "          const docLink = document.createElement('div');\n",
              "          docLink.innerHTML = docLinkHtml;\n",
              "          element.appendChild(docLink);\n",
              "        }\n",
              "      </script>\n",
              "    </div>\n",
              "  </div>\n",
              "  "
            ],
            "text/plain": [
              "    mean_fit_time  std_fit_time  mean_score_time  std_score_time param_metric  \\\n",
              "0        0.030824      0.002677         0.661971        0.011878           l1   \n",
              "1        0.028781      0.000552         0.546966        0.002623           l1   \n",
              "2        0.028580      0.000375         0.687795        0.006945           l1   \n",
              "3        0.028509      0.000410         0.575948        0.009370           l1   \n",
              "4        0.032038      0.003159         0.729762        0.033941           l1   \n",
              "..            ...           ...              ...             ...          ...   \n",
              "91       0.004425      0.000053         1.425715        0.012220       cosine   \n",
              "92       0.004460      0.000036         1.555753        0.039055       cosine   \n",
              "93       0.004337      0.000087         1.430942        0.023956       cosine   \n",
              "94       0.004488      0.000076         1.537286        0.028467       cosine   \n",
              "95       0.004337      0.000090         1.424058        0.021496       cosine   \n",
              "\n",
              "   param_n_neighbors param_weights  \\\n",
              "0                  5       uniform   \n",
              "1                  5      distance   \n",
              "2                  6       uniform   \n",
              "3                  6      distance   \n",
              "4                  7       uniform   \n",
              "..               ...           ...   \n",
              "91                18      distance   \n",
              "92                19       uniform   \n",
              "93                19      distance   \n",
              "94                20       uniform   \n",
              "95                20      distance   \n",
              "\n",
              "                                               params  split0_test_score  \\\n",
              "0   {'metric': 'l1', 'n_neighbors': 5, 'weights': ...           0.816626   \n",
              "1   {'metric': 'l1', 'n_neighbors': 5, 'weights': ...           0.806756   \n",
              "2   {'metric': 'l1', 'n_neighbors': 6, 'weights': ...           0.821671   \n",
              "3   {'metric': 'l1', 'n_neighbors': 6, 'weights': ...           0.810265   \n",
              "4   {'metric': 'l1', 'n_neighbors': 7, 'weights': ...           0.826278   \n",
              "..                                                ...                ...   \n",
              "91  {'metric': 'cosine', 'n_neighbors': 18, 'weigh...           0.809607   \n",
              "92  {'metric': 'cosine', 'n_neighbors': 19, 'weigh...           0.825620   \n",
              "93  {'metric': 'cosine', 'n_neighbors': 19, 'weigh...           0.811362   \n",
              "94  {'metric': 'cosine', 'n_neighbors': 20, 'weigh...           0.823207   \n",
              "95  {'metric': 'cosine', 'n_neighbors': 20, 'weigh...           0.810485   \n",
              "\n",
              "    split1_test_score  split2_test_score  split3_test_score  \\\n",
              "0            0.824742           0.806933           0.816367   \n",
              "1            0.819697           0.796841           0.800351   \n",
              "2            0.817943           0.815050           0.819000   \n",
              "3            0.821452           0.799035           0.803861   \n",
              "4            0.824962           0.815709           0.815928   \n",
              "..                ...                ...                ...   \n",
              "91           0.819039           0.799254           0.797499   \n",
              "92           0.817943           0.811979           0.809346   \n",
              "93           0.819039           0.799693           0.797938   \n",
              "94           0.817723           0.810882           0.810004   \n",
              "95           0.818381           0.799693           0.797938   \n",
              "\n",
              "    split4_test_score  mean_test_score  std_test_score  rank_test_score  \n",
              "0            0.813295         0.815593        0.005756               36  \n",
              "1            0.797938         0.804317        0.008424               81  \n",
              "2            0.813295         0.817392        0.002948               19  \n",
              "3            0.800790         0.807081        0.008141               75  \n",
              "4            0.817025         0.819980        0.004645               14  \n",
              "..                ...              ...             ...              ...  \n",
              "91           0.795963         0.804273        0.008794               82  \n",
              "92           0.811979         0.815373        0.005847               38  \n",
              "93           0.795963         0.804799        0.008912               78  \n",
              "94           0.812418         0.814847        0.004965               41  \n",
              "95           0.796841         0.804667        0.008405               80  \n",
              "\n",
              "[96 rows x 16 columns]"
            ]
          },
          "execution_count": 117,
          "metadata": {},
          "output_type": "execute_result"
        }
      ],
      "source": [
        "cv_results_knn = pd.DataFrame(clf_knn.cv_results_)\n",
        "\n",
        "cv_results_knn"
      ]
    },
    {
      "cell_type": "code",
      "execution_count": 118,
      "metadata": {
        "colab": {
          "base_uri": "https://localhost:8080/"
        },
        "id": "-G0dcRpsy0SR",
        "outputId": "bf49dfc0-36cc-4b6f-f965-328fa570eb49"
      },
      "outputs": [
        {
          "name": "stdout",
          "output_type": "stream",
          "text": [
            "{'metric': 'l1', 'n_neighbors': 19, 'weights': 'uniform'}\n"
          ]
        }
      ],
      "source": [
        "# attirbute that gives the parameter setting for the best results\n",
        "print(clf_knn.best_params_)"
      ]
    },
    {
      "cell_type": "markdown",
      "metadata": {
        "id": "auwb9IeZyVQc"
      },
      "source": [
        "Therefore, the best set of hyperparameters from the grid search are:\n",
        "- n_neighbors = 18\n",
        "- weights = uniform\n",
        "- metric = l1\n",
        "\n",
        "We will use this to model a KNN in the k-fold cross validation step next."
      ]
    },
    {
      "cell_type": "code",
      "execution_count": 119,
      "metadata": {
        "id": "8RZoc3Bz6x0S"
      },
      "outputs": [],
      "source": [
        "# make k folds\n",
        "k = 5\n",
        "\n",
        "folds = np.array_split(knn_data.sample(frac=1, random_state=seed), indices_or_sections=k)"
      ]
    },
    {
      "cell_type": "code",
      "execution_count": 120,
      "metadata": {
        "colab": {
          "base_uri": "https://localhost:8080/"
        },
        "id": "x_DFdZTUuXqo",
        "outputId": "581d3efd-40ad-463f-c867-8825903269c6"
      },
      "outputs": [
        {
          "name": "stdout",
          "output_type": "stream",
          "text": [
            "fold-1: 6513 samples\n",
            "\t Number of samples for 0 = 4918\n",
            "\t Number of samples for 1 = 1595\n",
            "fold-2: 6512 samples\n",
            "\t Number of samples for 0 = 4955\n",
            "\t Number of samples for 1 = 1557\n",
            "fold-3: 6512 samples\n",
            "\t Number of samples for 0 = 4909\n",
            "\t Number of samples for 1 = 1603\n",
            "fold-4: 6512 samples\n",
            "\t Number of samples for 0 = 4947\n",
            "\t Number of samples for 1 = 1565\n",
            "fold-5: 6512 samples\n",
            "\t Number of samples for 0 = 4991\n",
            "\t Number of samples for 1 = 1521\n"
          ]
        }
      ],
      "source": [
        "# check the number of samples and number of samples from each class in each fold\n",
        "\n",
        "for i in range(len(folds)):\n",
        "  fold_df = folds[i]\n",
        "  print(f\"fold-{i+1}: {len(fold_df)} samples\")\n",
        "  d = dict(fold_df.value_counts('class'))\n",
        "  for k in d:\n",
        "    print(f\"\\t Number of samples for {k} = {d[k]}\")"
      ]
    },
    {
      "cell_type": "markdown",
      "metadata": {
        "id": "hy3Cm7LIvG8-"
      },
      "source": [
        "From the above splits, can observe that there are fairy equal number of samples with target zeros and target ones across the folds, but the number of attributes with target 0 are over 3 times more than the number of attributes with target 1."
      ]
    },
    {
      "cell_type": "code",
      "execution_count": 121,
      "metadata": {
        "colab": {
          "base_uri": "https://localhost:8080/"
        },
        "id": "elRkKsgPueAs",
        "outputId": "e8e82438-964d-4725-8fa7-3b8f155d5bf3"
      },
      "outputs": [
        {
          "name": "stdout",
          "output_type": "stream",
          "text": [
            "Accuracy of KNN model on fold 1: 80.98 %\n",
            "Precision of KNN model on fold 1: 62.48 %\n",
            "Recall of KNN model on fold 1: 55.86 %\n",
            "\n",
            "\n",
            "Accuracy of KNN model on fold 2: 81.97 %\n",
            "Precision of KNN model on fold 2: 63.79 %\n",
            "Recall of KNN model on fold 2: 56.90 %\n",
            "\n",
            "\n",
            "Accuracy of KNN model on fold 3: 80.77 %\n",
            "Precision of KNN model on fold 3: 62.56 %\n",
            "Recall of KNN model on fold 3: 54.52 %\n",
            "\n",
            "\n",
            "Accuracy of KNN model on fold 4: 80.87 %\n",
            "Precision of KNN model on fold 4: 61.18 %\n",
            "Recall of KNN model on fold 4: 55.78 %\n",
            "\n",
            "\n",
            "Accuracy of KNN model on fold 5: 81.48 %\n",
            "Precision of KNN model on fold 5: 60.85 %\n",
            "Recall of KNN model on fold 5: 58.05 %\n",
            "\n",
            "\n"
          ]
        }
      ],
      "source": [
        "knn_accuracies = []\n",
        "knn_precisions = []\n",
        "knn_recalls = []\n",
        "knn_f1s = []\n",
        "\n",
        "for i in range(len(folds)):\n",
        "\n",
        "  # create the val - X and y using fold-i\n",
        "  val = folds[i]\n",
        "  val_X = val.drop(['class'], axis=1)\n",
        "  val_y = val[['class']]\n",
        "\n",
        "  # create the train - X and y using all folds except fold-i\n",
        "  a = folds[ (i+1) % 5 ]\n",
        "  b = folds[ (i+2) % 5 ]\n",
        "  c = folds[ (i+3) % 5 ]\n",
        "  d = folds[ (i+4) % 5 ]\n",
        "  partial_folds = [a,b,c,d]\n",
        "  new_train = pd.concat(partial_folds, sort=False)\n",
        "\n",
        "  train_X = new_train.drop(['class'], axis=1)\n",
        "  train_y = new_train[['class']]\n",
        "\n",
        "  # training the KNN classifier based on the hyperparameters obtained from the CV grid search\n",
        "  knn = KNeighborsClassifier(n_neighbors = 19,  weights='uniform', metric='l1')\n",
        "  knn.fit(train_X, train_y.values.ravel())\n",
        "\n",
        "  # make predictions on validation set\n",
        "  y_pred_knn = knn.predict(val_X)\n",
        "\n",
        "  # compute accuracy\n",
        "  fold_acc = accuracy_score(val_y, y_pred_knn)\n",
        "  fold_pre = precision_score(val_y, y_pred_knn)\n",
        "  fold_rec = recall_score(val_y, y_pred_knn)\n",
        "  fold_f1 = f1_score(val_y, y_pred_knn)\n",
        "\n",
        "  knn_accuracies.append(fold_acc)\n",
        "  knn_precisions.append(fold_pre)\n",
        "  knn_recalls.append(fold_rec)\n",
        "  knn_f1s.append(fold_f1)\n",
        "\n",
        "  print(f\"Accuracy of KNN model on fold {i+1}: %.2f\" % (fold_acc*100),\"%\")\n",
        "  print(f\"Precision of KNN model on fold {i+1}: %.2f\" % (fold_pre*100),\"%\")\n",
        "  print(f\"Recall of KNN model on fold {i+1}: %.2f\" % (fold_rec*100),\"%\")\n",
        "  print(\"\\n\")"
      ]
    },
    {
      "cell_type": "code",
      "execution_count": 123,
      "metadata": {
        "colab": {
          "base_uri": "https://localhost:8080/"
        },
        "id": "2srNXMdOvucS",
        "outputId": "f55960e3-4a28-4c4a-88d2-41cc8418d51a"
      },
      "outputs": [
        {
          "name": "stdout",
          "output_type": "stream",
          "text": [
            "Mean accuracy: 81.21 %\n",
            "Standard deviation of accuracy: 0.0045\n"
          ]
        }
      ],
      "source": [
        "print('Mean accuracy: {:.2f}'.format(np.mean(knn_accuracies)*100),\"%\")\n",
        "print('Standard deviation of accuracy: {:.4f}'.format(np.std(knn_accuracies)))"
      ]
    },
    {
      "cell_type": "code",
      "execution_count": 125,
      "metadata": {
        "colab": {
          "base_uri": "https://localhost:8080/"
        },
        "id": "j3WiRJ6O1i0m",
        "outputId": "7ca844e5-a21a-40f3-be9a-b992b827720f"
      },
      "outputs": [
        {
          "name": "stdout",
          "output_type": "stream",
          "text": [
            "Mean precision: 62.17 %\n",
            "Standard deviation of precision: 0.0106\n"
          ]
        }
      ],
      "source": [
        "print('Mean precision: {:.2f}'.format(np.mean(knn_precisions)*100),\"%\")\n",
        "print('Standard deviation of precision: {:.4f}'.format(np.std(knn_precisions)))"
      ]
    },
    {
      "cell_type": "code",
      "execution_count": 126,
      "metadata": {
        "colab": {
          "base_uri": "https://localhost:8080/"
        },
        "id": "c6WZbTgV1wsf",
        "outputId": "39e3814e-d26f-482d-eedd-b27c4effc2db"
      },
      "outputs": [
        {
          "name": "stdout",
          "output_type": "stream",
          "text": [
            "Mean recall: 56.23 %\n",
            "Standard deviation of recall: 0.0119\n"
          ]
        }
      ],
      "source": [
        "print('Mean recall: {:.2f}'.format(np.mean(knn_recalls)*100),\"%\")\n",
        "print('Standard deviation of recall: {:.4f}'.format(np.std(knn_recalls)))"
      ]
    },
    {
      "cell_type": "code",
      "execution_count": 127,
      "metadata": {
        "colab": {
          "base_uri": "https://localhost:8080/"
        },
        "id": "xavwyV4j3jTt",
        "outputId": "9c8b28bf-8777-4569-ae9a-6ebd3a0edb1a"
      },
      "outputs": [
        {
          "name": "stdout",
          "output_type": "stream",
          "text": [
            "Mean f1 score: 0.59\n",
            "Standard deviation of f1 score: 0.0070\n"
          ]
        }
      ],
      "source": [
        "print('Mean f1 score: {:.2f}'.format(np.mean(knn_f1s)))\n",
        "print('Standard deviation of f1 score: {:.4f}'.format(np.std(knn_f1s)))"
      ]
    },
    {
      "cell_type": "markdown",
      "metadata": {
        "id": "K0nQIhZC13nk"
      },
      "source": [
        "# ---------------------"
      ]
    },
    {
      "cell_type": "markdown",
      "metadata": {
        "id": "WePuGyzO2C-l"
      },
      "source": [
        "# RESULTS"
      ]
    },
    {
      "cell_type": "markdown",
      "metadata": {
        "id": "6wOpnM932G4k"
      },
      "source": [
        "### 1. Random Forest"
      ]
    },
    {
      "cell_type": "markdown",
      "metadata": {
        "id": "3nK3A7CB2J7s"
      },
      "source": [
        "*   Best Hyperparameters - \n",
        "  - bootstrap: True\n",
        "  - criterion: gini\n",
        "  - max_features: sqrt\n",
        "  - n_estimators: 100\n",
        "*   Accuracy - 81.84%\n",
        "*   Precision - 65.14%\n",
        "*   Recall - 53.71%\n",
        "*   F1-score - 0.588\n",
        "\n",
        "---\n",
        "\n",
        "*   Best Hyperparameters - \n",
        "  - metric: l1\n",
        "  - neighbors: 19\n",
        "  - weights: uniform\n",
        "*   Accuracy - 81.21%\n",
        "*   Precision - 61.27%\n",
        "*   Recall - 56.23%\n",
        "*   F1-score - 0.59\n",
        "\n",
        "\n",
        "\n",
        "---"
      ]
    },
    {
      "cell_type": "markdown",
      "metadata": {
        "id": "FsTgx1dG37pH"
      },
      "source": [
        "Based on the results, we can observe the accuracies achieved by the two models - the Random Forest and the KNN model.\n",
        "\n",
        "A reason for the accuracy not crossing into the 90+ range could be because the number of samples of individuals earning more than 50K per years is really low in comparison to the number of individuals earning less than 50K per year.\n",
        "\n",
        "Despite the imbalance in samples per class, the models managed to cross 80% but with a low recall as the class with lesser samples was not classified correctly 50% of the times.\n",
        "\n",
        "\n",
        "---\n",
        "\n",
        "As part of this homework I used multiple different concepts taught in CSE 572 - data mining. \n",
        "- Data cleaning\n",
        "- Removing NaN Values\n",
        "- Data visualization\n",
        "- Feature Engineering\n",
        "- Feature Selection\n",
        "- Standardization\n",
        "- Random Forest Model\n",
        "- K-Nearest Neighbors Model\n",
        "- GridSearchCV for optimal hyperparameters\n",
        "- K-folds cross validations\n",
        "\n",
        "---"
      ]
    },
    {
      "cell_type": "markdown",
      "metadata": {
        "id": "4yO61vdg30_1"
      },
      "source": [
        "END OF NOTEBOOK"
      ]
    }
  ],
  "metadata": {
    "colab": {
      "provenance": []
    },
    "kernelspec": {
      "display_name": "Python 3",
      "name": "python3"
    },
    "language_info": {
      "name": "python"
    }
  },
  "nbformat": 4,
  "nbformat_minor": 0
}
